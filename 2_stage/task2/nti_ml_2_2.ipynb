{
 "cells": [
  {
   "cell_type": "markdown",
   "metadata": {},
   "source": [
    "# Предподготовка данных"
   ]
  },
  {
   "cell_type": "code",
   "execution_count": 2,
   "metadata": {},
   "outputs": [],
   "source": [
    "import pandas as pd\n",
    "import numpy as np\n",
    "\n",
    "import datetime"
   ]
  },
  {
   "cell_type": "code",
   "execution_count": 3,
   "metadata": {},
   "outputs": [],
   "source": [
    "df_train = pd.read_csv(\"data/train.csv\")"
   ]
  },
  {
   "cell_type": "code",
   "execution_count": 4,
   "metadata": {},
   "outputs": [
    {
     "data": {
      "text/plain": [
       "Index(['Unnamed: 0', 'Год', 'Месяц', 'День', 'Время', 'Канал', 'Все 18+_TVR',\n",
       "       'Все 55+_TVR', 'Все 18+_Share', 'Все 55+_Share', 'Дата_День',\n",
       "       'next_day', 'Дата'],\n",
       "      dtype='object')"
      ]
     },
     "execution_count": 4,
     "metadata": {},
     "output_type": "execute_result"
    }
   ],
   "source": [
    "tvr_18 = \"Все 18+_TVR\"\n",
    "tvr_55 = \"Все 55+_TVR\"\n",
    "\n",
    "share_18 = \"Все 18+_Share\"\n",
    "share_55 = \"Все 55+_Share\"\n",
    "\n",
    "df_train.columns"
   ]
  },
  {
   "cell_type": "code",
   "execution_count": 5,
   "metadata": {},
   "outputs": [],
   "source": [
    "df_train[\"День\"] = df_train[\"День\"].apply(lambda x: int(x.split()[1]))"
   ]
  },
  {
   "cell_type": "code",
   "execution_count": 6,
   "metadata": {},
   "outputs": [
    {
     "data": {
      "text/plain": [
       "РЕН ТВ          14016\n",
       "ТНТ             14016\n",
       "СТС             14016\n",
       "РОССИЯ 1        14016\n",
       "ПЕРВЫЙ КАНАЛ    14016\n",
       "Name: Канал, dtype: int64"
      ]
     },
     "execution_count": 6,
     "metadata": {},
     "output_type": "execute_result"
    }
   ],
   "source": [
    "df_train[\"Канал\"].value_counts()"
   ]
  },
  {
   "cell_type": "code",
   "execution_count": 7,
   "metadata": {},
   "outputs": [],
   "source": [
    "dates = np.array(df_train[\"Дата_День\"])\n",
    "\n",
    "df_train[\"day_datetime\"] = df_train[\"Дата_День\"].apply(lambda x: datetime.datetime.strftime(datetime.datetime.strptime(x, \"%Y-%m-%d %H:%M:%S\"), \"%Y-%m-%d\"))\n",
    "df_train[\"weekday\"] = df_train[\"Дата_День\"].apply(lambda x: datetime.datetime.strptime(x, \"%Y-%m-%d %H:%M:%S\").weekday())"
   ]
  },
  {
   "cell_type": "code",
   "execution_count": 8,
   "metadata": {},
   "outputs": [
    {
     "data": {
      "text/html": [
       "<div>\n",
       "<style scoped>\n",
       "    .dataframe tbody tr th:only-of-type {\n",
       "        vertical-align: middle;\n",
       "    }\n",
       "\n",
       "    .dataframe tbody tr th {\n",
       "        vertical-align: top;\n",
       "    }\n",
       "\n",
       "    .dataframe thead th {\n",
       "        text-align: right;\n",
       "    }\n",
       "</style>\n",
       "<table border=\"1\" class=\"dataframe\">\n",
       "  <thead>\n",
       "    <tr style=\"text-align: right;\">\n",
       "      <th></th>\n",
       "      <th>Unnamed: 0</th>\n",
       "      <th>Год</th>\n",
       "      <th>Месяц</th>\n",
       "      <th>День</th>\n",
       "      <th>Время</th>\n",
       "      <th>Канал</th>\n",
       "      <th>Все 18+_TVR</th>\n",
       "      <th>Все 55+_TVR</th>\n",
       "      <th>Все 18+_Share</th>\n",
       "      <th>Все 55+_Share</th>\n",
       "      <th>Дата_День</th>\n",
       "      <th>next_day</th>\n",
       "      <th>Дата</th>\n",
       "      <th>day_datetime</th>\n",
       "      <th>weekday</th>\n",
       "    </tr>\n",
       "  </thead>\n",
       "  <tbody>\n",
       "    <tr>\n",
       "      <th>0</th>\n",
       "      <td>0</td>\n",
       "      <td>2018</td>\n",
       "      <td>Ноябрь</td>\n",
       "      <td>1</td>\n",
       "      <td>05:00:00 - 06:00:00</td>\n",
       "      <td>ПЕРВЫЙ КАНАЛ</td>\n",
       "      <td>0.21</td>\n",
       "      <td>0.12</td>\n",
       "      <td>5.23</td>\n",
       "      <td>2.00</td>\n",
       "      <td>2018-11-01 00:00:00</td>\n",
       "      <td>False</td>\n",
       "      <td>2018-11-01 05:00:00</td>\n",
       "      <td>2018-11-01</td>\n",
       "      <td>3</td>\n",
       "    </tr>\n",
       "    <tr>\n",
       "      <th>1</th>\n",
       "      <td>1</td>\n",
       "      <td>2018</td>\n",
       "      <td>Ноябрь</td>\n",
       "      <td>1</td>\n",
       "      <td>06:00:00 - 07:00:00</td>\n",
       "      <td>ПЕРВЫЙ КАНАЛ</td>\n",
       "      <td>0.71</td>\n",
       "      <td>0.33</td>\n",
       "      <td>11.23</td>\n",
       "      <td>4.90</td>\n",
       "      <td>2018-11-01 00:00:00</td>\n",
       "      <td>False</td>\n",
       "      <td>2018-11-01 06:00:00</td>\n",
       "      <td>2018-11-01</td>\n",
       "      <td>3</td>\n",
       "    </tr>\n",
       "    <tr>\n",
       "      <th>2</th>\n",
       "      <td>2</td>\n",
       "      <td>2018</td>\n",
       "      <td>Ноябрь</td>\n",
       "      <td>1</td>\n",
       "      <td>07:00:00 - 08:00:00</td>\n",
       "      <td>ПЕРВЫЙ КАНАЛ</td>\n",
       "      <td>1.10</td>\n",
       "      <td>0.59</td>\n",
       "      <td>14.58</td>\n",
       "      <td>6.49</td>\n",
       "      <td>2018-11-01 00:00:00</td>\n",
       "      <td>False</td>\n",
       "      <td>2018-11-01 07:00:00</td>\n",
       "      <td>2018-11-01</td>\n",
       "      <td>3</td>\n",
       "    </tr>\n",
       "    <tr>\n",
       "      <th>3</th>\n",
       "      <td>3</td>\n",
       "      <td>2018</td>\n",
       "      <td>Ноябрь</td>\n",
       "      <td>1</td>\n",
       "      <td>08:00:00 - 09:00:00</td>\n",
       "      <td>ПЕРВЫЙ КАНАЛ</td>\n",
       "      <td>0.96</td>\n",
       "      <td>0.94</td>\n",
       "      <td>10.41</td>\n",
       "      <td>7.41</td>\n",
       "      <td>2018-11-01 00:00:00</td>\n",
       "      <td>False</td>\n",
       "      <td>2018-11-01 08:00:00</td>\n",
       "      <td>2018-11-01</td>\n",
       "      <td>3</td>\n",
       "    </tr>\n",
       "    <tr>\n",
       "      <th>4</th>\n",
       "      <td>4</td>\n",
       "      <td>2018</td>\n",
       "      <td>Ноябрь</td>\n",
       "      <td>1</td>\n",
       "      <td>09:00:00 - 10:00:00</td>\n",
       "      <td>ПЕРВЫЙ КАНАЛ</td>\n",
       "      <td>1.94</td>\n",
       "      <td>3.81</td>\n",
       "      <td>17.54</td>\n",
       "      <td>21.51</td>\n",
       "      <td>2018-11-01 00:00:00</td>\n",
       "      <td>False</td>\n",
       "      <td>2018-11-01 09:00:00</td>\n",
       "      <td>2018-11-01</td>\n",
       "      <td>3</td>\n",
       "    </tr>\n",
       "    <tr>\n",
       "      <th>...</th>\n",
       "      <td>...</td>\n",
       "      <td>...</td>\n",
       "      <td>...</td>\n",
       "      <td>...</td>\n",
       "      <td>...</td>\n",
       "      <td>...</td>\n",
       "      <td>...</td>\n",
       "      <td>...</td>\n",
       "      <td>...</td>\n",
       "      <td>...</td>\n",
       "      <td>...</td>\n",
       "      <td>...</td>\n",
       "      <td>...</td>\n",
       "      <td>...</td>\n",
       "      <td>...</td>\n",
       "    </tr>\n",
       "    <tr>\n",
       "      <th>70075</th>\n",
       "      <td>87715</td>\n",
       "      <td>2020</td>\n",
       "      <td>Октябрь</td>\n",
       "      <td>31</td>\n",
       "      <td>24:00:00 - 25:00:00</td>\n",
       "      <td>ТНТ</td>\n",
       "      <td>1.17</td>\n",
       "      <td>0.39</td>\n",
       "      <td>6.08</td>\n",
       "      <td>1.65</td>\n",
       "      <td>2020-11-01 00:00:00</td>\n",
       "      <td>True</td>\n",
       "      <td>2020-11-01 00:00:00</td>\n",
       "      <td>2020-11-01</td>\n",
       "      <td>6</td>\n",
       "    </tr>\n",
       "    <tr>\n",
       "      <th>70076</th>\n",
       "      <td>87716</td>\n",
       "      <td>2020</td>\n",
       "      <td>Октябрь</td>\n",
       "      <td>31</td>\n",
       "      <td>25:00:00 - 26:00:00</td>\n",
       "      <td>ТНТ</td>\n",
       "      <td>0.79</td>\n",
       "      <td>0.01</td>\n",
       "      <td>6.45</td>\n",
       "      <td>0.06</td>\n",
       "      <td>2020-11-01 00:00:00</td>\n",
       "      <td>True</td>\n",
       "      <td>2020-11-01 01:00:00</td>\n",
       "      <td>2020-11-01</td>\n",
       "      <td>6</td>\n",
       "    </tr>\n",
       "    <tr>\n",
       "      <th>70077</th>\n",
       "      <td>87717</td>\n",
       "      <td>2020</td>\n",
       "      <td>Октябрь</td>\n",
       "      <td>31</td>\n",
       "      <td>26:00:00 - 27:00:00</td>\n",
       "      <td>ТНТ</td>\n",
       "      <td>0.04</td>\n",
       "      <td>0.03</td>\n",
       "      <td>0.53</td>\n",
       "      <td>0.28</td>\n",
       "      <td>2020-11-01 00:00:00</td>\n",
       "      <td>True</td>\n",
       "      <td>2020-11-01 02:00:00</td>\n",
       "      <td>2020-11-01</td>\n",
       "      <td>6</td>\n",
       "    </tr>\n",
       "    <tr>\n",
       "      <th>70078</th>\n",
       "      <td>87718</td>\n",
       "      <td>2020</td>\n",
       "      <td>Октябрь</td>\n",
       "      <td>31</td>\n",
       "      <td>27:00:00 - 28:00:00</td>\n",
       "      <td>ТНТ</td>\n",
       "      <td>0.23</td>\n",
       "      <td>0.37</td>\n",
       "      <td>4.71</td>\n",
       "      <td>5.79</td>\n",
       "      <td>2020-11-01 00:00:00</td>\n",
       "      <td>True</td>\n",
       "      <td>2020-11-01 03:00:00</td>\n",
       "      <td>2020-11-01</td>\n",
       "      <td>6</td>\n",
       "    </tr>\n",
       "    <tr>\n",
       "      <th>70079</th>\n",
       "      <td>87719</td>\n",
       "      <td>2020</td>\n",
       "      <td>Октябрь</td>\n",
       "      <td>31</td>\n",
       "      <td>28:00:00 - 29:00:00</td>\n",
       "      <td>ТНТ</td>\n",
       "      <td>0.06</td>\n",
       "      <td>0.17</td>\n",
       "      <td>1.71</td>\n",
       "      <td>3.48</td>\n",
       "      <td>2020-11-01 00:00:00</td>\n",
       "      <td>True</td>\n",
       "      <td>2020-11-01 04:00:00</td>\n",
       "      <td>2020-11-01</td>\n",
       "      <td>6</td>\n",
       "    </tr>\n",
       "  </tbody>\n",
       "</table>\n",
       "<p>70080 rows × 15 columns</p>\n",
       "</div>"
      ],
      "text/plain": [
       "       Unnamed: 0   Год    Месяц  День                Время         Канал  \\\n",
       "0               0  2018   Ноябрь     1  05:00:00 - 06:00:00  ПЕРВЫЙ КАНАЛ   \n",
       "1               1  2018   Ноябрь     1  06:00:00 - 07:00:00  ПЕРВЫЙ КАНАЛ   \n",
       "2               2  2018   Ноябрь     1  07:00:00 - 08:00:00  ПЕРВЫЙ КАНАЛ   \n",
       "3               3  2018   Ноябрь     1  08:00:00 - 09:00:00  ПЕРВЫЙ КАНАЛ   \n",
       "4               4  2018   Ноябрь     1  09:00:00 - 10:00:00  ПЕРВЫЙ КАНАЛ   \n",
       "...           ...   ...      ...   ...                  ...           ...   \n",
       "70075       87715  2020  Октябрь    31  24:00:00 - 25:00:00           ТНТ   \n",
       "70076       87716  2020  Октябрь    31  25:00:00 - 26:00:00           ТНТ   \n",
       "70077       87717  2020  Октябрь    31  26:00:00 - 27:00:00           ТНТ   \n",
       "70078       87718  2020  Октябрь    31  27:00:00 - 28:00:00           ТНТ   \n",
       "70079       87719  2020  Октябрь    31  28:00:00 - 29:00:00           ТНТ   \n",
       "\n",
       "       Все 18+_TVR  Все 55+_TVR  Все 18+_Share  Все 55+_Share  \\\n",
       "0             0.21         0.12           5.23           2.00   \n",
       "1             0.71         0.33          11.23           4.90   \n",
       "2             1.10         0.59          14.58           6.49   \n",
       "3             0.96         0.94          10.41           7.41   \n",
       "4             1.94         3.81          17.54          21.51   \n",
       "...            ...          ...            ...            ...   \n",
       "70075         1.17         0.39           6.08           1.65   \n",
       "70076         0.79         0.01           6.45           0.06   \n",
       "70077         0.04         0.03           0.53           0.28   \n",
       "70078         0.23         0.37           4.71           5.79   \n",
       "70079         0.06         0.17           1.71           3.48   \n",
       "\n",
       "                 Дата_День  next_day                 Дата day_datetime  \\\n",
       "0      2018-11-01 00:00:00     False  2018-11-01 05:00:00   2018-11-01   \n",
       "1      2018-11-01 00:00:00     False  2018-11-01 06:00:00   2018-11-01   \n",
       "2      2018-11-01 00:00:00     False  2018-11-01 07:00:00   2018-11-01   \n",
       "3      2018-11-01 00:00:00     False  2018-11-01 08:00:00   2018-11-01   \n",
       "4      2018-11-01 00:00:00     False  2018-11-01 09:00:00   2018-11-01   \n",
       "...                    ...       ...                  ...          ...   \n",
       "70075  2020-11-01 00:00:00      True  2020-11-01 00:00:00   2020-11-01   \n",
       "70076  2020-11-01 00:00:00      True  2020-11-01 01:00:00   2020-11-01   \n",
       "70077  2020-11-01 00:00:00      True  2020-11-01 02:00:00   2020-11-01   \n",
       "70078  2020-11-01 00:00:00      True  2020-11-01 03:00:00   2020-11-01   \n",
       "70079  2020-11-01 00:00:00      True  2020-11-01 04:00:00   2020-11-01   \n",
       "\n",
       "       weekday  \n",
       "0            3  \n",
       "1            3  \n",
       "2            3  \n",
       "3            3  \n",
       "4            3  \n",
       "...        ...  \n",
       "70075        6  \n",
       "70076        6  \n",
       "70077        6  \n",
       "70078        6  \n",
       "70079        6  \n",
       "\n",
       "[70080 rows x 15 columns]"
      ]
     },
     "execution_count": 8,
     "metadata": {},
     "output_type": "execute_result"
    }
   ],
   "source": [
    "df_train"
   ]
  },
  {
   "cell_type": "markdown",
   "metadata": {},
   "source": [
    "# Анализ"
   ]
  },
  {
   "cell_type": "code",
   "execution_count": 9,
   "metadata": {},
   "outputs": [
    {
     "data": {
      "text/plain": [
       "<matplotlib.axes._subplots.AxesSubplot at 0x7f9666ecf250>"
      ]
     },
     "execution_count": 9,
     "metadata": {},
     "output_type": "execute_result"
    },
    {
     "data": {
      "image/png": "[encoded data removed]",
      "text/plain": [
       "<Figure size 432x288 with 1 Axes>"
      ]
     },
     "metadata": {
      "needs_background": "light"
     },
     "output_type": "display_data"
    }
   ],
   "source": [
    "df_train[df_train[\"Канал\"] == \"ПЕРВЫЙ КАНАЛ\"].groupby(\"weekday\")[tvr_18].mean().plot()"
   ]
  },
  {
   "cell_type": "code",
   "execution_count": 10,
   "metadata": {},
   "outputs": [
    {
     "data": {
      "text/plain": [
       "<matplotlib.axes._subplots.AxesSubplot at 0x7f9664e30eb0>"
      ]
     },
     "execution_count": 10,
     "metadata": {},
     "output_type": "execute_result"
    },
    {
     "data": {
      "image/png": "[encoded data removed]",
      "text/plain": [
       "<Figure size 432x288 with 1 Axes>"
      ]
     },
     "metadata": {
      "needs_background": "light"
     },
     "output_type": "display_data"
    }
   ],
   "source": [
    "df_train[(df_train[\"Канал\"] == \"ПЕРВЫЙ КАНАЛ\") & (df_train[\"Месяц\"] == \"Октябрь\") & (df_train[\"Год\"] == 2019)].groupby(\"День\")[tvr_18].mean().plot()"
   ]
  },
  {
   "cell_type": "markdown",
   "metadata": {},
   "source": [
    "## Веб-скреппинг"
   ]
  },
  {
   "cell_type": "code",
   "execution_count": 11,
   "metadata": {},
   "outputs": [],
   "source": [
    "import requests\n",
    "from bs4 import BeautifulSoup"
   ]
  },
  {
   "cell_type": "markdown",
   "metadata": {},
   "source": [
    "### 1. Новостной сайт\n",
    "Отсюда я беру суммарное количество просмотров на всех статьях за день"
   ]
  },
  {
   "cell_type": "code",
   "execution_count": 12,
   "metadata": {},
   "outputs": [
    {
     "data": {
      "text/plain": [
       "True"
      ]
     },
     "execution_count": 12,
     "metadata": {},
     "output_type": "execute_result"
    }
   ],
   "source": [
    "url = \"https://neftegaz.ru/archive/news/?date=01.10.2019\"\n",
    "\n",
    "request = requests.get(url)\n",
    "request.ok"
   ]
  },
  {
   "cell_type": "code",
   "execution_count": 13,
   "metadata": {},
   "outputs": [],
   "source": [
    "q = BeautifulSoup(request.text)\n",
    "views_html = q.findAll(\"div\", {\"class\": \"views2\"})"
   ]
  },
  {
   "cell_type": "code",
   "execution_count": 14,
   "metadata": {},
   "outputs": [
    {
     "data": {
      "text/plain": [
       "63323"
      ]
     },
     "execution_count": 14,
     "metadata": {},
     "output_type": "execute_result"
    }
   ],
   "source": [
    "def int_check(x):\n",
    "    try:\n",
    "        int(str(x))\n",
    "        return True\n",
    "    except ValueError:\n",
    "        return False\n",
    "\n",
    "views = list(map(lambda x: list(map(lambda x: int(x), filter(lambda x_: int_check(x_), str(x).split(\"\\t\"))))[0], views_html))\n",
    "views_sum = sum(views)\n",
    "views_sum"
   ]
  },
  {
   "cell_type": "code",
   "execution_count": 17,
   "metadata": {},
   "outputs": [],
   "source": [
    "views_month = []\n",
    "\n",
    "for d in range(1, 30):\n",
    "    url_ = \"https://neftegaz.ru/archive/news/?date={0}.10.2020\".format(str(d))\n",
    "    request_ = requests.get(url_)\n",
    "    q_ = BeautifulSoup(request_.text)\n",
    "    views_html_ = q_.findAll(\"div\", {\"class\": \"views2\"})\n",
    "    views_sum_ = sum(list(map(lambda x: list(map(lambda x: int(x), filter(lambda x_: int_check(x_), str(x).split(\"\\t\"))))[0], views_html_)))\n",
    "    \n",
    "    views_month.append(views_sum_)"
   ]
  },
  {
   "cell_type": "markdown",
   "metadata": {},
   "source": [
    "#### Связь между количеством просмотров на новостном сайте и TVR на телеканале \"Россия 1\""
   ]
  },
  {
   "cell_type": "code",
   "execution_count": 18,
   "metadata": {},
   "outputs": [
    {
     "data": {
      "text/plain": [
       "[<matplotlib.lines.Line2D at 0x7f96618eca90>]"
      ]
     },
     "execution_count": 18,
     "metadata": {},
     "output_type": "execute_result"
    },
    {
     "data": {
      "image/png": "[encoded data removed]",
      "text/plain": [
       "<Figure size 432x288 with 1 Axes>"
      ]
     },
     "metadata": {
      "needs_background": "light"
     },
     "output_type": "display_data"
    }
   ],
   "source": [
    "import matplotlib.pyplot as plt\n",
    "\n",
    "plt.plot(range(1, 30), views_month)"
   ]
  },
  {
   "cell_type": "code",
   "execution_count": 19,
   "metadata": {},
   "outputs": [
    {
     "data": {
      "text/plain": [
       "<matplotlib.axes._subplots.AxesSubplot at 0x7f96618dd700>"
      ]
     },
     "execution_count": 19,
     "metadata": {},
     "output_type": "execute_result"
    },
    {
     "data": {
      "image/png": "[encoded data removed]",
      "text/plain": [
       "<Figure size 432x288 with 1 Axes>"
      ]
     },
     "metadata": {
      "needs_background": "light"
     },
     "output_type": "display_data"
    }
   ],
   "source": [
    "tvr_october2020 = df_train[(df_train[\"Канал\"] == \"РОССИЯ 1\") & (df_train[\"Месяц\"] == \"Октябрь\") & (df_train[\"Год\"] == 2020)].groupby(\"День\")[tvr_18].mean()\n",
    "tvr_october2020.plot()"
   ]
  },
  {
   "cell_type": "code",
   "execution_count": 20,
   "metadata": {},
   "outputs": [
    {
     "data": {
      "text/plain": [
       "array([[1.        , 0.08201934],\n",
       "       [0.08201934, 1.        ]])"
      ]
     },
     "execution_count": 20,
     "metadata": {},
     "output_type": "execute_result"
    }
   ],
   "source": [
    "np.corrcoef(views_month, tvr_october2020)"
   ]
  },
  {
   "cell_type": "code",
   "execution_count": 25,
   "metadata": {},
   "outputs": [
    {
     "data": {
      "text/plain": [
       "[<matplotlib.lines.Line2D at 0x7f9660fce430>]"
      ]
     },
     "execution_count": 25,
     "metadata": {},
     "output_type": "execute_result"
    },
    {
     "data": {
      "image/png": "[encoded data removed]",
      "text/plain": [
       "<Figure size 432x288 with 1 Axes>"
      ]
     },
     "metadata": {
      "needs_background": "light"
     },
     "output_type": "display_data"
    }
   ],
   "source": [
    "def get_views_day(shift = 1):\n",
    "    return views_month[:- shift - 1]\n",
    "\n",
    "plt.plot(range(1, 28), get_views_day(1))"
   ]
  },
  {
   "cell_type": "code",
   "execution_count": 26,
   "metadata": {},
   "outputs": [
    {
     "data": {
      "text/plain": [
       "<matplotlib.axes._subplots.AxesSubplot at 0x7f96611b35b0>"
      ]
     },
     "execution_count": 26,
     "metadata": {},
     "output_type": "execute_result"
    },
    {
     "data": {
      "image/png": "[encoded data removed]",
      "text/plain": [
       "<Figure size 432x288 with 1 Axes>"
      ]
     },
     "metadata": {
      "needs_background": "light"
     },
     "output_type": "display_data"
    }
   ],
   "source": [
    "tvr_october2020 = df_train[(df_train[\"Канал\"] == \"РОССИЯ 1\") & (df_train[\"Месяц\"] == \"Октябрь\") & (df_train[\"Год\"] == 2020)].groupby(\"День\")[tvr_18].mean()\n",
    "tvr_october2020[: -2].plot()"
   ]
  },
  {
   "cell_type": "code",
   "execution_count": 36,
   "metadata": {},
   "outputs": [
    {
     "name": "stdout",
     "output_type": "stream",
     "text": [
      "1 [[1.         0.03224157]\n",
      " [0.03224157 1.        ]]\n",
      "2 [[1.         0.29195682]\n",
      " [0.29195682 1.        ]]\n",
      "3 [[ 1.         -0.20602399]\n",
      " [-0.20602399  1.        ]]\n",
      "4 [[ 1.         -0.22189724]\n",
      " [-0.22189724  1.        ]]\n",
      "5 [[1.         0.28001455]\n",
      " [0.28001455 1.        ]]\n",
      "6 [[ 1.         -0.01069913]\n",
      " [-0.01069913  1.        ]]\n",
      "7 [[ 1.         -0.31796227]\n",
      " [-0.31796227  1.        ]]\n",
      "8 [[1.         0.00109037]\n",
      " [0.00109037 1.        ]]\n",
      "9 [[1.         0.12088302]\n",
      " [0.12088302 1.        ]]\n"
     ]
    }
   ],
   "source": [
    "for i in range(1, 10):\n",
    "    print(i, np.corrcoef(get_views_day(i), tvr_october2020[i + 1 :]))"
   ]
  },
  {
   "cell_type": "markdown",
   "metadata": {},
   "source": [
    "## Выходные дни"
   ]
  },
  {
   "cell_type": "code",
   "execution_count": 125,
   "metadata": {},
   "outputs": [],
   "source": [
    "holidays = []\n",
    "date_format = \"%Y-%m-%d\"\n",
    "\n",
    "for year in [2018, 2019, 2020]:\n",
    "    for day in range(1, 9):\n",
    "        holidays.append(datetime.datetime.strptime(\"{1}-01-{0}\".format(day, year), date_format))\n",
    "    holidays.append(datetime.datetime.strptime(\"{0}-02-23\".format(year), date_format))\n",
    "    holidays.append(datetime.datetime.strptime(\"{0}-03-08\".format(year), date_format))\n",
    "    holidays.append(datetime.datetime.strptime(\"{0}-05-01\".format(year), date_format))\n",
    "    holidays.append(datetime.datetime.strptime(\"{0}-05-09\".format(year), date_format))\n",
    "    holidays.append(datetime.datetime.strptime(\"{0}-06-12\".format(year), date_format))\n",
    "    holidays.append(datetime.datetime.strptime(\"{0}-11-04\".format(year), date_format))\n",
    "\n",
    "holidays_str = list(map(lambda x: datetime.datetime.strftime(x, date_format), holidays))"
   ]
  },
  {
   "cell_type": "code",
   "execution_count": 139,
   "metadata": {},
   "outputs": [],
   "source": [
    "df_train[\"working_day\"] = ~np.isin(df_train[\"day_datetime\"], holidays_str)"
   ]
  },
  {
   "cell_type": "code",
   "execution_count": 144,
   "metadata": {},
   "outputs": [],
   "source": [
    "df_train[\"working_day\"] = ~(df_train[\"weekday\"] >= 5)"
   ]
  },
  {
   "cell_type": "code",
   "execution_count": 148,
   "metadata": {},
   "outputs": [
    {
     "data": {
      "text/plain": [
       "True     50495\n",
       "False    19585\n",
       "Name: working_day, dtype: int64"
      ]
     },
     "execution_count": 148,
     "metadata": {},
     "output_type": "execute_result"
    }
   ],
   "source": [
    "df_train[\"working_day\"].value_counts()"
   ]
  },
  {
   "cell_type": "code",
   "execution_count": 37,
   "metadata": {},
   "outputs": [
    {
     "ename": "KeyError",
     "evalue": "'working_day'",
     "output_type": "error",
     "traceback": [
      "\u001b[0;31m---------------------------------------------------------------------------\u001b[0m",
      "\u001b[0;31mKeyError\u001b[0m                                  Traceback (most recent call last)",
      "\u001b[0;32m~/anaconda3/lib/python3.8/site-packages/pandas/core/indexes/base.py\u001b[0m in \u001b[0;36mget_loc\u001b[0;34m(self, key, method, tolerance)\u001b[0m\n\u001b[1;32m   2645\u001b[0m             \u001b[0;32mtry\u001b[0m\u001b[0;34m:\u001b[0m\u001b[0;34m\u001b[0m\u001b[0;34m\u001b[0m\u001b[0m\n\u001b[0;32m-> 2646\u001b[0;31m                 \u001b[0;32mreturn\u001b[0m \u001b[0mself\u001b[0m\u001b[0;34m.\u001b[0m\u001b[0m_engine\u001b[0m\u001b[0;34m.\u001b[0m\u001b[0mget_loc\u001b[0m\u001b[0;34m(\u001b[0m\u001b[0mkey\u001b[0m\u001b[0;34m)\u001b[0m\u001b[0;34m\u001b[0m\u001b[0;34m\u001b[0m\u001b[0m\n\u001b[0m\u001b[1;32m   2647\u001b[0m             \u001b[0;32mexcept\u001b[0m \u001b[0mKeyError\u001b[0m\u001b[0;34m:\u001b[0m\u001b[0;34m\u001b[0m\u001b[0;34m\u001b[0m\u001b[0m\n",
      "\u001b[0;32mpandas/_libs/index.pyx\u001b[0m in \u001b[0;36mpandas._libs.index.IndexEngine.get_loc\u001b[0;34m()\u001b[0m\n",
      "\u001b[0;32mpandas/_libs/index.pyx\u001b[0m in \u001b[0;36mpandas._libs.index.IndexEngine.get_loc\u001b[0;34m()\u001b[0m\n",
      "\u001b[0;32mpandas/_libs/hashtable_class_helper.pxi\u001b[0m in \u001b[0;36mpandas._libs.hashtable.PyObjectHashTable.get_item\u001b[0;34m()\u001b[0m\n",
      "\u001b[0;32mpandas/_libs/hashtable_class_helper.pxi\u001b[0m in \u001b[0;36mpandas._libs.hashtable.PyObjectHashTable.get_item\u001b[0;34m()\u001b[0m\n",
      "\u001b[0;31mKeyError\u001b[0m: 'working_day'",
      "\nDuring handling of the above exception, another exception occurred:\n",
      "\u001b[0;31mKeyError\u001b[0m                                  Traceback (most recent call last)",
      "\u001b[0;32m<ipython-input-37-be667a70702d>\u001b[0m in \u001b[0;36m<module>\u001b[0;34m\u001b[0m\n\u001b[0;32m----> 1\u001b[0;31m \u001b[0mdf_train\u001b[0m\u001b[0;34m[\u001b[0m\u001b[0;34m~\u001b[0m\u001b[0mdf_train\u001b[0m\u001b[0;34m[\u001b[0m\u001b[0;34m\"working_day\"\u001b[0m\u001b[0;34m]\u001b[0m\u001b[0;34m]\u001b[0m\u001b[0;34m[\u001b[0m\u001b[0mtvr_18\u001b[0m\u001b[0;34m]\u001b[0m\u001b[0;34m.\u001b[0m\u001b[0mmean\u001b[0m\u001b[0;34m(\u001b[0m\u001b[0;34m)\u001b[0m\u001b[0;34m,\u001b[0m \u001b[0mdf_train\u001b[0m\u001b[0;34m[\u001b[0m\u001b[0mdf_train\u001b[0m\u001b[0;34m[\u001b[0m\u001b[0;34m\"working_day\"\u001b[0m\u001b[0;34m]\u001b[0m\u001b[0;34m]\u001b[0m\u001b[0;34m[\u001b[0m\u001b[0mtvr_18\u001b[0m\u001b[0;34m]\u001b[0m\u001b[0;34m.\u001b[0m\u001b[0mmean\u001b[0m\u001b[0;34m(\u001b[0m\u001b[0;34m)\u001b[0m\u001b[0;34m\u001b[0m\u001b[0;34m\u001b[0m\u001b[0m\n\u001b[0m",
      "\u001b[0;32m~/anaconda3/lib/python3.8/site-packages/pandas/core/frame.py\u001b[0m in \u001b[0;36m__getitem__\u001b[0;34m(self, key)\u001b[0m\n\u001b[1;32m   2798\u001b[0m             \u001b[0;32mif\u001b[0m \u001b[0mself\u001b[0m\u001b[0;34m.\u001b[0m\u001b[0mcolumns\u001b[0m\u001b[0;34m.\u001b[0m\u001b[0mnlevels\u001b[0m \u001b[0;34m>\u001b[0m \u001b[0;36m1\u001b[0m\u001b[0;34m:\u001b[0m\u001b[0;34m\u001b[0m\u001b[0;34m\u001b[0m\u001b[0m\n\u001b[1;32m   2799\u001b[0m                 \u001b[0;32mreturn\u001b[0m \u001b[0mself\u001b[0m\u001b[0;34m.\u001b[0m\u001b[0m_getitem_multilevel\u001b[0m\u001b[0;34m(\u001b[0m\u001b[0mkey\u001b[0m\u001b[0;34m)\u001b[0m\u001b[0;34m\u001b[0m\u001b[0;34m\u001b[0m\u001b[0m\n\u001b[0;32m-> 2800\u001b[0;31m             \u001b[0mindexer\u001b[0m \u001b[0;34m=\u001b[0m \u001b[0mself\u001b[0m\u001b[0;34m.\u001b[0m\u001b[0mcolumns\u001b[0m\u001b[0;34m.\u001b[0m\u001b[0mget_loc\u001b[0m\u001b[0;34m(\u001b[0m\u001b[0mkey\u001b[0m\u001b[0;34m)\u001b[0m\u001b[0;34m\u001b[0m\u001b[0;34m\u001b[0m\u001b[0m\n\u001b[0m\u001b[1;32m   2801\u001b[0m             \u001b[0;32mif\u001b[0m \u001b[0mis_integer\u001b[0m\u001b[0;34m(\u001b[0m\u001b[0mindexer\u001b[0m\u001b[0;34m)\u001b[0m\u001b[0;34m:\u001b[0m\u001b[0;34m\u001b[0m\u001b[0;34m\u001b[0m\u001b[0m\n\u001b[1;32m   2802\u001b[0m                 \u001b[0mindexer\u001b[0m \u001b[0;34m=\u001b[0m \u001b[0;34m[\u001b[0m\u001b[0mindexer\u001b[0m\u001b[0;34m]\u001b[0m\u001b[0;34m\u001b[0m\u001b[0;34m\u001b[0m\u001b[0m\n",
      "\u001b[0;32m~/anaconda3/lib/python3.8/site-packages/pandas/core/indexes/base.py\u001b[0m in \u001b[0;36mget_loc\u001b[0;34m(self, key, method, tolerance)\u001b[0m\n\u001b[1;32m   2646\u001b[0m                 \u001b[0;32mreturn\u001b[0m \u001b[0mself\u001b[0m\u001b[0;34m.\u001b[0m\u001b[0m_engine\u001b[0m\u001b[0;34m.\u001b[0m\u001b[0mget_loc\u001b[0m\u001b[0;34m(\u001b[0m\u001b[0mkey\u001b[0m\u001b[0;34m)\u001b[0m\u001b[0;34m\u001b[0m\u001b[0;34m\u001b[0m\u001b[0m\n\u001b[1;32m   2647\u001b[0m             \u001b[0;32mexcept\u001b[0m \u001b[0mKeyError\u001b[0m\u001b[0;34m:\u001b[0m\u001b[0;34m\u001b[0m\u001b[0;34m\u001b[0m\u001b[0m\n\u001b[0;32m-> 2648\u001b[0;31m                 \u001b[0;32mreturn\u001b[0m \u001b[0mself\u001b[0m\u001b[0;34m.\u001b[0m\u001b[0m_engine\u001b[0m\u001b[0;34m.\u001b[0m\u001b[0mget_loc\u001b[0m\u001b[0;34m(\u001b[0m\u001b[0mself\u001b[0m\u001b[0;34m.\u001b[0m\u001b[0m_maybe_cast_indexer\u001b[0m\u001b[0;34m(\u001b[0m\u001b[0mkey\u001b[0m\u001b[0;34m)\u001b[0m\u001b[0;34m)\u001b[0m\u001b[0;34m\u001b[0m\u001b[0;34m\u001b[0m\u001b[0m\n\u001b[0m\u001b[1;32m   2649\u001b[0m         \u001b[0mindexer\u001b[0m \u001b[0;34m=\u001b[0m \u001b[0mself\u001b[0m\u001b[0;34m.\u001b[0m\u001b[0mget_indexer\u001b[0m\u001b[0;34m(\u001b[0m\u001b[0;34m[\u001b[0m\u001b[0mkey\u001b[0m\u001b[0;34m]\u001b[0m\u001b[0;34m,\u001b[0m \u001b[0mmethod\u001b[0m\u001b[0;34m=\u001b[0m\u001b[0mmethod\u001b[0m\u001b[0;34m,\u001b[0m \u001b[0mtolerance\u001b[0m\u001b[0;34m=\u001b[0m\u001b[0mtolerance\u001b[0m\u001b[0;34m)\u001b[0m\u001b[0;34m\u001b[0m\u001b[0;34m\u001b[0m\u001b[0m\n\u001b[1;32m   2650\u001b[0m         \u001b[0;32mif\u001b[0m \u001b[0mindexer\u001b[0m\u001b[0;34m.\u001b[0m\u001b[0mndim\u001b[0m \u001b[0;34m>\u001b[0m \u001b[0;36m1\u001b[0m \u001b[0;32mor\u001b[0m \u001b[0mindexer\u001b[0m\u001b[0;34m.\u001b[0m\u001b[0msize\u001b[0m \u001b[0;34m>\u001b[0m \u001b[0;36m1\u001b[0m\u001b[0;34m:\u001b[0m\u001b[0;34m\u001b[0m\u001b[0;34m\u001b[0m\u001b[0m\n",
      "\u001b[0;32mpandas/_libs/index.pyx\u001b[0m in \u001b[0;36mpandas._libs.index.IndexEngine.get_loc\u001b[0;34m()\u001b[0m\n",
      "\u001b[0;32mpandas/_libs/index.pyx\u001b[0m in \u001b[0;36mpandas._libs.index.IndexEngine.get_loc\u001b[0;34m()\u001b[0m\n",
      "\u001b[0;32mpandas/_libs/hashtable_class_helper.pxi\u001b[0m in \u001b[0;36mpandas._libs.hashtable.PyObjectHashTable.get_item\u001b[0;34m()\u001b[0m\n",
      "\u001b[0;32mpandas/_libs/hashtable_class_helper.pxi\u001b[0m in \u001b[0;36mpandas._libs.hashtable.PyObjectHashTable.get_item\u001b[0;34m()\u001b[0m\n",
      "\u001b[0;31mKeyError\u001b[0m: 'working_day'"
     ]
    }
   ],
   "source": [
    "df_train[~df_train[\"working_day\"]][tvr_18].mean(), df_train[df_train[\"working_day\"]][tvr_18].mean()"
   ]
  },
  {
   "cell_type": "code",
   "execution_count": null,
   "metadata": {},
   "outputs": [],
   "source": [
    "статистика поисковых запросов\n",
    "курс валюты\n",
    "s&p 500\n",
    "индекс самоизоляции"
   ]
  }
 ],
 "metadata": {
  "kernelspec": {
   "display_name": "Python 3",
   "language": "python",
   "name": "python3"
  },
  "language_info": {
   "codemirror_mode": {
    "name": "ipython",
    "version": 3
   },
   "file_extension": ".py",
   "mimetype": "text/x-python",
   "name": "python",
   "nbconvert_exporter": "python",
   "pygments_lexer": "ipython3",
   "version": "3.8.3"
  }
 },
 "nbformat": 4,
 "nbformat_minor": 4
}
