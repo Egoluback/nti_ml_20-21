{
 "cells": [
  {
   "cell_type": "markdown",
   "metadata": {},
   "source": [
    "# Предподготовка данных"
   ]
  },
  {
   "cell_type": "code",
   "execution_count": 1,
   "metadata": {},
   "outputs": [],
   "source": [
    "import pandas as pd\n",
    "import numpy as np\n",
    "\n",
    "import datetime"
   ]
  },
  {
   "cell_type": "code",
   "execution_count": 2,
   "metadata": {},
   "outputs": [],
   "source": [
    "df_train = pd.read_csv(\"data/train.csv\")"
   ]
  },
  {
   "cell_type": "code",
   "execution_count": 3,
   "metadata": {},
   "outputs": [
    {
     "data": {
      "text/plain": [
       "Index(['Unnamed: 0', 'Год', 'Месяц', 'День', 'Время', 'Канал', 'Все 18+_TVR',\n",
       "       'Все 55+_TVR', 'Все 18+_Share', 'Все 55+_Share', 'Дата_День',\n",
       "       'next_day', 'Дата'],\n",
       "      dtype='object')"
      ]
     },
     "execution_count": 3,
     "metadata": {},
     "output_type": "execute_result"
    }
   ],
   "source": [
    "tvr_18 = \"Все 18+_TVR\"\n",
    "tvr_55 = \"Все 55+_TVR\"\n",
    "\n",
    "share_18 = \"Все 18+_Share\"\n",
    "share_55 = \"Все 55+_Share\"\n",
    "\n",
    "df_train.columns"
   ]
  },
  {
   "cell_type": "code",
   "execution_count": 4,
   "metadata": {},
   "outputs": [],
   "source": [
    "df_train[\"День\"] = df_train[\"День\"].apply(lambda x: int(x.split()[1]))"
   ]
  },
  {
   "cell_type": "code",
   "execution_count": 5,
   "metadata": {},
   "outputs": [
    {
     "data": {
      "text/plain": [
       "РЕН ТВ          14016\n",
       "ТНТ             14016\n",
       "РОССИЯ 1        14016\n",
       "ПЕРВЫЙ КАНАЛ    14016\n",
       "СТС             14016\n",
       "Name: Канал, dtype: int64"
      ]
     },
     "execution_count": 5,
     "metadata": {},
     "output_type": "execute_result"
    }
   ],
   "source": [
    "df_train[\"Канал\"].value_counts()"
   ]
  },
  {
   "cell_type": "code",
   "execution_count": 6,
   "metadata": {},
   "outputs": [],
   "source": [
    "dates = np.array(df_train[\"Дата_День\"])\n",
    "\n",
    "df_train[\"day_datetime\"] = df_train[\"Дата_День\"].apply(lambda x: datetime.datetime.strftime(datetime.datetime.strptime(x, \"%Y-%m-%d %H:%M:%S\"), \"%Y-%m-%d\"))\n",
    "df_train[\"weekday\"] = df_train[\"Дата_День\"].apply(lambda x: datetime.datetime.strptime(x, \"%Y-%m-%d %H:%M:%S\").weekday())"
   ]
  },
  {
   "cell_type": "code",
   "execution_count": 7,
   "metadata": {},
   "outputs": [
    {
     "data": {
      "text/html": [
       "<div>\n",
       "<style scoped>\n",
       "    .dataframe tbody tr th:only-of-type {\n",
       "        vertical-align: middle;\n",
       "    }\n",
       "\n",
       "    .dataframe tbody tr th {\n",
       "        vertical-align: top;\n",
       "    }\n",
       "\n",
       "    .dataframe thead th {\n",
       "        text-align: right;\n",
       "    }\n",
       "</style>\n",
       "<table border=\"1\" class=\"dataframe\">\n",
       "  <thead>\n",
       "    <tr style=\"text-align: right;\">\n",
       "      <th></th>\n",
       "      <th>Unnamed: 0</th>\n",
       "      <th>Год</th>\n",
       "      <th>Месяц</th>\n",
       "      <th>День</th>\n",
       "      <th>Время</th>\n",
       "      <th>Канал</th>\n",
       "      <th>Все 18+_TVR</th>\n",
       "      <th>Все 55+_TVR</th>\n",
       "      <th>Все 18+_Share</th>\n",
       "      <th>Все 55+_Share</th>\n",
       "      <th>Дата_День</th>\n",
       "      <th>next_day</th>\n",
       "      <th>Дата</th>\n",
       "      <th>day_datetime</th>\n",
       "      <th>weekday</th>\n",
       "    </tr>\n",
       "  </thead>\n",
       "  <tbody>\n",
       "    <tr>\n",
       "      <th>0</th>\n",
       "      <td>0</td>\n",
       "      <td>2018</td>\n",
       "      <td>Ноябрь</td>\n",
       "      <td>1</td>\n",
       "      <td>05:00:00 - 06:00:00</td>\n",
       "      <td>ПЕРВЫЙ КАНАЛ</td>\n",
       "      <td>0.21</td>\n",
       "      <td>0.12</td>\n",
       "      <td>5.23</td>\n",
       "      <td>2.00</td>\n",
       "      <td>2018-11-01 00:00:00</td>\n",
       "      <td>False</td>\n",
       "      <td>2018-11-01 05:00:00</td>\n",
       "      <td>2018-11-01</td>\n",
       "      <td>3</td>\n",
       "    </tr>\n",
       "    <tr>\n",
       "      <th>1</th>\n",
       "      <td>1</td>\n",
       "      <td>2018</td>\n",
       "      <td>Ноябрь</td>\n",
       "      <td>1</td>\n",
       "      <td>06:00:00 - 07:00:00</td>\n",
       "      <td>ПЕРВЫЙ КАНАЛ</td>\n",
       "      <td>0.71</td>\n",
       "      <td>0.33</td>\n",
       "      <td>11.23</td>\n",
       "      <td>4.90</td>\n",
       "      <td>2018-11-01 00:00:00</td>\n",
       "      <td>False</td>\n",
       "      <td>2018-11-01 06:00:00</td>\n",
       "      <td>2018-11-01</td>\n",
       "      <td>3</td>\n",
       "    </tr>\n",
       "    <tr>\n",
       "      <th>2</th>\n",
       "      <td>2</td>\n",
       "      <td>2018</td>\n",
       "      <td>Ноябрь</td>\n",
       "      <td>1</td>\n",
       "      <td>07:00:00 - 08:00:00</td>\n",
       "      <td>ПЕРВЫЙ КАНАЛ</td>\n",
       "      <td>1.10</td>\n",
       "      <td>0.59</td>\n",
       "      <td>14.58</td>\n",
       "      <td>6.49</td>\n",
       "      <td>2018-11-01 00:00:00</td>\n",
       "      <td>False</td>\n",
       "      <td>2018-11-01 07:00:00</td>\n",
       "      <td>2018-11-01</td>\n",
       "      <td>3</td>\n",
       "    </tr>\n",
       "    <tr>\n",
       "      <th>3</th>\n",
       "      <td>3</td>\n",
       "      <td>2018</td>\n",
       "      <td>Ноябрь</td>\n",
       "      <td>1</td>\n",
       "      <td>08:00:00 - 09:00:00</td>\n",
       "      <td>ПЕРВЫЙ КАНАЛ</td>\n",
       "      <td>0.96</td>\n",
       "      <td>0.94</td>\n",
       "      <td>10.41</td>\n",
       "      <td>7.41</td>\n",
       "      <td>2018-11-01 00:00:00</td>\n",
       "      <td>False</td>\n",
       "      <td>2018-11-01 08:00:00</td>\n",
       "      <td>2018-11-01</td>\n",
       "      <td>3</td>\n",
       "    </tr>\n",
       "    <tr>\n",
       "      <th>4</th>\n",
       "      <td>4</td>\n",
       "      <td>2018</td>\n",
       "      <td>Ноябрь</td>\n",
       "      <td>1</td>\n",
       "      <td>09:00:00 - 10:00:00</td>\n",
       "      <td>ПЕРВЫЙ КАНАЛ</td>\n",
       "      <td>1.94</td>\n",
       "      <td>3.81</td>\n",
       "      <td>17.54</td>\n",
       "      <td>21.51</td>\n",
       "      <td>2018-11-01 00:00:00</td>\n",
       "      <td>False</td>\n",
       "      <td>2018-11-01 09:00:00</td>\n",
       "      <td>2018-11-01</td>\n",
       "      <td>3</td>\n",
       "    </tr>\n",
       "    <tr>\n",
       "      <th>...</th>\n",
       "      <td>...</td>\n",
       "      <td>...</td>\n",
       "      <td>...</td>\n",
       "      <td>...</td>\n",
       "      <td>...</td>\n",
       "      <td>...</td>\n",
       "      <td>...</td>\n",
       "      <td>...</td>\n",
       "      <td>...</td>\n",
       "      <td>...</td>\n",
       "      <td>...</td>\n",
       "      <td>...</td>\n",
       "      <td>...</td>\n",
       "      <td>...</td>\n",
       "      <td>...</td>\n",
       "    </tr>\n",
       "    <tr>\n",
       "      <th>70075</th>\n",
       "      <td>87715</td>\n",
       "      <td>2020</td>\n",
       "      <td>Октябрь</td>\n",
       "      <td>31</td>\n",
       "      <td>24:00:00 - 25:00:00</td>\n",
       "      <td>ТНТ</td>\n",
       "      <td>1.17</td>\n",
       "      <td>0.39</td>\n",
       "      <td>6.08</td>\n",
       "      <td>1.65</td>\n",
       "      <td>2020-11-01 00:00:00</td>\n",
       "      <td>True</td>\n",
       "      <td>2020-11-01 00:00:00</td>\n",
       "      <td>2020-11-01</td>\n",
       "      <td>6</td>\n",
       "    </tr>\n",
       "    <tr>\n",
       "      <th>70076</th>\n",
       "      <td>87716</td>\n",
       "      <td>2020</td>\n",
       "      <td>Октябрь</td>\n",
       "      <td>31</td>\n",
       "      <td>25:00:00 - 26:00:00</td>\n",
       "      <td>ТНТ</td>\n",
       "      <td>0.79</td>\n",
       "      <td>0.01</td>\n",
       "      <td>6.45</td>\n",
       "      <td>0.06</td>\n",
       "      <td>2020-11-01 00:00:00</td>\n",
       "      <td>True</td>\n",
       "      <td>2020-11-01 01:00:00</td>\n",
       "      <td>2020-11-01</td>\n",
       "      <td>6</td>\n",
       "    </tr>\n",
       "    <tr>\n",
       "      <th>70077</th>\n",
       "      <td>87717</td>\n",
       "      <td>2020</td>\n",
       "      <td>Октябрь</td>\n",
       "      <td>31</td>\n",
       "      <td>26:00:00 - 27:00:00</td>\n",
       "      <td>ТНТ</td>\n",
       "      <td>0.04</td>\n",
       "      <td>0.03</td>\n",
       "      <td>0.53</td>\n",
       "      <td>0.28</td>\n",
       "      <td>2020-11-01 00:00:00</td>\n",
       "      <td>True</td>\n",
       "      <td>2020-11-01 02:00:00</td>\n",
       "      <td>2020-11-01</td>\n",
       "      <td>6</td>\n",
       "    </tr>\n",
       "    <tr>\n",
       "      <th>70078</th>\n",
       "      <td>87718</td>\n",
       "      <td>2020</td>\n",
       "      <td>Октябрь</td>\n",
       "      <td>31</td>\n",
       "      <td>27:00:00 - 28:00:00</td>\n",
       "      <td>ТНТ</td>\n",
       "      <td>0.23</td>\n",
       "      <td>0.37</td>\n",
       "      <td>4.71</td>\n",
       "      <td>5.79</td>\n",
       "      <td>2020-11-01 00:00:00</td>\n",
       "      <td>True</td>\n",
       "      <td>2020-11-01 03:00:00</td>\n",
       "      <td>2020-11-01</td>\n",
       "      <td>6</td>\n",
       "    </tr>\n",
       "    <tr>\n",
       "      <th>70079</th>\n",
       "      <td>87719</td>\n",
       "      <td>2020</td>\n",
       "      <td>Октябрь</td>\n",
       "      <td>31</td>\n",
       "      <td>28:00:00 - 29:00:00</td>\n",
       "      <td>ТНТ</td>\n",
       "      <td>0.06</td>\n",
       "      <td>0.17</td>\n",
       "      <td>1.71</td>\n",
       "      <td>3.48</td>\n",
       "      <td>2020-11-01 00:00:00</td>\n",
       "      <td>True</td>\n",
       "      <td>2020-11-01 04:00:00</td>\n",
       "      <td>2020-11-01</td>\n",
       "      <td>6</td>\n",
       "    </tr>\n",
       "  </tbody>\n",
       "</table>\n",
       "<p>70080 rows × 15 columns</p>\n",
       "</div>"
      ],
      "text/plain": [
       "       Unnamed: 0   Год    Месяц  День                Время         Канал  \\\n",
       "0               0  2018   Ноябрь     1  05:00:00 - 06:00:00  ПЕРВЫЙ КАНАЛ   \n",
       "1               1  2018   Ноябрь     1  06:00:00 - 07:00:00  ПЕРВЫЙ КАНАЛ   \n",
       "2               2  2018   Ноябрь     1  07:00:00 - 08:00:00  ПЕРВЫЙ КАНАЛ   \n",
       "3               3  2018   Ноябрь     1  08:00:00 - 09:00:00  ПЕРВЫЙ КАНАЛ   \n",
       "4               4  2018   Ноябрь     1  09:00:00 - 10:00:00  ПЕРВЫЙ КАНАЛ   \n",
       "...           ...   ...      ...   ...                  ...           ...   \n",
       "70075       87715  2020  Октябрь    31  24:00:00 - 25:00:00           ТНТ   \n",
       "70076       87716  2020  Октябрь    31  25:00:00 - 26:00:00           ТНТ   \n",
       "70077       87717  2020  Октябрь    31  26:00:00 - 27:00:00           ТНТ   \n",
       "70078       87718  2020  Октябрь    31  27:00:00 - 28:00:00           ТНТ   \n",
       "70079       87719  2020  Октябрь    31  28:00:00 - 29:00:00           ТНТ   \n",
       "\n",
       "       Все 18+_TVR  Все 55+_TVR  Все 18+_Share  Все 55+_Share  \\\n",
       "0             0.21         0.12           5.23           2.00   \n",
       "1             0.71         0.33          11.23           4.90   \n",
       "2             1.10         0.59          14.58           6.49   \n",
       "3             0.96         0.94          10.41           7.41   \n",
       "4             1.94         3.81          17.54          21.51   \n",
       "...            ...          ...            ...            ...   \n",
       "70075         1.17         0.39           6.08           1.65   \n",
       "70076         0.79         0.01           6.45           0.06   \n",
       "70077         0.04         0.03           0.53           0.28   \n",
       "70078         0.23         0.37           4.71           5.79   \n",
       "70079         0.06         0.17           1.71           3.48   \n",
       "\n",
       "                 Дата_День  next_day                 Дата day_datetime  \\\n",
       "0      2018-11-01 00:00:00     False  2018-11-01 05:00:00   2018-11-01   \n",
       "1      2018-11-01 00:00:00     False  2018-11-01 06:00:00   2018-11-01   \n",
       "2      2018-11-01 00:00:00     False  2018-11-01 07:00:00   2018-11-01   \n",
       "3      2018-11-01 00:00:00     False  2018-11-01 08:00:00   2018-11-01   \n",
       "4      2018-11-01 00:00:00     False  2018-11-01 09:00:00   2018-11-01   \n",
       "...                    ...       ...                  ...          ...   \n",
       "70075  2020-11-01 00:00:00      True  2020-11-01 00:00:00   2020-11-01   \n",
       "70076  2020-11-01 00:00:00      True  2020-11-01 01:00:00   2020-11-01   \n",
       "70077  2020-11-01 00:00:00      True  2020-11-01 02:00:00   2020-11-01   \n",
       "70078  2020-11-01 00:00:00      True  2020-11-01 03:00:00   2020-11-01   \n",
       "70079  2020-11-01 00:00:00      True  2020-11-01 04:00:00   2020-11-01   \n",
       "\n",
       "       weekday  \n",
       "0            3  \n",
       "1            3  \n",
       "2            3  \n",
       "3            3  \n",
       "4            3  \n",
       "...        ...  \n",
       "70075        6  \n",
       "70076        6  \n",
       "70077        6  \n",
       "70078        6  \n",
       "70079        6  \n",
       "\n",
       "[70080 rows x 15 columns]"
      ]
     },
     "execution_count": 7,
     "metadata": {},
     "output_type": "execute_result"
    }
   ],
   "source": [
    "df_train"
   ]
  },
  {
   "cell_type": "markdown",
   "metadata": {},
   "source": [
    "# Анализ"
   ]
  },
  {
   "cell_type": "code",
   "execution_count": 8,
   "metadata": {},
   "outputs": [
    {
     "data": {
      "text/plain": [
       "<matplotlib.axes._subplots.AxesSubplot at 0x7f6d109170d0>"
      ]
     },
     "execution_count": 8,
     "metadata": {},
     "output_type": "execute_result"
    },
    {
     "data": {
      "image/png": "[encoded data removed]",
      "text/plain": [
       "<Figure size 432x288 with 1 Axes>"
      ]
     },
     "metadata": {
      "needs_background": "light"
     },
     "output_type": "display_data"
    }
   ],
   "source": [
    "df_train[df_train[\"Канал\"] == \"ПЕРВЫЙ КАНАЛ\"].groupby(\"weekday\")[tvr_18].mean().plot()"
   ]
  },
  {
   "cell_type": "code",
   "execution_count": 9,
   "metadata": {},
   "outputs": [
    {
     "data": {
      "text/plain": [
       "<matplotlib.axes._subplots.AxesSubplot at 0x7f6d0e893f10>"
      ]
     },
     "execution_count": 9,
     "metadata": {},
     "output_type": "execute_result"
    },
    {
     "data": {
      "image/png": "[encoded data removed]",
      "text/plain": [
       "<Figure size 432x288 with 1 Axes>"
      ]
     },
     "metadata": {
      "needs_background": "light"
     },
     "output_type": "display_data"
    }
   ],
   "source": [
    "df_train[(df_train[\"Канал\"] == \"ПЕРВЫЙ КАНАЛ\") & (df_train[\"Месяц\"] == \"Октябрь\") & (df_train[\"Год\"] == 2019)].groupby(\"День\")[tvr_18].mean().plot()"
   ]
  },
  {
   "cell_type": "markdown",
   "metadata": {},
   "source": [
    "## Веб-скреппинг"
   ]
  },
  {
   "cell_type": "code",
   "execution_count": 10,
   "metadata": {},
   "outputs": [],
   "source": [
    "import requests\n",
    "from bs4 import BeautifulSoup"
   ]
  },
  {
   "cell_type": "markdown",
   "metadata": {},
   "source": [
    "### 1. Новостной сайт\n",
    "Отсюда я беру суммарное количество просмотров на всех статьях за день"
   ]
  },
  {
   "cell_type": "code",
   "execution_count": 11,
   "metadata": {},
   "outputs": [
    {
     "data": {
      "text/plain": [
       "True"
      ]
     },
     "execution_count": 11,
     "metadata": {},
     "output_type": "execute_result"
    }
   ],
   "source": [
    "url = \"https://neftegaz.ru/archive/news/?date=01.10.2019\"\n",
    "\n",
    "request = requests.get(url)\n",
    "request.ok"
   ]
  },
  {
   "cell_type": "code",
   "execution_count": 12,
   "metadata": {},
   "outputs": [],
   "source": [
    "q = BeautifulSoup(request.text)\n",
    "views_html = q.findAll(\"div\", {\"class\": \"views2\"})"
   ]
  },
  {
   "cell_type": "code",
   "execution_count": 13,
   "metadata": {},
   "outputs": [
    {
     "data": {
      "text/plain": [
       "63518"
      ]
     },
     "execution_count": 13,
     "metadata": {},
     "output_type": "execute_result"
    }
   ],
   "source": [
    "def int_check(x):\n",
    "    try:\n",
    "        int(str(x))\n",
    "        return True\n",
    "    except ValueError:\n",
    "        return False\n",
    "\n",
    "views = list(map(lambda x: list(map(lambda x: int(x), filter(lambda x_: int_check(x_), str(x).split(\"\\t\"))))[0], views_html))\n",
    "views_sum = sum(views)\n",
    "views_sum"
   ]
  },
  {
   "cell_type": "code",
   "execution_count": 14,
   "metadata": {},
   "outputs": [
    {
     "data": {
      "text/plain": [
       "array(['01.11.2018', '03.11.2018', '04.11.2018', '06.11.2018',\n",
       "       '07.11.2018', '08.11.2018', '10.11.2018', '11.11.2018',\n",
       "       '12.11.2018', '13.11.2018', '14.11.2018', '16.11.2018',\n",
       "       '18.11.2018', '20.11.2018', '21.11.2018', '22.11.2018',\n",
       "       '23.11.2018', '25.11.2018', '26.11.2018', '27.11.2018',\n",
       "       '28.11.2018', '29.11.2018', '01.12.2018', '03.12.2018',\n",
       "       '04.12.2018', '05.12.2018', '06.12.2018', '08.12.2018',\n",
       "       '09.12.2018', '10.12.2018', '11.12.2018', '12.12.2018',\n",
       "       '13.12.2018', '14.12.2018', '15.12.2018', '17.12.2018',\n",
       "       '18.12.2018', '19.12.2018', '21.12.2018', '22.12.2018',\n",
       "       '23.12.2018', '24.12.2018', '25.12.2018', '27.12.2018',\n",
       "       '29.12.2018', '30.12.2018', '31.12.2018', '01.01.2019',\n",
       "       '02.01.2019', '03.01.2019', '04.01.2019', '05.01.2019',\n",
       "       '06.01.2019', '07.01.2019', '08.01.2019', '09.01.2019',\n",
       "       '11.01.2019', '12.01.2019', '13.01.2019', '14.01.2019',\n",
       "       '15.01.2019', '16.01.2019', '17.01.2019', '18.01.2019',\n",
       "       '19.01.2019', '20.01.2019', '21.01.2019', '22.01.2019',\n",
       "       '23.01.2019', '24.01.2019', '25.01.2019', '26.01.2019',\n",
       "       '28.01.2019', '29.01.2019', '31.01.2019', '02.02.2019',\n",
       "       '03.02.2019', '05.02.2019', '06.02.2019', '07.02.2019',\n",
       "       '08.02.2019', '10.02.2019', '11.02.2019', '12.02.2019',\n",
       "       '13.02.2019', '14.02.2019', '15.02.2019', '16.02.2019',\n",
       "       '17.02.2019', '18.02.2019', '19.02.2019', '20.02.2019',\n",
       "       '21.02.2019', '22.02.2019', '24.02.2019', '25.02.2019',\n",
       "       '26.02.2019', '27.02.2019', '28.02.2019', '02.03.2019',\n",
       "       '03.03.2019', '05.03.2019', '07.03.2019', '08.03.2019',\n",
       "       '09.03.2019', '10.03.2019', '11.03.2019', '12.03.2019',\n",
       "       '13.03.2019', '14.03.2019', '16.03.2019', '17.03.2019',\n",
       "       '19.03.2019', '20.03.2019', '21.03.2019', '22.03.2019',\n",
       "       '23.03.2019', '24.03.2019', '26.03.2019', '27.03.2019',\n",
       "       '29.03.2019', '30.03.2019', '31.03.2019', '01.04.2019',\n",
       "       '04.04.2019', '05.04.2019', '06.04.2019', '07.04.2019',\n",
       "       '08.04.2019', '09.04.2019', '10.04.2019', '12.04.2019',\n",
       "       '13.04.2019', '14.04.2019', '16.04.2019', '17.04.2019',\n",
       "       '18.04.2019', '19.04.2019', '20.04.2019', '22.04.2019',\n",
       "       '23.04.2019', '25.04.2019', '26.04.2019', '27.04.2019',\n",
       "       '28.04.2019', '29.04.2019', '30.04.2019', '03.05.2019',\n",
       "       '04.05.2019', '05.05.2019', '07.05.2019', '09.05.2019',\n",
       "       '10.05.2019', '11.05.2019', '12.05.2019', '13.05.2019',\n",
       "       '14.05.2019', '16.05.2019', '17.05.2019', '18.05.2019',\n",
       "       '20.05.2019', '22.05.2019', '23.05.2019', '24.05.2019',\n",
       "       '25.05.2019', '26.05.2019', '27.05.2019', '28.05.2019',\n",
       "       '30.05.2019', '02.06.2019', '03.06.2019', '05.06.2019',\n",
       "       '06.06.2019', '07.06.2019', '08.06.2019', '09.06.2019',\n",
       "       '10.06.2019', '11.06.2019', '12.06.2019', '14.06.2019',\n",
       "       '15.06.2019', '17.06.2019', '18.06.2019', '19.06.2019',\n",
       "       '20.06.2019', '21.06.2019', '22.06.2019', '23.06.2019',\n",
       "       '24.06.2019', '25.06.2019', '26.06.2019', '28.06.2019',\n",
       "       '29.06.2019', '30.06.2019', '02.07.2019', '04.07.2019',\n",
       "       '05.07.2019', '06.07.2019', '07.07.2019', '08.07.2019',\n",
       "       '09.07.2019', '11.07.2019', '12.07.2019', '13.07.2019',\n",
       "       '15.07.2019', '17.07.2019', '18.07.2019', '19.07.2019',\n",
       "       '20.07.2019', '22.07.2019', '24.07.2019', '25.07.2019',\n",
       "       '27.07.2019', '28.07.2019', '29.07.2019', '30.07.2019',\n",
       "       '01.08.2019', '03.08.2019', '04.08.2019', '05.08.2019',\n",
       "       '06.08.2019', '09.08.2019', '10.08.2019', '12.08.2019',\n",
       "       '13.08.2019', '14.08.2019', '16.08.2019', '17.08.2019',\n",
       "       '19.08.2019', '21.08.2019', '22.08.2019', '23.08.2019',\n",
       "       '24.08.2019', '25.08.2019', '26.08.2019', '27.08.2019',\n",
       "       '28.08.2019', '29.08.2019', '30.08.2019', '01.09.2019',\n",
       "       '02.09.2019', '03.09.2019', '04.09.2019', '05.09.2019',\n",
       "       '06.09.2019', '07.09.2019', '08.09.2019', '09.09.2019',\n",
       "       '11.09.2019', '12.09.2019', '13.09.2019', '15.09.2019',\n",
       "       '17.09.2019', '18.09.2019', '19.09.2019', '20.09.2019',\n",
       "       '21.09.2019', '23.09.2019', '24.09.2019', '25.09.2019',\n",
       "       '26.09.2019', '29.09.2019', '30.09.2019', '01.10.2019',\n",
       "       '02.10.2019', '03.10.2019', '04.10.2019', '05.10.2019',\n",
       "       '06.10.2019', '07.10.2019', '08.10.2019', '09.10.2019',\n",
       "       '10.10.2019', '11.10.2019', '12.10.2019', '13.10.2019',\n",
       "       '14.10.2019', '15.10.2019', '17.10.2019', '18.10.2019',\n",
       "       '19.10.2019', '20.10.2019', '21.10.2019', '22.10.2019',\n",
       "       '23.10.2019', '24.10.2019', '25.10.2019', '27.10.2019',\n",
       "       '28.10.2019', '29.10.2019', '30.10.2019', '31.10.2019',\n",
       "       '01.11.2019', '02.11.2019', '03.11.2019', '04.11.2019',\n",
       "       '05.11.2019', '06.11.2019', '07.11.2019', '08.11.2019',\n",
       "       '09.11.2019', '11.11.2019', '12.11.2019', '14.11.2019',\n",
       "       '15.11.2019', '17.11.2019', '18.11.2019', '19.11.2019',\n",
       "       '20.11.2019', '23.11.2019', '24.11.2019', '26.11.2019',\n",
       "       '27.11.2019', '28.11.2019', '29.11.2019', '30.11.2019',\n",
       "       '01.12.2019', '03.12.2019', '05.12.2019', '06.12.2019',\n",
       "       '09.12.2019', '10.12.2019', '11.12.2019', '12.12.2019',\n",
       "       '13.12.2019', '15.12.2019', '16.12.2019', '17.12.2019',\n",
       "       '18.12.2019', '19.12.2019', '20.12.2019', '21.12.2019',\n",
       "       '22.12.2019', '24.12.2019', '25.12.2019', '26.12.2019',\n",
       "       '27.12.2019', '28.12.2019', '29.12.2019', '30.12.2019',\n",
       "       '01.01.2020', '02.01.2020', '03.01.2020', '04.01.2020',\n",
       "       '06.01.2020', '07.01.2020', '08.01.2020', '09.01.2020',\n",
       "       '10.01.2020', '12.01.2020', '14.01.2020', '15.01.2020',\n",
       "       '16.01.2020', '18.01.2020', '19.01.2020', '20.01.2020',\n",
       "       '21.01.2020', '23.01.2020', '24.01.2020', '25.01.2020',\n",
       "       '27.01.2020', '28.01.2020', '29.01.2020', '30.01.2020',\n",
       "       '31.01.2020', '02.02.2020', '03.02.2020', '04.02.2020',\n",
       "       '06.02.2020', '07.02.2020', '08.02.2020', '09.02.2020',\n",
       "       '10.02.2020', '11.02.2020', '12.02.2020', '15.02.2020',\n",
       "       '16.02.2020', '17.02.2020', '18.02.2020', '22.02.2020',\n",
       "       '23.02.2020', '24.02.2020', '25.02.2020', '26.02.2020',\n",
       "       '27.02.2020', '28.02.2020', '29.02.2020', '01.03.2020',\n",
       "       '02.03.2020', '03.03.2020', '04.03.2020', '07.03.2020',\n",
       "       '08.03.2020', '09.03.2020', '10.03.2020', '12.03.2020',\n",
       "       '13.03.2020', '14.03.2020', '15.03.2020', '17.03.2020',\n",
       "       '18.03.2020', '19.03.2020', '20.03.2020', '21.03.2020',\n",
       "       '23.03.2020', '24.03.2020', '25.03.2020', '26.03.2020',\n",
       "       '28.03.2020', '29.03.2020', '30.03.2020', '02.04.2020',\n",
       "       '03.04.2020', '04.04.2020', '05.04.2020', '07.04.2020',\n",
       "       '08.04.2020', '09.04.2020', '10.04.2020', '11.04.2020',\n",
       "       '12.04.2020', '13.04.2020', '14.04.2020', '15.04.2020',\n",
       "       '16.04.2020', '17.04.2020', '18.04.2020', '19.04.2020',\n",
       "       '20.04.2020', '21.04.2020', '22.04.2020', '23.04.2020',\n",
       "       '24.04.2020', '25.04.2020', '26.04.2020', '27.04.2020',\n",
       "       '28.04.2020', '30.04.2020', '01.05.2020', '04.05.2020',\n",
       "       '05.05.2020', '06.05.2020', '07.05.2020', '08.05.2020',\n",
       "       '10.05.2020', '11.05.2020', '12.05.2020', '13.05.2020',\n",
       "       '15.05.2020', '16.05.2020', '17.05.2020', '18.05.2020',\n",
       "       '21.05.2020', '23.05.2020', '24.05.2020', '25.05.2020',\n",
       "       '26.05.2020', '27.05.2020', '28.05.2020', '29.05.2020',\n",
       "       '31.05.2020', '01.06.2020', '03.06.2020', '05.06.2020',\n",
       "       '06.06.2020', '07.06.2020', '08.06.2020', '10.06.2020',\n",
       "       '11.06.2020', '12.06.2020', '15.06.2020', '16.06.2020',\n",
       "       '18.06.2020', '20.06.2020', '21.06.2020', '22.06.2020',\n",
       "       '23.06.2020', '24.06.2020', '25.06.2020', '26.06.2020',\n",
       "       '27.06.2020', '29.06.2020', '30.06.2020', '03.07.2020',\n",
       "       '04.07.2020', '05.07.2020', '06.07.2020', '07.07.2020',\n",
       "       '09.07.2020', '10.07.2020', '12.07.2020', '13.07.2020',\n",
       "       '14.07.2020', '15.07.2020', '16.07.2020', '17.07.2020',\n",
       "       '18.07.2020', '20.07.2020', '21.07.2020', '22.07.2020',\n",
       "       '23.07.2020', '24.07.2020', '25.07.2020', '26.07.2020',\n",
       "       '27.07.2020', '28.07.2020', '29.07.2020', '30.07.2020',\n",
       "       '31.07.2020', '01.08.2020', '02.08.2020', '03.08.2020',\n",
       "       '04.08.2020', '05.08.2020', '06.08.2020', '07.08.2020',\n",
       "       '08.08.2020', '10.08.2020', '11.08.2020', '12.08.2020',\n",
       "       '14.08.2020', '15.08.2020', '17.08.2020', '18.08.2020',\n",
       "       '19.08.2020', '20.08.2020', '21.08.2020', '22.08.2020',\n",
       "       '23.08.2020', '24.08.2020', '25.08.2020', '26.08.2020',\n",
       "       '27.08.2020', '28.08.2020', '31.08.2020', '01.09.2020',\n",
       "       '03.09.2020', '04.09.2020', '05.09.2020', '06.09.2020',\n",
       "       '07.09.2020', '08.09.2020', '09.09.2020', '10.09.2020',\n",
       "       '11.09.2020', '13.09.2020', '15.09.2020', '16.09.2020',\n",
       "       '17.09.2020', '18.09.2020', '20.09.2020', '22.09.2020',\n",
       "       '23.09.2020', '24.09.2020', '25.09.2020', '26.09.2020',\n",
       "       '27.09.2020', '28.09.2020', '29.09.2020', '30.09.2020',\n",
       "       '01.10.2020', '03.10.2020', '04.10.2020', '05.10.2020',\n",
       "       '07.10.2020', '08.10.2020', '09.10.2020', '10.10.2020',\n",
       "       '11.10.2020', '12.10.2020', '15.10.2020', '16.10.2020',\n",
       "       '17.10.2020', '18.10.2020', '19.10.2020', '20.10.2020',\n",
       "       '21.10.2020', '22.10.2020', '23.10.2020', '24.10.2020',\n",
       "       '26.10.2020', '27.10.2020', '28.10.2020', '31.10.2020',\n",
       "       '01.11.2020'], dtype=object)"
      ]
     },
     "execution_count": 14,
     "metadata": {},
     "output_type": "execute_result"
    }
   ],
   "source": [
    "days = df_train[\"Дата_День\"].apply(lambda x: datetime.datetime.strftime(datetime.datetime.strptime(x, \"%Y-%m-%d %H:%M:%S\"), \"%d.%m.%Y\")).unique()\n",
    "days"
   ]
  },
  {
   "cell_type": "code",
   "execution_count": 31,
   "metadata": {},
   "outputs": [],
   "source": [
    "views_month = []\n",
    "\n",
    "for d in range(1, 30):\n",
    "    url_ = \"https://neftegaz.ru/archive/news/?date={0}.10.2020\".format(str(d))\n",
    "#     url_ = \"https://neftegaz.ru/archive/news/?date={0}\".format(str(days[dayIndex]))\n",
    "    request_ = requests.get(url_)\n",
    "    q_ = BeautifulSoup(request_.text)\n",
    "    views_html_ = q_.findAll(\"div\", {\"class\": \"views2\"})\n",
    "    views_sum_ = sum(list(map(lambda x: list(map(lambda x: int(x), filter(lambda x_: int_check(x_), str(x).split(\"\\t\"))))[0], views_html_)))\n",
    "    \n",
    "    views_month.append(views_sum_)\n",
    "    "
   ]
  },
  {
   "cell_type": "markdown",
   "metadata": {},
   "source": [
    "#### Связь между количеством просмотров на новостном сайте и TVR на телеканале \"Россия 1\""
   ]
  },
  {
   "cell_type": "code",
   "execution_count": 69,
   "metadata": {},
   "outputs": [
    {
     "data": {
      "text/plain": [
       "[<matplotlib.lines.Line2D at 0x7f6d0a454460>]"
      ]
     },
     "execution_count": 69,
     "metadata": {},
     "output_type": "execute_result"
    },
    {
     "data": {
      "image/png": "[encoded data removed]",
      "text/plain": [
       "<Figure size 432x288 with 1 Axes>"
      ]
     },
     "metadata": {
      "needs_background": "light"
     },
     "output_type": "display_data"
    }
   ],
   "source": [
    "import matplotlib.pyplot as plt\n",
    "\n",
    "plt.plot(range(1, 30), views_month)"
   ]
  },
  {
   "cell_type": "code",
   "execution_count": 70,
   "metadata": {},
   "outputs": [
    {
     "data": {
      "text/plain": [
       "<matplotlib.axes._subplots.AxesSubplot at 0x7f6d0a5ca940>"
      ]
     },
     "execution_count": 70,
     "metadata": {},
     "output_type": "execute_result"
    },
    {
     "data": {
      "image/png": "[encoded data removed]",
      "text/plain": [
       "<Figure size 432x288 with 1 Axes>"
      ]
     },
     "metadata": {
      "needs_background": "light"
     },
     "output_type": "display_data"
    }
   ],
   "source": [
    "tvr_october2020 = df_train[(df_train[\"Канал\"] == \"РОССИЯ 1\") & (df_train[\"Месяц\"] == \"Октябрь\") & (df_train[\"Год\"] == 2020)].groupby(\"День\")[tvr_18].mean()\n",
    "tvr_october2020.plot()"
   ]
  },
  {
   "cell_type": "code",
   "execution_count": 71,
   "metadata": {},
   "outputs": [
    {
     "data": {
      "text/plain": [
       "array([[1.        , 0.08360663],\n",
       "       [0.08360663, 1.        ]])"
      ]
     },
     "execution_count": 71,
     "metadata": {},
     "output_type": "execute_result"
    }
   ],
   "source": [
    "np.corrcoef(views_month, tvr_october2020)"
   ]
  },
  {
   "cell_type": "markdown",
   "metadata": {},
   "source": [
    "#### Сдвиг"
   ]
  },
  {
   "cell_type": "code",
   "execution_count": 154,
   "metadata": {},
   "outputs": [
    {
     "data": {
      "text/plain": [
       "[<matplotlib.lines.Line2D at 0x7f6d09507f10>]"
      ]
     },
     "execution_count": 154,
     "metadata": {},
     "output_type": "execute_result"
    },
    {
     "data": {
      "image/png": "[encoded data removed]",
      "text/plain": [
       "<Figure size 432x288 with 1 Axes>"
      ]
     },
     "metadata": {
      "needs_background": "light"
     },
     "output_type": "display_data"
    }
   ],
   "source": [
    "def make_shift_back(arr, shift = 1): # сдвиг назад\n",
    "    return arr[:- shift]\n",
    "\n",
    "def make_shift_forward(arr, shift = 1): # сдвиг вперед\n",
    "    return arr[shift:]\n",
    "\n",
    "plt.plot(range(1, 29), make_shift_back(views_month, 1))"
   ]
  },
  {
   "cell_type": "code",
   "execution_count": 155,
   "metadata": {},
   "outputs": [
    {
     "data": {
      "text/plain": [
       "<matplotlib.axes._subplots.AxesSubplot at 0x7f6d094a0e20>"
      ]
     },
     "execution_count": 155,
     "metadata": {},
     "output_type": "execute_result"
    },
    {
     "data": {
      "image/png": "[encoded data removed]",
      "text/plain": [
       "<Figure size 432x288 with 1 Axes>"
      ]
     },
     "metadata": {
      "needs_background": "light"
     },
     "output_type": "display_data"
    }
   ],
   "source": [
    "tvr_october2020 = df_train[(df_train[\"Канал\"] == \"РОССИЯ 1\") & (df_train[\"Месяц\"] == \"Октябрь\") & (df_train[\"Год\"] == 2020)].groupby(\"День\")[tvr_18].mean()\n",
    "tvr_october2020[: -2].plot()"
   ]
  },
  {
   "cell_type": "code",
   "execution_count": 156,
   "metadata": {},
   "outputs": [
    {
     "name": "stdout",
     "output_type": "stream",
     "text": [
      "1 [[ 1.         -0.44460618]\n",
      " [-0.44460618  1.        ]]\n",
      "2 [[1.         0.03144824]\n",
      " [0.03144824 1.        ]]\n",
      "3 [[1.         0.29115961]\n",
      " [0.29115961 1.        ]]\n",
      "4 [[ 1.        -0.2061594]\n",
      " [-0.2061594  1.       ]]\n",
      "5 [[ 1.         -0.22150599]\n",
      " [-0.22150599  1.        ]]\n",
      "6 [[1.         0.27990289]\n",
      " [0.27990289 1.        ]]\n",
      "7 [[ 1.         -0.00984294]\n",
      " [-0.00984294  1.        ]]\n",
      "8 [[ 1.         -0.31621712]\n",
      " [-0.31621712  1.        ]]\n",
      "9 [[1.00000000e+00 6.16291822e-04]\n",
      " [6.16291822e-04 1.00000000e+00]]\n"
     ]
    }
   ],
   "source": [
    "for i in range(1, 10):\n",
    "    print(i, np.corrcoef(make_shift_back(views_month, i), tvr_october2020[i :]))"
   ]
  },
  {
   "cell_type": "markdown",
   "metadata": {},
   "source": [
    "#### Обработка всех дней df_train"
   ]
  },
  {
   "cell_type": "markdown",
   "metadata": {},
   "source": [
    "Данные по всем днем тренировочной выборки получены с помощью скрипта get_views.py и загружены в data/news_data.txt"
   ]
  },
  {
   "cell_type": "code",
   "execution_count": 159,
   "metadata": {},
   "outputs": [],
   "source": [
    "import json\n",
    "\n",
    "all_views = {}\n",
    "\n",
    "with open(\"data/news_data.txt\", \"r\") as file:\n",
    "    all_views = json.loads(file.read())\n",
    "\n",
    "# Изменение формата дат\n",
    "all_views = pd.Series(all_views)\n",
    "all_views.index = list(map(lambda x: datetime.datetime.strftime(datetime.datetime.strptime(x, \"%d.%m.%Y\"), \"%Y-%m-%d\"), pd.Series(all_views).index))\n",
    "all_views = all_views.to_dict()"
   ]
  },
  {
   "cell_type": "code",
   "execution_count": 160,
   "metadata": {},
   "outputs": [],
   "source": [
    "df_train[\"news_views\"] = list(map(lambda x: all_views[x], np.array(df_train[\"day_datetime\"])))"
   ]
  },
  {
   "cell_type": "code",
   "execution_count": 161,
   "metadata": {},
   "outputs": [
    {
     "data": {
      "text/html": [
       "<div>\n",
       "<style scoped>\n",
       "    .dataframe tbody tr th:only-of-type {\n",
       "        vertical-align: middle;\n",
       "    }\n",
       "\n",
       "    .dataframe tbody tr th {\n",
       "        vertical-align: top;\n",
       "    }\n",
       "\n",
       "    .dataframe thead th {\n",
       "        text-align: right;\n",
       "    }\n",
       "</style>\n",
       "<table border=\"1\" class=\"dataframe\">\n",
       "  <thead>\n",
       "    <tr style=\"text-align: right;\">\n",
       "      <th></th>\n",
       "      <th>Unnamed: 0</th>\n",
       "      <th>Год</th>\n",
       "      <th>Месяц</th>\n",
       "      <th>День</th>\n",
       "      <th>Время</th>\n",
       "      <th>Канал</th>\n",
       "      <th>Все 18+_TVR</th>\n",
       "      <th>Все 55+_TVR</th>\n",
       "      <th>Все 18+_Share</th>\n",
       "      <th>Все 55+_Share</th>\n",
       "      <th>Дата_День</th>\n",
       "      <th>next_day</th>\n",
       "      <th>Дата</th>\n",
       "      <th>day_datetime</th>\n",
       "      <th>weekday</th>\n",
       "      <th>news_views</th>\n",
       "    </tr>\n",
       "  </thead>\n",
       "  <tbody>\n",
       "    <tr>\n",
       "      <th>0</th>\n",
       "      <td>0</td>\n",
       "      <td>2018</td>\n",
       "      <td>Ноябрь</td>\n",
       "      <td>1</td>\n",
       "      <td>05:00:00 - 06:00:00</td>\n",
       "      <td>ПЕРВЫЙ КАНАЛ</td>\n",
       "      <td>0.21</td>\n",
       "      <td>0.12</td>\n",
       "      <td>5.23</td>\n",
       "      <td>2.00</td>\n",
       "      <td>2018-11-01 00:00:00</td>\n",
       "      <td>False</td>\n",
       "      <td>2018-11-01 05:00:00</td>\n",
       "      <td>2018-11-01</td>\n",
       "      <td>3</td>\n",
       "      <td>70884</td>\n",
       "    </tr>\n",
       "    <tr>\n",
       "      <th>1</th>\n",
       "      <td>1</td>\n",
       "      <td>2018</td>\n",
       "      <td>Ноябрь</td>\n",
       "      <td>1</td>\n",
       "      <td>06:00:00 - 07:00:00</td>\n",
       "      <td>ПЕРВЫЙ КАНАЛ</td>\n",
       "      <td>0.71</td>\n",
       "      <td>0.33</td>\n",
       "      <td>11.23</td>\n",
       "      <td>4.90</td>\n",
       "      <td>2018-11-01 00:00:00</td>\n",
       "      <td>False</td>\n",
       "      <td>2018-11-01 06:00:00</td>\n",
       "      <td>2018-11-01</td>\n",
       "      <td>3</td>\n",
       "      <td>70884</td>\n",
       "    </tr>\n",
       "    <tr>\n",
       "      <th>2</th>\n",
       "      <td>2</td>\n",
       "      <td>2018</td>\n",
       "      <td>Ноябрь</td>\n",
       "      <td>1</td>\n",
       "      <td>07:00:00 - 08:00:00</td>\n",
       "      <td>ПЕРВЫЙ КАНАЛ</td>\n",
       "      <td>1.10</td>\n",
       "      <td>0.59</td>\n",
       "      <td>14.58</td>\n",
       "      <td>6.49</td>\n",
       "      <td>2018-11-01 00:00:00</td>\n",
       "      <td>False</td>\n",
       "      <td>2018-11-01 07:00:00</td>\n",
       "      <td>2018-11-01</td>\n",
       "      <td>3</td>\n",
       "      <td>70884</td>\n",
       "    </tr>\n",
       "    <tr>\n",
       "      <th>3</th>\n",
       "      <td>3</td>\n",
       "      <td>2018</td>\n",
       "      <td>Ноябрь</td>\n",
       "      <td>1</td>\n",
       "      <td>08:00:00 - 09:00:00</td>\n",
       "      <td>ПЕРВЫЙ КАНАЛ</td>\n",
       "      <td>0.96</td>\n",
       "      <td>0.94</td>\n",
       "      <td>10.41</td>\n",
       "      <td>7.41</td>\n",
       "      <td>2018-11-01 00:00:00</td>\n",
       "      <td>False</td>\n",
       "      <td>2018-11-01 08:00:00</td>\n",
       "      <td>2018-11-01</td>\n",
       "      <td>3</td>\n",
       "      <td>70884</td>\n",
       "    </tr>\n",
       "    <tr>\n",
       "      <th>4</th>\n",
       "      <td>4</td>\n",
       "      <td>2018</td>\n",
       "      <td>Ноябрь</td>\n",
       "      <td>1</td>\n",
       "      <td>09:00:00 - 10:00:00</td>\n",
       "      <td>ПЕРВЫЙ КАНАЛ</td>\n",
       "      <td>1.94</td>\n",
       "      <td>3.81</td>\n",
       "      <td>17.54</td>\n",
       "      <td>21.51</td>\n",
       "      <td>2018-11-01 00:00:00</td>\n",
       "      <td>False</td>\n",
       "      <td>2018-11-01 09:00:00</td>\n",
       "      <td>2018-11-01</td>\n",
       "      <td>3</td>\n",
       "      <td>70884</td>\n",
       "    </tr>\n",
       "    <tr>\n",
       "      <th>...</th>\n",
       "      <td>...</td>\n",
       "      <td>...</td>\n",
       "      <td>...</td>\n",
       "      <td>...</td>\n",
       "      <td>...</td>\n",
       "      <td>...</td>\n",
       "      <td>...</td>\n",
       "      <td>...</td>\n",
       "      <td>...</td>\n",
       "      <td>...</td>\n",
       "      <td>...</td>\n",
       "      <td>...</td>\n",
       "      <td>...</td>\n",
       "      <td>...</td>\n",
       "      <td>...</td>\n",
       "      <td>...</td>\n",
       "    </tr>\n",
       "    <tr>\n",
       "      <th>70075</th>\n",
       "      <td>87715</td>\n",
       "      <td>2020</td>\n",
       "      <td>Октябрь</td>\n",
       "      <td>31</td>\n",
       "      <td>24:00:00 - 25:00:00</td>\n",
       "      <td>ТНТ</td>\n",
       "      <td>1.17</td>\n",
       "      <td>0.39</td>\n",
       "      <td>6.08</td>\n",
       "      <td>1.65</td>\n",
       "      <td>2020-11-01 00:00:00</td>\n",
       "      <td>True</td>\n",
       "      <td>2020-11-01 00:00:00</td>\n",
       "      <td>2020-11-01</td>\n",
       "      <td>6</td>\n",
       "      <td>10911</td>\n",
       "    </tr>\n",
       "    <tr>\n",
       "      <th>70076</th>\n",
       "      <td>87716</td>\n",
       "      <td>2020</td>\n",
       "      <td>Октябрь</td>\n",
       "      <td>31</td>\n",
       "      <td>25:00:00 - 26:00:00</td>\n",
       "      <td>ТНТ</td>\n",
       "      <td>0.79</td>\n",
       "      <td>0.01</td>\n",
       "      <td>6.45</td>\n",
       "      <td>0.06</td>\n",
       "      <td>2020-11-01 00:00:00</td>\n",
       "      <td>True</td>\n",
       "      <td>2020-11-01 01:00:00</td>\n",
       "      <td>2020-11-01</td>\n",
       "      <td>6</td>\n",
       "      <td>10911</td>\n",
       "    </tr>\n",
       "    <tr>\n",
       "      <th>70077</th>\n",
       "      <td>87717</td>\n",
       "      <td>2020</td>\n",
       "      <td>Октябрь</td>\n",
       "      <td>31</td>\n",
       "      <td>26:00:00 - 27:00:00</td>\n",
       "      <td>ТНТ</td>\n",
       "      <td>0.04</td>\n",
       "      <td>0.03</td>\n",
       "      <td>0.53</td>\n",
       "      <td>0.28</td>\n",
       "      <td>2020-11-01 00:00:00</td>\n",
       "      <td>True</td>\n",
       "      <td>2020-11-01 02:00:00</td>\n",
       "      <td>2020-11-01</td>\n",
       "      <td>6</td>\n",
       "      <td>10911</td>\n",
       "    </tr>\n",
       "    <tr>\n",
       "      <th>70078</th>\n",
       "      <td>87718</td>\n",
       "      <td>2020</td>\n",
       "      <td>Октябрь</td>\n",
       "      <td>31</td>\n",
       "      <td>27:00:00 - 28:00:00</td>\n",
       "      <td>ТНТ</td>\n",
       "      <td>0.23</td>\n",
       "      <td>0.37</td>\n",
       "      <td>4.71</td>\n",
       "      <td>5.79</td>\n",
       "      <td>2020-11-01 00:00:00</td>\n",
       "      <td>True</td>\n",
       "      <td>2020-11-01 03:00:00</td>\n",
       "      <td>2020-11-01</td>\n",
       "      <td>6</td>\n",
       "      <td>10911</td>\n",
       "    </tr>\n",
       "    <tr>\n",
       "      <th>70079</th>\n",
       "      <td>87719</td>\n",
       "      <td>2020</td>\n",
       "      <td>Октябрь</td>\n",
       "      <td>31</td>\n",
       "      <td>28:00:00 - 29:00:00</td>\n",
       "      <td>ТНТ</td>\n",
       "      <td>0.06</td>\n",
       "      <td>0.17</td>\n",
       "      <td>1.71</td>\n",
       "      <td>3.48</td>\n",
       "      <td>2020-11-01 00:00:00</td>\n",
       "      <td>True</td>\n",
       "      <td>2020-11-01 04:00:00</td>\n",
       "      <td>2020-11-01</td>\n",
       "      <td>6</td>\n",
       "      <td>10911</td>\n",
       "    </tr>\n",
       "  </tbody>\n",
       "</table>\n",
       "<p>70080 rows × 16 columns</p>\n",
       "</div>"
      ],
      "text/plain": [
       "       Unnamed: 0   Год    Месяц  День                Время         Канал  \\\n",
       "0               0  2018   Ноябрь     1  05:00:00 - 06:00:00  ПЕРВЫЙ КАНАЛ   \n",
       "1               1  2018   Ноябрь     1  06:00:00 - 07:00:00  ПЕРВЫЙ КАНАЛ   \n",
       "2               2  2018   Ноябрь     1  07:00:00 - 08:00:00  ПЕРВЫЙ КАНАЛ   \n",
       "3               3  2018   Ноябрь     1  08:00:00 - 09:00:00  ПЕРВЫЙ КАНАЛ   \n",
       "4               4  2018   Ноябрь     1  09:00:00 - 10:00:00  ПЕРВЫЙ КАНАЛ   \n",
       "...           ...   ...      ...   ...                  ...           ...   \n",
       "70075       87715  2020  Октябрь    31  24:00:00 - 25:00:00           ТНТ   \n",
       "70076       87716  2020  Октябрь    31  25:00:00 - 26:00:00           ТНТ   \n",
       "70077       87717  2020  Октябрь    31  26:00:00 - 27:00:00           ТНТ   \n",
       "70078       87718  2020  Октябрь    31  27:00:00 - 28:00:00           ТНТ   \n",
       "70079       87719  2020  Октябрь    31  28:00:00 - 29:00:00           ТНТ   \n",
       "\n",
       "       Все 18+_TVR  Все 55+_TVR  Все 18+_Share  Все 55+_Share  \\\n",
       "0             0.21         0.12           5.23           2.00   \n",
       "1             0.71         0.33          11.23           4.90   \n",
       "2             1.10         0.59          14.58           6.49   \n",
       "3             0.96         0.94          10.41           7.41   \n",
       "4             1.94         3.81          17.54          21.51   \n",
       "...            ...          ...            ...            ...   \n",
       "70075         1.17         0.39           6.08           1.65   \n",
       "70076         0.79         0.01           6.45           0.06   \n",
       "70077         0.04         0.03           0.53           0.28   \n",
       "70078         0.23         0.37           4.71           5.79   \n",
       "70079         0.06         0.17           1.71           3.48   \n",
       "\n",
       "                 Дата_День  next_day                 Дата day_datetime  \\\n",
       "0      2018-11-01 00:00:00     False  2018-11-01 05:00:00   2018-11-01   \n",
       "1      2018-11-01 00:00:00     False  2018-11-01 06:00:00   2018-11-01   \n",
       "2      2018-11-01 00:00:00     False  2018-11-01 07:00:00   2018-11-01   \n",
       "3      2018-11-01 00:00:00     False  2018-11-01 08:00:00   2018-11-01   \n",
       "4      2018-11-01 00:00:00     False  2018-11-01 09:00:00   2018-11-01   \n",
       "...                    ...       ...                  ...          ...   \n",
       "70075  2020-11-01 00:00:00      True  2020-11-01 00:00:00   2020-11-01   \n",
       "70076  2020-11-01 00:00:00      True  2020-11-01 01:00:00   2020-11-01   \n",
       "70077  2020-11-01 00:00:00      True  2020-11-01 02:00:00   2020-11-01   \n",
       "70078  2020-11-01 00:00:00      True  2020-11-01 03:00:00   2020-11-01   \n",
       "70079  2020-11-01 00:00:00      True  2020-11-01 04:00:00   2020-11-01   \n",
       "\n",
       "       weekday  news_views  \n",
       "0            3       70884  \n",
       "1            3       70884  \n",
       "2            3       70884  \n",
       "3            3       70884  \n",
       "4            3       70884  \n",
       "...        ...         ...  \n",
       "70075        6       10911  \n",
       "70076        6       10911  \n",
       "70077        6       10911  \n",
       "70078        6       10911  \n",
       "70079        6       10911  \n",
       "\n",
       "[70080 rows x 16 columns]"
      ]
     },
     "execution_count": 161,
     "metadata": {},
     "output_type": "execute_result"
    }
   ],
   "source": [
    "df_train"
   ]
  },
  {
   "cell_type": "code",
   "execution_count": 162,
   "metadata": {},
   "outputs": [
    {
     "data": {
      "text/plain": [
       "array([[1.        , 0.12906197],\n",
       "       [0.12906197, 1.        ]])"
      ]
     },
     "execution_count": 162,
     "metadata": {},
     "output_type": "execute_result"
    }
   ],
   "source": [
    "news_views_r1 = df_train[df_train[\"Канал\"] == \"РОССИЯ 1\"][\"news_views\"]\n",
    "tvr_r1 = df_train[df_train[\"Канал\"] == \"РОССИЯ 1\"][tvr_18]\n",
    "np.corrcoef(news_views_r1, tvr_r1) # базовая корреляция"
   ]
  },
  {
   "cell_type": "code",
   "execution_count": 163,
   "metadata": {},
   "outputs": [
    {
     "name": "stdout",
     "output_type": "stream",
     "text": [
      "---Shift: 1---\n",
      "Back shift correlation:\n",
      " [[1.         0.12207634]\n",
      " [0.12207634 1.        ]]\n",
      "Forward shift correlation:\n",
      " [[1.         0.13186702]\n",
      " [0.13186702 1.        ]]\n",
      "---Shift: 2---\n",
      "Back shift correlation:\n",
      " [[1.         0.11830992]\n",
      " [0.11830992 1.        ]]\n",
      "Forward shift correlation:\n",
      " [[1.         0.13291738]\n",
      " [0.13291738 1.        ]]\n",
      "---Shift: 3---\n",
      "Back shift correlation:\n",
      " [[1.         0.11894313]\n",
      " [0.11894313 1.        ]]\n",
      "Forward shift correlation:\n",
      " [[1.         0.13683708]\n",
      " [0.13683708 1.        ]]\n",
      "---Shift: 4---\n",
      "Back shift correlation:\n",
      " [[1.         0.12087597]\n",
      " [0.12087597 1.        ]]\n",
      "Forward shift correlation:\n",
      " [[1.         0.13373749]\n",
      " [0.13373749 1.        ]]\n",
      "---Shift: 5---\n",
      "Back shift correlation:\n",
      " [[1.         0.12240844]\n",
      " [0.12240844 1.        ]]\n",
      "Forward shift correlation:\n",
      " [[1.         0.12854264]\n",
      " [0.12854264 1.        ]]\n",
      "---Shift: 6---\n",
      "Back shift correlation:\n",
      " [[1.         0.12095197]\n",
      " [0.12095197 1.        ]]\n",
      "Forward shift correlation:\n",
      " [[1.         0.12790146]\n",
      " [0.12790146 1.        ]]\n",
      "---Shift: 7---\n",
      "Back shift correlation:\n",
      " [[1.         0.11162735]\n",
      " [0.11162735 1.        ]]\n",
      "Forward shift correlation:\n",
      " [[1.         0.13168752]\n",
      " [0.13168752 1.        ]]\n",
      "---Shift: 8---\n",
      "Back shift correlation:\n",
      " [[1.         0.10226863]\n",
      " [0.10226863 1.        ]]\n",
      "Forward shift correlation:\n",
      " [[1.         0.13374602]\n",
      " [0.13374602 1.        ]]\n",
      "---Shift: 9---\n",
      "Back shift correlation:\n",
      " [[1.         0.09369034]\n",
      " [0.09369034 1.        ]]\n",
      "Forward shift correlation:\n",
      " [[1.        0.1369803]\n",
      " [0.1369803 1.       ]]\n"
     ]
    }
   ],
   "source": [
    "for i in range(1, 10):\n",
    "    print(\"---Shift: {0}---\".format(i))\n",
    "    print(\"Back shift correlation:\\n {1}\".format(i, np.corrcoef(make_shift_back(news_views_r1, i), tvr_r1[i :])))\n",
    "    print(\"Forward shift correlation:\\n {1}\".format(i, np.corrcoef(make_shift_forward(news_views_r1, i), tvr_r1[: -i])))"
   ]
  },
  {
   "cell_type": "markdown",
   "metadata": {},
   "source": [
    "Лучший сдвиг - сдвиг вперед на 3 дня"
   ]
  },
  {
   "cell_type": "markdown",
   "metadata": {},
   "source": [
    "## Выходные дни"
   ]
  },
  {
   "cell_type": "code",
   "execution_count": 21,
   "metadata": {},
   "outputs": [],
   "source": [
    "holidays = []\n",
    "date_format = \"%Y-%m-%d\"\n",
    "\n",
    "for year in [2018, 2019, 2020]:\n",
    "    for day in range(1, 9):\n",
    "        holidays.append(datetime.datetime.strptime(\"{1}-01-{0}\".format(day, year), date_format))\n",
    "    holidays.append(datetime.datetime.strptime(\"{0}-02-23\".format(year), date_format))\n",
    "    holidays.append(datetime.datetime.strptime(\"{0}-03-08\".format(year), date_format))\n",
    "    holidays.append(datetime.datetime.strptime(\"{0}-05-01\".format(year), date_format))\n",
    "    holidays.append(datetime.datetime.strptime(\"{0}-05-09\".format(year), date_format))\n",
    "    holidays.append(datetime.datetime.strptime(\"{0}-06-12\".format(year), date_format))\n",
    "    holidays.append(datetime.datetime.strptime(\"{0}-11-04\".format(year), date_format))\n",
    "\n",
    "holidays_str = list(map(lambda x: datetime.datetime.strftime(x, date_format), holidays))"
   ]
  },
  {
   "cell_type": "code",
   "execution_count": 22,
   "metadata": {},
   "outputs": [],
   "source": [
    "df_train[\"working_day\"] = ~np.isin(df_train[\"day_datetime\"], holidays_str)"
   ]
  },
  {
   "cell_type": "code",
   "execution_count": 23,
   "metadata": {},
   "outputs": [],
   "source": [
    "df_train[\"working_day\"] = ~(df_train[\"weekday\"] >= 5)"
   ]
  },
  {
   "cell_type": "code",
   "execution_count": 24,
   "metadata": {},
   "outputs": [
    {
     "data": {
      "text/plain": [
       "True     50495\n",
       "False    19585\n",
       "Name: working_day, dtype: int64"
      ]
     },
     "execution_count": 24,
     "metadata": {},
     "output_type": "execute_result"
    }
   ],
   "source": [
    "df_train[\"working_day\"].value_counts()"
   ]
  },
  {
   "cell_type": "code",
   "execution_count": 25,
   "metadata": {},
   "outputs": [
    {
     "data": {
      "text/plain": [
       "(1.2513316313505252, 1.2402645806515527)"
      ]
     },
     "execution_count": 25,
     "metadata": {},
     "output_type": "execute_result"
    }
   ],
   "source": [
    "df_train[~df_train[\"working_day\"]][tvr_18].mean(), df_train[df_train[\"working_day\"]][tvr_18].mean()"
   ]
  },
  {
   "cell_type": "markdown",
   "metadata": {},
   "source": [
    "# Идеи:\n",
    "статистика поисковых запросов <br />\n",
    "курс валюты <br />\n",
    "s&p 500 <br />\n",
    "индекс самоизоляции"
   ]
  }
 ],
 "metadata": {
  "kernelspec": {
   "display_name": "Python 3",
   "language": "python",
   "name": "python3"
  },
  "language_info": {
   "codemirror_mode": {
    "name": "ipython",
    "version": 3
   },
   "file_extension": ".py",
   "mimetype": "text/x-python",
   "name": "python",
   "nbconvert_exporter": "python",
   "pygments_lexer": "ipython3",
   "version": "3.8.3"
  }
 },
 "nbformat": 4,
 "nbformat_minor": 4
}
