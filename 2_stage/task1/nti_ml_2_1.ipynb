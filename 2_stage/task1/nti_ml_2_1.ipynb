{
 "cells": [
  {
   "cell_type": "markdown",
   "metadata": {},
   "source": [
    "### Парсинг исходных данных"
   ]
  },
  {
   "cell_type": "code",
   "execution_count": 62,
   "metadata": {},
   "outputs": [],
   "source": [
    "import numpy as np\n",
    "\n",
    "import json\n",
    "\n",
    "x_train = []\n",
    "y_train = []\n",
    "\n",
    "with open(\"data/x_train.txt\", \"r\") as file:\n",
    "    x_train = np.array(json.loads(''.join(list(map(lambda x: x.strip(), file.readlines())))))\n",
    "\n",
    "with open(\"data/y_train.txt\", \"r\") as file:\n",
    "    y_train = np.array(json.loads(''.join(list(map(lambda x: x.strip(), file.readlines())))))"
   ]
  },
  {
   "cell_type": "code",
   "execution_count": 63,
   "metadata": {},
   "outputs": [
    {
     "data": {
      "text/plain": [
       "(array([[ 0.44878602, -1.31186755,  0.0852925 , ..., -0.51819492,\n",
       "         -1.12322176,  0.45302913],\n",
       "        [ 1.60202756,  1.29076884,  0.02501387, ...,  0.91776299,\n",
       "         -0.771968  ,  0.36634343],\n",
       "        [ 0.7287607 , -1.38626143, -2.02498711, ..., -0.47258403,\n",
       "         -1.11627642,  0.09564287],\n",
       "        ...,\n",
       "        [ 0.43666857,  0.64100458, -1.87525252, ..., -0.59489407,\n",
       "          1.23886575,  0.42375108],\n",
       "        [ 0.84312788, -0.80936618, -1.53086641, ...,  0.22090653,\n",
       "         -0.32667033, -0.65034498],\n",
       "        [-0.49231737,  1.46636722, -1.52639546, ..., -1.13464199,\n",
       "          0.4558241 , -0.8405369 ]]),\n",
       " array([1, 1, 1, 1, 0, 0, 1, 0, 0, 1, 0, 0, 1, 0, 0, 0, 1, 0, 0, 1, 1, 0,\n",
       "        1, 0, 1, 0, 0, 1, 1, 0, 1, 0, 0, 1, 1, 1, 0, 1, 0, 0, 1, 1, 0, 1,\n",
       "        0, 0, 1, 1, 1, 1, 0, 1, 1, 1, 1, 1, 1, 0, 1, 0, 0, 1, 0, 1, 0, 0,\n",
       "        0, 0, 1, 1, 0, 0, 1, 0, 1, 0, 1, 1, 0, 0, 1, 1, 0, 1, 1, 0, 1, 0,\n",
       "        0, 1, 1, 1, 1, 1, 1, 1, 1, 0, 1, 1, 1, 1, 1, 0, 1, 0, 1, 1, 1, 0,\n",
       "        0, 0, 1, 1, 0, 1, 1, 1, 1, 0, 1, 1, 0, 0, 1, 1, 1, 1, 1, 1, 0, 0,\n",
       "        1, 0, 0, 1, 1, 1, 1, 0, 0, 0, 0, 0, 0, 1, 0, 1, 0, 0, 1, 0, 0, 0,\n",
       "        0, 1, 0, 1, 1, 1, 0, 0, 0, 1, 0, 1, 0, 0, 0, 1, 1, 1, 1, 1, 1, 1,\n",
       "        1, 0, 0, 1, 0, 0, 1, 0, 1, 1, 0, 1, 0, 1, 0, 1, 0, 1, 1, 0, 1, 0,\n",
       "        1, 0, 1, 1, 1, 0, 0, 1, 0, 1, 0, 1, 0, 1, 1, 1, 1, 1, 0, 1, 0, 1,\n",
       "        0, 1, 1, 0, 0, 1, 1, 1, 0, 1, 1, 0, 1, 1, 0, 1, 1, 0, 0, 1, 1, 1,\n",
       "        0, 1, 0, 1, 1, 1, 1, 1, 1, 1, 1, 0, 1, 0, 1, 1, 0, 1, 1, 1, 1, 0,\n",
       "        1, 1, 1, 0, 1, 0, 0, 1, 0, 1, 1, 0, 0, 1, 0, 0, 0, 1, 0, 0, 0, 1,\n",
       "        0, 1, 0, 1, 1, 0, 0, 0, 1, 1, 0, 0, 1, 1, 0, 0, 0, 0, 1, 1, 0, 1,\n",
       "        0, 0, 0, 0, 0, 0, 1, 0, 0, 1, 0, 1, 0, 1, 0, 0, 1, 0, 1, 1, 0, 1,\n",
       "        0, 1, 0, 1, 0, 1, 0, 1, 0, 0, 0, 1, 1, 0, 1, 1, 0, 0, 0, 0, 0, 1,\n",
       "        1, 1, 1, 1, 1, 1, 0, 1, 1, 1, 0, 1, 1, 1, 1, 1, 0, 0, 1, 0, 0, 0,\n",
       "        0, 0, 0, 1, 1, 1, 1, 0, 1, 1, 1, 0, 0, 0, 0, 0, 0, 1, 0, 1, 1, 1,\n",
       "        0, 1, 1, 0, 0, 0, 1, 0, 0, 0, 0, 1, 0, 0, 0, 0, 0, 1, 1, 0, 1, 1,\n",
       "        1, 0, 1, 0, 0, 0, 0, 0, 1, 0, 0, 1, 0, 1, 1, 1, 0, 0, 1, 1, 0, 0,\n",
       "        1, 1, 0, 0, 0, 1, 1, 0, 0, 0, 0, 0, 0, 1, 0, 1, 0, 1, 1, 1, 0, 1,\n",
       "        0, 1, 1, 0, 1, 1, 0, 1, 0, 1, 0, 0, 0, 0, 0, 1, 1, 0, 0, 1, 0, 0,\n",
       "        1, 0, 0, 1, 0, 1, 0, 0, 1, 1, 1, 1, 1, 0, 1, 0, 1, 1, 0, 1, 0, 0,\n",
       "        0, 1, 0, 0, 0, 0, 0, 0, 0, 0, 1, 0, 1, 1, 1, 1, 1, 1, 0, 0, 0, 0,\n",
       "        0, 0, 0, 1, 0, 1, 0, 0, 1, 0, 1, 1, 0, 0, 0, 0, 1, 0, 1, 1, 0, 0,\n",
       "        1, 0, 0, 0, 1, 1, 1, 1, 1, 1, 0, 0, 0, 0, 1, 0, 0, 0, 0, 1, 0, 0,\n",
       "        1, 0, 0, 0, 1, 0, 0, 1, 0, 1, 0, 1, 1, 1, 1, 1, 1, 1, 1, 0, 0, 0,\n",
       "        1, 0, 0, 1, 1, 0, 0, 0, 0, 1, 0, 0, 0, 0, 0, 0, 0, 0, 0, 1, 1, 0,\n",
       "        1, 0, 1, 1, 0, 1, 1, 1, 0, 0, 0, 0, 0, 1, 1, 0, 0, 1, 1, 0, 1, 1,\n",
       "        0, 0, 0, 1, 0, 0, 1, 0, 1, 1, 1, 0, 0, 0, 1, 1, 0, 0, 1, 1, 0, 0,\n",
       "        1, 0, 1, 1, 0, 1, 1, 0, 1, 0, 1, 1, 0, 0, 1, 0, 1, 0, 1, 0, 0, 0,\n",
       "        1, 0, 0, 0, 1, 0, 1, 0, 0, 1, 1, 1, 0, 0, 0, 1, 1, 1, 1, 1, 0, 1,\n",
       "        0, 1, 0, 0, 1, 1, 1, 0, 0, 1, 1, 1, 0, 0, 1, 1, 0, 1, 1, 0, 0, 0,\n",
       "        1, 1, 0, 1, 0, 0, 0, 0, 0, 0, 1, 0, 1, 1, 0, 0, 0, 0, 0, 1, 1, 1,\n",
       "        1, 0, 1, 0, 0, 0, 0, 0, 0, 0, 1, 0, 1, 0, 0, 0, 1, 1, 1, 0, 1, 1,\n",
       "        1, 0, 0, 0, 1, 0, 0, 0, 0, 1, 0, 0, 0, 0, 1, 0, 0, 1, 0, 1, 0, 1,\n",
       "        0, 1, 0, 0, 1, 1, 0, 0, 1, 1, 1, 1, 0, 1, 1, 1, 1, 1, 0, 0, 1, 1,\n",
       "        1, 0, 1, 0, 0, 0, 0, 0, 1, 1, 1, 0, 1, 0, 0, 0, 0, 1, 1, 1, 1, 0,\n",
       "        0, 1, 0, 0, 0, 0, 0, 1, 0, 0, 1, 1, 0, 0, 0, 1, 1, 1, 1, 0, 0, 0,\n",
       "        0, 1, 0, 0, 1, 0, 1, 1, 1, 0, 1, 0, 0, 1, 0, 1, 0, 0, 1, 0, 1, 1,\n",
       "        1, 0, 1, 0, 0, 1, 1, 0, 1, 1, 0, 1, 1, 1, 0, 0, 1, 1, 0, 0, 0, 1,\n",
       "        1, 1, 0, 0, 1, 0, 0, 0, 1, 1, 0, 0, 0, 0, 1, 1, 1, 1, 1, 1, 1, 0,\n",
       "        1, 0, 0, 0, 1, 0, 0, 1, 0, 1, 1, 0, 0, 0, 0, 1, 1, 0, 0, 0, 0, 0,\n",
       "        0, 0, 0, 1, 1, 0, 1, 0, 0, 1, 0, 1, 0, 1, 0, 1, 1, 0, 1, 1, 1, 0,\n",
       "        0, 1, 0, 0, 0, 0, 1, 1, 1, 0, 0, 0, 0, 1, 0, 1, 1, 0, 1, 0, 1, 1,\n",
       "        0, 1, 1, 1, 0, 1, 1, 1, 0, 1]))"
      ]
     },
     "execution_count": 63,
     "metadata": {},
     "output_type": "execute_result"
    }
   ],
   "source": [
    "x_train, y_train"
   ]
  },
  {
   "cell_type": "markdown",
   "metadata": {},
   "source": [
    "### Композиционная модель"
   ]
  },
  {
   "cell_type": "code",
   "execution_count": 64,
   "metadata": {},
   "outputs": [],
   "source": [
    "from sklearn.ensemble import GradientBoostingClassifier\n",
    "from sklearn.ensemble import RandomForestClassifier\n",
    "\n",
    "from catboost import CatBoostClassifier\n",
    "from xgboost import XGBClassifier\n",
    "from lightgbm import LGBMClassifier\n",
    "\n",
    "from sklearn.metrics import roc_auc_score\n",
    "from sklearn.model_selection import train_test_split\n",
    "\n",
    "XTrain, XTest, YTrain, YTest = train_test_split(x_train, y_train, test_size = 0.5, random_state = 42)\n",
    "XComposition, XTest_, YComposition, YTest_ = train_test_split(XTest, YTest, test_size = 0.33, random_state = 42)"
   ]
  },
  {
   "cell_type": "code",
   "execution_count": 65,
   "metadata": {},
   "outputs": [
    {
     "data": {
      "text/plain": [
       "(1.0, 0.9485092680113428)"
      ]
     },
     "execution_count": 65,
     "metadata": {},
     "output_type": "execute_result"
    }
   ],
   "source": [
    "model_RFC = RandomForestClassifier(n_estimators = 100, max_depth = 10, random_state = 42)\n",
    "model_RFC.fit(XTrain, YTrain)\n",
    "\n",
    "roc_auc_score(YTrain, model_RFC.predict_proba(XTrain).T[1]), roc_auc_score(YTest, model_RFC.predict_proba(XTest).T[1])"
   ]
  },
  {
   "cell_type": "code",
   "execution_count": 66,
   "metadata": {},
   "outputs": [
    {
     "data": {
      "text/plain": [
       "(1.0, 0.4752319005431039)"
      ]
     },
     "execution_count": 66,
     "metadata": {},
     "output_type": "execute_result"
    }
   ],
   "source": [
    "model_GBC = GradientBoostingClassifier(n_estimators = 200, max_depth = 10, random_state = 42)\n",
    "model_GBC.fit(XTrain, YTrain)\n",
    "\n",
    "roc_auc_score(YTrain, model_GBC.predict_proba(XTrain).T[1]), roc_auc_score(YTest, model_GBC.predict_proba(XTrain).T[1])"
   ]
  },
  {
   "cell_type": "code",
   "execution_count": 67,
   "metadata": {},
   "outputs": [
    {
     "data": {
      "text/plain": [
       "(1.0, 0.49305499927906565)"
      ]
     },
     "execution_count": 67,
     "metadata": {},
     "output_type": "execute_result"
    }
   ],
   "source": [
    "model_XGB = XGBClassifier(n_estimators = 100, max_depth = 100, random_state = 42)\n",
    "model_XGB.fit(XTrain, YTrain)\n",
    "\n",
    "roc_auc_score(YTrain, model_XGB.predict_proba(XTrain).T[1]), roc_auc_score(YTest, model_XGB.predict_proba(XTrain).T[1])"
   ]
  },
  {
   "cell_type": "code",
   "execution_count": 7,
   "metadata": {},
   "outputs": [
    {
     "data": {
      "text/plain": [
       "(1.0, 0.4839712267098159)"
      ]
     },
     "execution_count": 7,
     "metadata": {},
     "output_type": "execute_result"
    }
   ],
   "source": [
    "model_CBC = CatBoostClassifier(silent = True)\n",
    "model_CBC.fit(XTrain, YTrain)\n",
    "\n",
    "roc_auc_score(YTrain, model_CBC.predict_proba(XTrain).T[1]), roc_auc_score(YTest, model_CBC.predict_proba(XTrain).T[1])"
   ]
  },
  {
   "cell_type": "code",
   "execution_count": 8,
   "metadata": {},
   "outputs": [
    {
     "name": "stdout",
     "output_type": "stream",
     "text": [
      "[LightGBM] [Warning] Accuracy may be bad since you didn't explicitly set num_leaves OR 2^max_depth > num_leaves. (num_leaves=31).\n"
     ]
    },
    {
     "data": {
      "text/plain": [
       "(1.0, 0.48054278344734774)"
      ]
     },
     "execution_count": 8,
     "metadata": {},
     "output_type": "execute_result"
    }
   ],
   "source": [
    "model_LGBM = LGBMClassifier(n_estimators = 100, learning_rate = 0.1, max_depth = 100)\n",
    "model_LGBM.fit(XTrain, YTrain)\n",
    "\n",
    "roc_auc_score(YTrain, model_LGBM.predict_proba(XTrain).T[1]), roc_auc_score(YTest, model_LGBM.predict_proba(XTrain).T[1])"
   ]
  },
  {
   "cell_type": "code",
   "execution_count": 9,
   "metadata": {},
   "outputs": [],
   "source": [
    "from sklearn.linear_model import LogisticRegression\n",
    "\n",
    "composition_arr = np.array([model_RFC.predict_proba(XComposition).T[1], model_GBC.predict_proba(XComposition).T[1], \n",
    "                        model_XGB.predict_proba(XComposition).T[1], model_CBC.predict_proba(XComposition).T[1],\n",
    "                        model_LGBM.predict_proba(XComposition).T[1]]).T\n",
    "\n",
    "composition_model = LogisticRegression().fit(composition_arr, YComposition)"
   ]
  },
  {
   "cell_type": "code",
   "execution_count": 10,
   "metadata": {},
   "outputs": [
    {
     "data": {
      "text/plain": [
       "(array([[1.36797811, 0.34896072, 1.34855251, 2.84200797, 0.83562803]]),\n",
       " 0.9602524872234416)"
      ]
     },
     "execution_count": 10,
     "metadata": {},
     "output_type": "execute_result"
    }
   ],
   "source": [
    "composition_arr_test = np.array([model_RFC.predict_proba(XTest).T[1], model_GBC.predict_proba(XTest).T[1], \n",
    "                        model_XGB.predict_proba(XTest).T[1], model_CBC.predict_proba(XTest).T[1],\n",
    "                        model_LGBM.predict_proba(XTest).T[1]]).T\n",
    "\n",
    "composition_model.coef_, roc_auc_score(YTest, composition_model.predict_proba(composition_arr_test).T[1])"
   ]
  },
  {
   "cell_type": "markdown",
   "metadata": {},
   "source": [
    "#### Готовая модель"
   ]
  },
  {
   "cell_type": "code",
   "execution_count": 11,
   "metadata": {},
   "outputs": [],
   "source": [
    "import numpy as np\n",
    "\n",
    "import json, pickle\n",
    "\n",
    "from sklearn.ensemble import GradientBoostingClassifier\n",
    "from sklearn.ensemble import RandomForestClassifier\n",
    "\n",
    "from catboost import CatBoostClassifier\n",
    "from xgboost import XGBClassifier\n",
    "from lightgbm import LGBMClassifier\n",
    "\n",
    "from sklearn.linear_model import LogisticRegression\n",
    "\n",
    "from sklearn.metrics import roc_auc_score\n",
    "from sklearn.model_selection import train_test_split\n",
    "\n",
    "class Model:\n",
    "    def __init__(self, random_state):\n",
    "        self.random_state = random_state\n",
    "\n",
    "    def load(self, path_arr):\n",
    "        x_train = []\n",
    "        y_train = []\n",
    "\n",
    "        with open(path_arr[0], \"r\") as file:\n",
    "            x_train = np.array(json.loads(''.join(list(map(lambda x: x.strip(), file.readlines())))))\n",
    "\n",
    "        with open(path_arr[1], \"r\") as file:\n",
    "            y_train = np.array(json.loads(''.join(list(map(lambda x: x.strip(), file.readlines())))))\n",
    "\n",
    "        self.XTrain, self.XComposition, self.YTrain, self.YComposition = train_test_split(x_train, y_train, test_size = 0.5, random_state = 42)\n",
    "\n",
    "    def train_models(self):\n",
    "        self.model_RFC = RandomForestClassifier(n_estimators = 100, max_depth = 10, random_state = 42)\n",
    "        self.model_RFC.fit(self.XTrain, self.YTrain)\n",
    "\n",
    "        self.model_GBC = GradientBoostingClassifier(n_estimators = 200, max_depth = 10, random_state = 42)\n",
    "        self.model_GBC.fit(self.XTrain, self.YTrain)\n",
    "\n",
    "        self.model_XGB = XGBClassifier(n_estimators = 100, max_depth = 100, random_state = 42)\n",
    "        self.model_XGB.fit(self.XTrain, self.YTrain)\n",
    "\n",
    "        self.model_CBC = CatBoostClassifier(silent = True)\n",
    "        self.model_CBC.fit(self.XTrain, self.YTrain)\n",
    "\n",
    "        self.model_LGBM = LGBMClassifier(n_estimators = 100, learning_rate = 0.1, max_depth = 100)\n",
    "        self.model_LGBM.fit(self.XTrain, self.YTrain)\n",
    "\n",
    "    def composition_predict(self, X):\n",
    "        return np.array([self.model_RFC.predict(X), self.model_GBC.predict(X), self.model_XGB.predict(X), self.model_CBC.predict(X), self.model_LGBM.predict(X)])\n",
    "\n",
    "    def composition_predict_proba(self, X):\n",
    "        return np.array([self.model_RFC.predict_proba(X).T[1], self.model_GBC.predict_proba(X).T[1], self.model_XGB.predict_proba(X).T[1], self.model_CBC.predict_proba(X).T[1], self.model_LGBM.predict_proba(X).T[1]])\n",
    "\n",
    "    def composition_models(self):\n",
    "        self.composition_arr = self.composition_predict_proba(self.XComposition).T\n",
    "        self.composition_model = LogisticRegression().fit(self.composition_arr, self.YComposition)\n",
    "\n",
    "    def fit(self):\n",
    "        self.train_models()\n",
    "        self.composition_models()\n",
    "\n",
    "    def predict(self, X):\n",
    "        enter_composition = self.composition_predict(X).T\n",
    "\n",
    "        return self.composition_model.predict(enter_composition)\n",
    "\n",
    "    def predict_proba(self, X):\n",
    "        enter_composition = self.composition_predict_proba(X)\n",
    "\n",
    "        return self.composition_model.predict_proba(enter_composition).T[1]"
   ]
  },
  {
   "cell_type": "markdown",
   "metadata": {},
   "source": [
    "#### Загрузка в .pkl файл"
   ]
  },
  {
   "cell_type": "code",
   "execution_count": 12,
   "metadata": {},
   "outputs": [
    {
     "name": "stdout",
     "output_type": "stream",
     "text": [
      "[LightGBM] [Warning] Accuracy may be bad since you didn't explicitly set num_leaves OR 2^max_depth > num_leaves. (num_leaves=31).\n"
     ]
    }
   ],
   "source": [
    "model = Model(random_state = 42)\n",
    "\n",
    "model.load([\"data/x_train.txt\", \"data/y_train.txt\"])\n",
    "model.train_models()\n",
    "model.fit()\n",
    "\n",
    "with open(\"model.pkl\", \"wb\") as file:\n",
    "    pickle.dump(model, file)"
   ]
  },
  {
   "cell_type": "markdown",
   "metadata": {},
   "source": [
    "### Random Forest"
   ]
  },
  {
   "cell_type": "code",
   "execution_count": 1,
   "metadata": {},
   "outputs": [],
   "source": [
    "from sklearn.ensemble import RandomForestClassifier\n",
    "from sklearn.model_selection import train_test_split\n",
    "from sklearn.metrics import roc_auc_score\n",
    "\n",
    "import pickle, json\n",
    "import numpy as np\n",
    "\n",
    "x_train = []\n",
    "y_train = []\n",
    "\n",
    "with open(\"data/x_train.txt\", \"r\") as file:\n",
    "    x_train = np.array(json.loads(''.join(list(map(lambda x: x.strip(), file.readlines())))))\n",
    "\n",
    "with open(\"data/y_train.txt\", \"r\") as file:\n",
    "    y_train = np.array(json.loads(''.join(list(map(lambda x: x.strip(), file.readlines())))))    "
   ]
  },
  {
   "cell_type": "code",
   "execution_count": 2,
   "metadata": {},
   "outputs": [],
   "source": [
    "XTrain, XTest, YTrain, YTest = train_test_split(x_train, y_train, test_size = 0.33, random_state = 42)"
   ]
  },
  {
   "cell_type": "markdown",
   "metadata": {},
   "source": [
    "##### Базовый результат"
   ]
  },
  {
   "cell_type": "code",
   "execution_count": 3,
   "metadata": {},
   "outputs": [
    {
     "data": {
      "text/plain": [
       "(1.0, 0.9705007163586937)"
      ]
     },
     "execution_count": 3,
     "metadata": {},
     "output_type": "execute_result"
    }
   ],
   "source": [
    "model_init_rfc = RandomForestClassifier(n_estimators = 100, max_depth = 10, random_state = 42)\n",
    "model_init_rfc.fit(XTrain, YTrain)\n",
    "\n",
    "roc_auc_score(YTrain, model_init_rfc.predict_proba(XTrain).T[1]), roc_auc_score(YTest, model_init_rfc.predict_proba(XTest).T[1])"
   ]
  },
  {
   "cell_type": "markdown",
   "metadata": {},
   "source": [
    "##### Нахождение фичей и удаление \"ненужных\" колонок"
   ]
  },
  {
   "cell_type": "code",
   "execution_count": 4,
   "metadata": {},
   "outputs": [
    {
     "data": {
      "text/plain": [
       "array([ 2,  5, 15, 19, 21, 22])"
      ]
     },
     "execution_count": 4,
     "metadata": {},
     "output_type": "execute_result"
    }
   ],
   "source": [
    "import pandas as pd\n",
    "\n",
    "features_rfc = pd.Series(model_init_rfc.feature_importances_)\n",
    "\n",
    "best_features_rfc = np.array(features_rfc[features_rfc > 0.02].index)\n",
    "best_features_rfc"
   ]
  },
  {
   "cell_type": "code",
   "execution_count": 5,
   "metadata": {},
   "outputs": [
    {
     "data": {
      "text/plain": [
       "(1.0, 0.9790970206825612)"
      ]
     },
     "execution_count": 5,
     "metadata": {},
     "output_type": "execute_result"
    }
   ],
   "source": [
    "XTrain_best_rfc = XTrain[:, best_features_rfc]\n",
    "XTest_best_rfc = XTest[:, best_features_rfc]\n",
    "\n",
    "model_best_rfc = RandomForestClassifier(n_estimators = 100, max_depth = 10, random_state = 42)\n",
    "model_best_rfc.fit(XTrain_best_rfc, YTrain)\n",
    "\n",
    "roc_auc_score(YTrain, model_best_rfc.predict_proba(XTrain_best_rfc).T[1]), roc_auc_score(YTest, model_best_rfc.predict_proba(XTest_best_rfc).T[1])"
   ]
  },
  {
   "cell_type": "markdown",
   "metadata": {},
   "source": [
    "#### Кросс-валидация"
   ]
  },
  {
   "cell_type": "code",
   "execution_count": 6,
   "metadata": {},
   "outputs": [],
   "source": [
    "import matplotlib.pyplot as plt"
   ]
  },
  {
   "cell_type": "markdown",
   "metadata": {},
   "source": [
    "##### Параметр n_estimators"
   ]
  },
  {
   "cell_type": "code",
   "execution_count": 7,
   "metadata": {},
   "outputs": [
    {
     "name": "stdout",
     "output_type": "stream",
     "text": [
      "i: 10; score: (0.9998171993151662, 0.9703905073289005)\n",
      "i: 20; score: (0.9998840776144957, 0.9753682818412255)\n",
      "i: 50; score: (0.9999910828934228, 0.9783806619889056)\n",
      "i: 75; score: (1.0, 0.9774622534072958)\n",
      "i: 100; score: (1.0, 0.9790970206825612)\n",
      "i: 150; score: (1.0, 0.9799052202343779)\n",
      "i: 200; score: (1.0, 0.9796664340031594)\n",
      "max of n_estimators_result: 0.9799052202343779; i: 150\n"
     ]
    },
    {
     "data": {
      "text/plain": [
       "[<matplotlib.lines.Line2D at 0x7efe3870f3d0>]"
      ]
     },
     "execution_count": 7,
     "metadata": {},
     "output_type": "execute_result"
    },
    {
     "data": {
      "image/png": "[encoded data removed]",
      "text/plain": [
       "<Figure size 432x288 with 1 Axes>"
      ]
     },
     "metadata": {
      "needs_background": "light"
     },
     "output_type": "display_data"
    }
   ],
   "source": [
    "n_estimators_range = [10, 20, 50, 75, 100, 150, 200]\n",
    "n_estimators_result = []\n",
    "\n",
    "for n_estimators_param in n_estimators_range:\n",
    "    model_best_rfc = RandomForestClassifier(n_estimators = n_estimators_param, max_depth = 10, random_state = 42)\n",
    "    model_best_rfc.fit(XTrain_best_rfc, YTrain)\n",
    "\n",
    "    score = roc_auc_score(YTrain, model_best_rfc.predict_proba(XTrain_best_rfc).T[1]), roc_auc_score(YTest, model_best_rfc.predict_proba(XTest_best_rfc).T[1])\n",
    "    \n",
    "    n_estimators_result.append(score[1])\n",
    "    \n",
    "    print(\"i: {0}; score: {1}\".format(n_estimators_param, score))\n",
    "\n",
    "print(\"max of n_estimators_result: {0}; i: {1}\".format(max(n_estimators_result), n_estimators_range[n_estimators_result.index(max(n_estimators_result))]))\n",
    "    \n",
    "plt.plot(n_estimators_range, n_estimators_result)"
   ]
  },
  {
   "cell_type": "markdown",
   "metadata": {},
   "source": [
    "##### Параметр max_depth"
   ]
  },
  {
   "cell_type": "code",
   "execution_count": 8,
   "metadata": {},
   "outputs": [
    {
     "name": "stdout",
     "output_type": "stream",
     "text": [
      "i: 5; score: (0.9913147381937509, 0.9775908306087212)\n",
      "i: 7; score: (0.9984930089884434, 0.9788031299364461)\n",
      "i: 9; score: (0.9999643315736909, 0.9803460563535507)\n",
      "i: 11; score: (1.0, 0.9781786121009515)\n",
      "i: 13; score: (1.0, 0.9776275669519855)\n",
      "i: 15; score: (1.0, 0.9784541346754343)\n",
      "max of max_depth_result: 0.9803460563535507; i: 9\n"
     ]
    },
    {
     "data": {
      "text/plain": [
       "[<matplotlib.lines.Line2D at 0x7efe38687940>]"
      ]
     },
     "execution_count": 8,
     "metadata": {},
     "output_type": "execute_result"
    },
    {
     "data": {
      "image/png": "[encoded data removed]",
      "text/plain": [
       "<Figure size 432x288 with 1 Axes>"
      ]
     },
     "metadata": {
      "needs_background": "light"
     },
     "output_type": "display_data"
    }
   ],
   "source": [
    "max_depth_range = np.arange(5, 17, 2)\n",
    "max_depth_result = []\n",
    "\n",
    "for max_depth_param in max_depth_range:\n",
    "    model_best_rfc = RandomForestClassifier(n_estimators = 100, max_depth = max_depth_param, random_state = 42)\n",
    "    model_best_rfc.fit(XTrain_best_rfc, YTrain)\n",
    "\n",
    "    score = roc_auc_score(YTrain, model_best_rfc.predict_proba(XTrain_best_rfc).T[1]), roc_auc_score(YTest, model_best_rfc.predict_proba(XTest_best_rfc).T[1])\n",
    "    \n",
    "    max_depth_result.append(score[1])\n",
    "    \n",
    "    print(\"i: {0}; score: {1}\".format(max_depth_param, score))\n",
    "\n",
    "print(\"max of max_depth_result: {0}; i: {1}\".format(max(max_depth_result), max_depth_range[max_depth_result.index(max(max_depth_result))]))\n",
    "    \n",
    "plt.plot(max_depth_range, max_depth_result)"
   ]
  },
  {
   "cell_type": "markdown",
   "metadata": {},
   "source": [
    "##### Кросс-валидация двух параметров"
   ]
  },
  {
   "cell_type": "code",
   "execution_count": 9,
   "metadata": {},
   "outputs": [
    {
     "name": "stdout",
     "output_type": "stream",
     "text": [
      "----n_estimators_param: 10----\n",
      "max_depth_param: 5; score: (0.9874759238122415, 0.9681495903897726)\n",
      "max_depth_param: 7; score: (0.9975210443715223, 0.9713823885970391)\n",
      "max_depth_param: 9; score: (0.9992732558139535, 0.9738988281106498)\n",
      "max_depth_param: 11; score: (0.999892994721073, 0.9699496712097277)\n",
      "max_depth_param: 13; score: (0.9998840776144957, 0.9731273649020976)\n",
      "max_depth_param: 15; score: (0.9998885361677843, 0.9738804599390176)\n",
      "----n_estimators_param: 20----\n",
      "max_depth_param: 5; score: (0.9897943715223285, 0.9770765218030195)\n",
      "max_depth_param: 7; score: (0.998064987872735, 0.9768377355718012)\n",
      "max_depth_param: 9; score: (0.9996522328434869, 0.9771683626611807)\n",
      "max_depth_param: 11; score: (1.0, 0.9725212152382352)\n",
      "max_depth_param: 13; score: (1.0, 0.9759376951618235)\n",
      "max_depth_param: 15; score: (1.0, 0.976341794937732)\n",
      "----n_estimators_param: 50----\n",
      "max_depth_param: 5; score: (0.9908064631188472, 0.9792072297123544)\n",
      "max_depth_param: 7; score: (0.9984840918818662, 0.9795011204584695)\n",
      "max_depth_param: 9; score: (0.9999019118276501, 0.9797399066896881)\n",
      "max_depth_param: 11; score: (1.0, 0.9772602035193416)\n",
      "max_depth_param: 13; score: (1.0, 0.9765071084824217)\n",
      "max_depth_param: 15; score: (1.0, 0.9776826714668821)\n",
      "----n_estimators_param: 75----\n",
      "max_depth_param: 5; score: (0.9916446711371094, 0.9781418757576871)\n",
      "max_depth_param: 7; score: (0.9984216721358253, 0.9790602843392968)\n",
      "max_depth_param: 9; score: (0.9999464973605365, 0.9793541750854119)\n",
      "max_depth_param: 11; score: (1.0, 0.9761948495646743)\n",
      "max_depth_param: 13; score: (1.0, 0.9764336357958929)\n",
      "max_depth_param: 15; score: (1.0, 0.9772969398626061)\n",
      "----n_estimators_param: 100----\n",
      "max_depth_param: 5; score: (0.9913147381937509, 0.9775908306087212)\n",
      "max_depth_param: 7; score: (0.9984930089884434, 0.9788031299364461)\n",
      "max_depth_param: 9; score: (0.9999643315736909, 0.9803460563535507)\n",
      "max_depth_param: 11; score: (1.0, 0.9781786121009515)\n",
      "max_depth_param: 13; score: (1.0, 0.9776275669519855)\n",
      "max_depth_param: 15; score: (1.0, 0.9784541346754343)\n",
      "----n_estimators_param: 150----\n",
      "max_depth_param: 5; score: (0.9913771579397916, 0.9786194482201241)\n",
      "max_depth_param: 7; score: (0.9984662576687117, 0.9798684838911135)\n",
      "max_depth_param: 9; score: (1.0, 0.9797582748613204)\n",
      "max_depth_param: 11; score: (1.0, 0.9794643841152052)\n",
      "max_depth_param: 13; score: (1.0, 0.9783622938172735)\n",
      "max_depth_param: 15; score: (0.9999999999999999, 0.9789500753095037)\n",
      "----n_estimators_param: 200----\n",
      "max_depth_param: 5; score: (0.9917962619489229, 0.9775908306087212)\n",
      "max_depth_param: 7; score: (0.9985643458410615, 0.9797215385180558)\n",
      "max_depth_param: 9; score: (1.0, 0.9795011204584695)\n",
      "max_depth_param: 11; score: (1.0, 0.9791153888541935)\n",
      "max_depth_param: 13; score: (1.0, 0.9783071893023769)\n",
      "max_depth_param: 15; score: (1.0, 0.9786929209066529)\n"
     ]
    }
   ],
   "source": [
    "import pandas as pd\n",
    "\n",
    "common_result = []\n",
    "\n",
    "for n_estimators_param in n_estimators_range:\n",
    "    print(\"----n_estimators_param: {0}----\".format(n_estimators_param))\n",
    "    for max_depth_param in max_depth_range:\n",
    "        model_best_rfc = RandomForestClassifier(n_estimators = n_estimators_param, max_depth = max_depth_param, random_state = 42)\n",
    "        model_best_rfc.fit(XTrain_best_rfc, YTrain)\n",
    "\n",
    "        score = roc_auc_score(YTrain, model_best_rfc.predict_proba(XTrain_best_rfc).T[1]), roc_auc_score(YTest, model_best_rfc.predict_proba(XTest_best_rfc).T[1])\n",
    "\n",
    "        common_result.append([score[1], (n_estimators_param, max_depth_param)])\n",
    "\n",
    "        print(\"max_depth_param: {0}; score: {1}\".format(max_depth_param, score))"
   ]
  },
  {
   "cell_type": "markdown",
   "metadata": {},
   "source": [
    "##### Результат"
   ]
  },
  {
   "cell_type": "code",
   "execution_count": 10,
   "metadata": {},
   "outputs": [
    {
     "name": "stdout",
     "output_type": "stream",
     "text": [
      "Max score: 0.9803460563535507; Params: n_estimators: 100, max_depth: 9\n"
     ]
    },
    {
     "name": "stderr",
     "output_type": "stream",
     "text": [
      "<ipython-input-10-2724742e8150>:3: VisibleDeprecationWarning: Creating an ndarray from ragged nested sequences (which is a list-or-tuple of lists-or-tuples-or ndarrays with different lengths or shapes) is deprecated. If you meant to do this, you must specify 'dtype=object' when creating the ndarray\n",
      "  common_result_np = np.array(common_result)\n"
     ]
    },
    {
     "data": {
      "text/plain": [
       "[<matplotlib.lines.Line2D at 0x7efe385f5e20>]"
      ]
     },
     "execution_count": 10,
     "metadata": {},
     "output_type": "execute_result"
    },
    {
     "data": {
      "image/png": "[encoded data removed]",
      "text/plain": [
       "<Figure size 432x288 with 1 Axes>"
      ]
     },
     "metadata": {
      "needs_background": "light"
     },
     "output_type": "display_data"
    }
   ],
   "source": [
    "max_score = max(list(map(lambda x: x[0], common_result)))\n",
    "\n",
    "common_result_np = np.array(common_result)\n",
    "\n",
    "common_result_pd = pd.Series(list(common_result_np.T[1 :][0].T), index = common_result_np.T[0])\n",
    "\n",
    "print(\"Max score: {0}; Params: n_estimators: {1}, max_depth: {2}\".format(max_score, common_result_pd[max_score][0], common_result_pd[max_score][1]))\n",
    "\n",
    "plt.plot(range(0, len(n_estimators_range) * len(max_depth_range)), list(map(lambda x: x[0], common_result)))"
   ]
  },
  {
   "cell_type": "markdown",
   "metadata": {},
   "source": [
    "Оптимальные параметры: n_estimators = 100, max_depth = 9 <br />\n",
    "score(на тестовой выборке) ~= 0.98"
   ]
  },
  {
   "cell_type": "markdown",
   "metadata": {},
   "source": [
    "### XGBoost"
   ]
  },
  {
   "cell_type": "code",
   "execution_count": 13,
   "metadata": {},
   "outputs": [
    {
     "data": {
      "text/plain": [
       "(1.0, 0.9675985452408067)"
      ]
     },
     "execution_count": 13,
     "metadata": {},
     "output_type": "execute_result"
    }
   ],
   "source": [
    "from xgboost import XGBClassifier\n",
    "\n",
    "model_init_xgb = XGBClassifier(n_estimators = 100, max_depth = 10, random_state = 42)\n",
    "model_init_xgb.fit(XTrain, YTrain)\n",
    "\n",
    "roc_auc_score(YTrain, model_init_xgb.predict_proba(XTrain).T[1]), roc_auc_score(YTest, model_init_xgb.predict_proba(XTest).T[1])"
   ]
  },
  {
   "cell_type": "code",
   "execution_count": 15,
   "metadata": {},
   "outputs": [
    {
     "data": {
      "text/plain": [
       "array([ 0,  2,  5,  7, 11, 15, 16, 19, 21, 22, 25, 26])"
      ]
     },
     "execution_count": 15,
     "metadata": {},
     "output_type": "execute_result"
    }
   ],
   "source": [
    "features_xgb = pd.Series(model_init_xgb.feature_importances_)\n",
    "\n",
    "best_features_xgb = np.array(features_xgb[features_xgb > 0.02].index)\n",
    "best_features_xgb"
   ]
  },
  {
   "cell_type": "code",
   "execution_count": 17,
   "metadata": {},
   "outputs": [
    {
     "data": {
      "text/plain": [
       "(1.0, 0.9683700084493589)"
      ]
     },
     "execution_count": 17,
     "metadata": {},
     "output_type": "execute_result"
    }
   ],
   "source": [
    "XTrain_best_xgb = XTrain[:, best_features_xgb]\n",
    "XTest_best_xgb = XTest[:, best_features_xgb]\n",
    "\n",
    "model_best_xgb = XGBClassifier(n_estimators = 100, max_depth = 10, random_state = 42)\n",
    "model_best_xgb.fit(XTrain_best_xgb, YTrain)\n",
    "\n",
    "roc_auc_score(YTrain, model_best_xgb.predict_proba(XTrain_best_xgb).T[1]), roc_auc_score(YTest, model_best_xgb.predict_proba(XTest_best_xgb).T[1])"
   ]
  },
  {
   "cell_type": "code",
   "execution_count": 25,
   "metadata": {},
   "outputs": [
    {
     "name": "stdout",
     "output_type": "stream",
     "text": [
      "i: 200; score: (1.0, 0.9696925168068771)\n",
      "i: 500; score: (1.0, 0.9699496712097279)\n",
      "i: 1000; score: (1.0, 0.9702435619558429)\n",
      "i: 1200; score: (1.0, 0.9702068256125785)\n",
      "max of n_estimators_result: 0.9702435619558429; i: 1000\n"
     ]
    },
    {
     "data": {
      "text/plain": [
       "[<matplotlib.lines.Line2D at 0x7efe282f7910>]"
      ]
     },
     "execution_count": 25,
     "metadata": {},
     "output_type": "execute_result"
    },
    {
     "data": {
      "image/png": "[encoded data removed]",
      "text/plain": [
       "<Figure size 432x288 with 1 Axes>"
      ]
     },
     "metadata": {
      "needs_background": "light"
     },
     "output_type": "display_data"
    }
   ],
   "source": [
    "n_estimators_range = [200, 500, 1000, 1200]\n",
    "n_estimators_result = []\n",
    "\n",
    "for n_estimators_param in n_estimators_range:\n",
    "    model_best_xgb = XGBClassifier(n_estimators = n_estimators_param, max_depth = 10, random_state = 42)\n",
    "    model_best_xgb.fit(XTrain_best_xgb, YTrain)\n",
    "\n",
    "    score = roc_auc_score(YTrain, model_best_xgb.predict_proba(XTrain_best_xgb).T[1]), roc_auc_score(YTest, model_best_xgb.predict_proba(XTest_best_xgb).T[1])\n",
    "    \n",
    "    n_estimators_result.append(score[1])\n",
    "    \n",
    "    print(\"i: {0}; score: {1}\".format(n_estimators_param, score))\n",
    "\n",
    "print(\"max of n_estimators_result: {0}; i: {1}\".format(max(n_estimators_result), n_estimators_range[n_estimators_result.index(max(n_estimators_result))]))\n",
    "    \n",
    "plt.plot(n_estimators_range, n_estimators_result)"
   ]
  },
  {
   "cell_type": "code",
   "execution_count": 27,
   "metadata": {},
   "outputs": [
    {
     "name": "stdout",
     "output_type": "stream",
     "text": [
      "i: 5; score: (0.9919389356541589, 0.9736233055361669)\n",
      "i: 7; score: (0.9987516050791839, 0.977296939862606)\n",
      "i: 9; score: (1.0, 0.9780684030711584)\n",
      "i: 11; score: (1.0, 0.9790235479960324)\n",
      "i: 13; score: (1.0, 0.9788766026229749)\n",
      "i: 15; score: (0.9999999999999999, 0.9789500753095037)\n",
      "i: 17; score: (1.0, 0.9789868116527682)\n",
      "i: 19; score: (1.0, 0.9790235479960325)\n",
      "i: 21; score: (1.0, 0.9790235479960325)\n",
      "i: 23; score: (1.0, 0.9790235479960325)\n",
      "max of max_depth_result: 0.9790235479960325; i: 19\n"
     ]
    },
    {
     "data": {
      "text/plain": [
       "[<matplotlib.lines.Line2D at 0x7efe28394d90>]"
      ]
     },
     "execution_count": 27,
     "metadata": {},
     "output_type": "execute_result"
    },
    {
     "data": {
      "image/png": "[encoded data removed]",
      "text/plain": [
       "<Figure size 432x288 with 1 Axes>"
      ]
     },
     "metadata": {
      "needs_background": "light"
     },
     "output_type": "display_data"
    }
   ],
   "source": [
    "max_depth_range = np.arange(5, 25, 2)\n",
    "max_depth_result = []\n",
    "\n",
    "for max_depth_param in max_depth_range:\n",
    "    model_best_xgb = RandomForestClassifier(n_estimators = 1000, max_depth = max_depth_param, random_state = 42)\n",
    "    model_best_xgb.fit(XTrain_best_xgb, YTrain)\n",
    "\n",
    "    score = roc_auc_score(YTrain, model_best_xgb.predict_proba(XTrain_best_xgb).T[1]), roc_auc_score(YTest, model_best_xgb.predict_proba(XTest_best_xgb).T[1])\n",
    "    \n",
    "    max_depth_result.append(score[1])\n",
    "    \n",
    "    print(\"i: {0}; score: {1}\".format(max_depth_param, score))\n",
    "\n",
    "print(\"max of max_depth_result: {0}; i: {1}\".format(max(max_depth_result), max_depth_range[max_depth_result.index(max(max_depth_result))]))\n",
    "    \n",
    "plt.plot(max_depth_range, max_depth_result)"
   ]
  },
  {
   "cell_type": "code",
   "execution_count": 28,
   "metadata": {},
   "outputs": [
    {
     "name": "stdout",
     "output_type": "stream",
     "text": [
      "----n_estimators_param: 200----\n",
      "max_depth_param: 5; score: (0.9923669567698674, 0.9731457330737299)\n",
      "max_depth_param: 7; score: (0.9988586103581111, 0.9758642224752948)\n",
      "max_depth_param: 9; score: (0.9999821657868455, 0.9778112486683076)\n",
      "max_depth_param: 11; score: (0.9999999999999999, 0.9787480254215495)\n",
      "max_depth_param: 13; score: (1.0, 0.9783071893023767)\n",
      "max_depth_param: 15; score: (1.0, 0.9782704529591124)\n",
      "max_depth_param: 17; score: (1.0, 0.9782153484442158)\n",
      "max_depth_param: 19; score: (1.0, 0.9782153484442158)\n",
      "max_depth_param: 21; score: (1.0, 0.9782153484442158)\n",
      "max_depth_param: 23; score: (1.0, 0.9782153484442158)\n",
      "----n_estimators_param: 500----\n",
      "max_depth_param: 5; score: (0.9922242830646311, 0.974284559714926)\n",
      "max_depth_param: 7; score: (0.9987337708660294, 0.9765989493405826)\n",
      "max_depth_param: 9; score: (0.9999821657868455, 0.9779581940413652)\n",
      "max_depth_param: 11; score: (1.0, 0.9793909114286764)\n",
      "max_depth_param: 13; score: (1.0, 0.9789133389662391)\n",
      "max_depth_param: 15; score: (1.0, 0.9790602843392968)\n",
      "max_depth_param: 17; score: (1.0, 0.9790602843392968)\n",
      "max_depth_param: 19; score: (1.0, 0.9790419161676647)\n",
      "max_depth_param: 21; score: (1.0, 0.9790419161676647)\n",
      "max_depth_param: 23; score: (1.0, 0.9790419161676647)\n",
      "----n_estimators_param: 1000----\n",
      "max_depth_param: 5; score: (0.9919389356541589, 0.9736233055361669)\n",
      "max_depth_param: 7; score: (0.9987516050791839, 0.977296939862606)\n",
      "max_depth_param: 9; score: (1.0, 0.9780684030711584)\n",
      "max_depth_param: 11; score: (1.0, 0.9790235479960324)\n",
      "max_depth_param: 13; score: (1.0, 0.9788766026229749)\n",
      "max_depth_param: 15; score: (0.9999999999999999, 0.9789500753095037)\n",
      "max_depth_param: 17; score: (1.0, 0.9789868116527682)\n",
      "max_depth_param: 19; score: (1.0, 0.9790235479960325)\n",
      "max_depth_param: 21; score: (1.0, 0.9790235479960325)\n",
      "max_depth_param: 23; score: (1.0, 0.9790235479960325)\n",
      "----n_estimators_param: 1200----\n",
      "max_depth_param: 5; score: (0.9919121843344272, 0.9737702509092245)\n",
      "max_depth_param: 7; score: (0.9987605221857612, 0.9775173579221925)\n",
      "max_depth_param: 9; score: (1.0, 0.9781786121009515)\n",
      "max_depth_param: 11; score: (1.0, 0.97917049336909)\n",
      "max_depth_param: 13; score: (1.0, 0.9787663935931816)\n",
      "max_depth_param: 15; score: (1.0, 0.9788031299364461)\n",
      "max_depth_param: 17; score: (1.0, 0.978784761764814)\n",
      "max_depth_param: 19; score: (1.0, 0.9787847617648139)\n",
      "max_depth_param: 21; score: (1.0, 0.9787847617648139)\n",
      "max_depth_param: 23; score: (1.0, 0.9787847617648139)\n"
     ]
    }
   ],
   "source": [
    "import pandas as pd\n",
    "\n",
    "common_result = []\n",
    "\n",
    "for n_estimators_param in n_estimators_range:\n",
    "    print(\"----n_estimators_param: {0}----\".format(n_estimators_param))\n",
    "    for max_depth_param in max_depth_range:\n",
    "        model_best_xgb = RandomForestClassifier(n_estimators = n_estimators_param, max_depth = max_depth_param, random_state = 42)\n",
    "        model_best_xgb.fit(XTrain_best_xgb, YTrain)\n",
    "\n",
    "        score = roc_auc_score(YTrain, model_best_xgb.predict_proba(XTrain_best_xgb).T[1]), roc_auc_score(YTest, model_best_xgb.predict_proba(XTest_best_xgb).T[1])\n",
    "\n",
    "        common_result.append([score[1], (n_estimators_param, max_depth_param)])\n",
    "\n",
    "        print(\"max_depth_param: {0}; score: {1}\".format(max_depth_param, score))"
   ]
  },
  {
   "cell_type": "code",
   "execution_count": 29,
   "metadata": {},
   "outputs": [
    {
     "name": "stdout",
     "output_type": "stream",
     "text": [
      "Max score: 0.9793909114286764; Params: n_estimators: 500, max_depth: 11\n"
     ]
    },
    {
     "name": "stderr",
     "output_type": "stream",
     "text": [
      "<ipython-input-29-2724742e8150>:3: VisibleDeprecationWarning: Creating an ndarray from ragged nested sequences (which is a list-or-tuple of lists-or-tuples-or ndarrays with different lengths or shapes) is deprecated. If you meant to do this, you must specify 'dtype=object' when creating the ndarray\n",
      "  common_result_np = np.array(common_result)\n"
     ]
    },
    {
     "data": {
      "text/plain": [
       "[<matplotlib.lines.Line2D at 0x7efe28132ac0>]"
      ]
     },
     "execution_count": 29,
     "metadata": {},
     "output_type": "execute_result"
    },
    {
     "data": {
      "image/png": "[encoded data removed]",
      "text/plain": [
       "<Figure size 432x288 with 1 Axes>"
      ]
     },
     "metadata": {
      "needs_background": "light"
     },
     "output_type": "display_data"
    }
   ],
   "source": [
    "max_score = max(list(map(lambda x: x[0], common_result)))\n",
    "\n",
    "common_result_np = np.array(common_result)\n",
    "\n",
    "common_result_pd = pd.Series(list(common_result_np.T[1 :][0].T), index = common_result_np.T[0])\n",
    "\n",
    "print(\"Max score: {0}; Params: n_estimators: {1}, max_depth: {2}\".format(max_score, common_result_pd[max_score][0], common_result_pd[max_score][1]))\n",
    "\n",
    "plt.plot(range(0, len(n_estimators_range) * len(max_depth_range)), list(map(lambda x: x[0], common_result)))"
   ]
  }
 ],
 "metadata": {
  "kernelspec": {
   "display_name": "Python 3",
   "language": "python",
   "name": "python3"
  },
  "language_info": {
   "codemirror_mode": {
    "name": "ipython",
    "version": 3
   },
   "file_extension": ".py",
   "mimetype": "text/x-python",
   "name": "python",
   "nbconvert_exporter": "python",
   "pygments_lexer": "ipython3",
   "version": "3.8.3"
  }
 },
 "nbformat": 4,
 "nbformat_minor": 4
}
