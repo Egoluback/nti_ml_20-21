{
 "cells": [
  {
   "cell_type": "markdown",
   "metadata": {},
   "source": [
    "### Парсинг исходных данных"
   ]
  },
  {
   "cell_type": "code",
   "execution_count": 2,
   "metadata": {},
   "outputs": [],
   "source": [
    "import numpy as np\n",
    "\n",
    "import json\n",
    "\n",
    "x_train = []\n",
    "y_train = []\n",
    "\n",
    "with open(\"data/x_train.txt\", \"r\") as file:\n",
    "    x_train = np.array(json.loads(''.join(list(map(lambda x: x.strip(), file.readlines())))))\n",
    "\n",
    "with open(\"data/y_train.txt\", \"r\") as file:\n",
    "    y_train = np.array(json.loads(''.join(list(map(lambda x: x.strip(), file.readlines())))))"
   ]
  },
  {
   "cell_type": "code",
   "execution_count": 3,
   "metadata": {},
   "outputs": [
    {
     "data": {
      "text/plain": [
       "(array([[ 0.44878602, -1.31186755,  0.0852925 , ..., -0.51819492,\n",
       "         -1.12322176,  0.45302913],\n",
       "        [ 1.60202756,  1.29076884,  0.02501387, ...,  0.91776299,\n",
       "         -0.771968  ,  0.36634343],\n",
       "        [ 0.7287607 , -1.38626143, -2.02498711, ..., -0.47258403,\n",
       "         -1.11627642,  0.09564287],\n",
       "        ...,\n",
       "        [ 0.43666857,  0.64100458, -1.87525252, ..., -0.59489407,\n",
       "          1.23886575,  0.42375108],\n",
       "        [ 0.84312788, -0.80936618, -1.53086641, ...,  0.22090653,\n",
       "         -0.32667033, -0.65034498],\n",
       "        [-0.49231737,  1.46636722, -1.52639546, ..., -1.13464199,\n",
       "          0.4558241 , -0.8405369 ]]),\n",
       " array([1, 1, 1, 1, 0, 0, 1, 0, 0, 1, 0, 0, 1, 0, 0, 0, 1, 0, 0, 1, 1, 0,\n",
       "        1, 0, 1, 0, 0, 1, 1, 0, 1, 0, 0, 1, 1, 1, 0, 1, 0, 0, 1, 1, 0, 1,\n",
       "        0, 0, 1, 1, 1, 1, 0, 1, 1, 1, 1, 1, 1, 0, 1, 0, 0, 1, 0, 1, 0, 0,\n",
       "        0, 0, 1, 1, 0, 0, 1, 0, 1, 0, 1, 1, 0, 0, 1, 1, 0, 1, 1, 0, 1, 0,\n",
       "        0, 1, 1, 1, 1, 1, 1, 1, 1, 0, 1, 1, 1, 1, 1, 0, 1, 0, 1, 1, 1, 0,\n",
       "        0, 0, 1, 1, 0, 1, 1, 1, 1, 0, 1, 1, 0, 0, 1, 1, 1, 1, 1, 1, 0, 0,\n",
       "        1, 0, 0, 1, 1, 1, 1, 0, 0, 0, 0, 0, 0, 1, 0, 1, 0, 0, 1, 0, 0, 0,\n",
       "        0, 1, 0, 1, 1, 1, 0, 0, 0, 1, 0, 1, 0, 0, 0, 1, 1, 1, 1, 1, 1, 1,\n",
       "        1, 0, 0, 1, 0, 0, 1, 0, 1, 1, 0, 1, 0, 1, 0, 1, 0, 1, 1, 0, 1, 0,\n",
       "        1, 0, 1, 1, 1, 0, 0, 1, 0, 1, 0, 1, 0, 1, 1, 1, 1, 1, 0, 1, 0, 1,\n",
       "        0, 1, 1, 0, 0, 1, 1, 1, 0, 1, 1, 0, 1, 1, 0, 1, 1, 0, 0, 1, 1, 1,\n",
       "        0, 1, 0, 1, 1, 1, 1, 1, 1, 1, 1, 0, 1, 0, 1, 1, 0, 1, 1, 1, 1, 0,\n",
       "        1, 1, 1, 0, 1, 0, 0, 1, 0, 1, 1, 0, 0, 1, 0, 0, 0, 1, 0, 0, 0, 1,\n",
       "        0, 1, 0, 1, 1, 0, 0, 0, 1, 1, 0, 0, 1, 1, 0, 0, 0, 0, 1, 1, 0, 1,\n",
       "        0, 0, 0, 0, 0, 0, 1, 0, 0, 1, 0, 1, 0, 1, 0, 0, 1, 0, 1, 1, 0, 1,\n",
       "        0, 1, 0, 1, 0, 1, 0, 1, 0, 0, 0, 1, 1, 0, 1, 1, 0, 0, 0, 0, 0, 1,\n",
       "        1, 1, 1, 1, 1, 1, 0, 1, 1, 1, 0, 1, 1, 1, 1, 1, 0, 0, 1, 0, 0, 0,\n",
       "        0, 0, 0, 1, 1, 1, 1, 0, 1, 1, 1, 0, 0, 0, 0, 0, 0, 1, 0, 1, 1, 1,\n",
       "        0, 1, 1, 0, 0, 0, 1, 0, 0, 0, 0, 1, 0, 0, 0, 0, 0, 1, 1, 0, 1, 1,\n",
       "        1, 0, 1, 0, 0, 0, 0, 0, 1, 0, 0, 1, 0, 1, 1, 1, 0, 0, 1, 1, 0, 0,\n",
       "        1, 1, 0, 0, 0, 1, 1, 0, 0, 0, 0, 0, 0, 1, 0, 1, 0, 1, 1, 1, 0, 1,\n",
       "        0, 1, 1, 0, 1, 1, 0, 1, 0, 1, 0, 0, 0, 0, 0, 1, 1, 0, 0, 1, 0, 0,\n",
       "        1, 0, 0, 1, 0, 1, 0, 0, 1, 1, 1, 1, 1, 0, 1, 0, 1, 1, 0, 1, 0, 0,\n",
       "        0, 1, 0, 0, 0, 0, 0, 0, 0, 0, 1, 0, 1, 1, 1, 1, 1, 1, 0, 0, 0, 0,\n",
       "        0, 0, 0, 1, 0, 1, 0, 0, 1, 0, 1, 1, 0, 0, 0, 0, 1, 0, 1, 1, 0, 0,\n",
       "        1, 0, 0, 0, 1, 1, 1, 1, 1, 1, 0, 0, 0, 0, 1, 0, 0, 0, 0, 1, 0, 0,\n",
       "        1, 0, 0, 0, 1, 0, 0, 1, 0, 1, 0, 1, 1, 1, 1, 1, 1, 1, 1, 0, 0, 0,\n",
       "        1, 0, 0, 1, 1, 0, 0, 0, 0, 1, 0, 0, 0, 0, 0, 0, 0, 0, 0, 1, 1, 0,\n",
       "        1, 0, 1, 1, 0, 1, 1, 1, 0, 0, 0, 0, 0, 1, 1, 0, 0, 1, 1, 0, 1, 1,\n",
       "        0, 0, 0, 1, 0, 0, 1, 0, 1, 1, 1, 0, 0, 0, 1, 1, 0, 0, 1, 1, 0, 0,\n",
       "        1, 0, 1, 1, 0, 1, 1, 0, 1, 0, 1, 1, 0, 0, 1, 0, 1, 0, 1, 0, 0, 0,\n",
       "        1, 0, 0, 0, 1, 0, 1, 0, 0, 1, 1, 1, 0, 0, 0, 1, 1, 1, 1, 1, 0, 1,\n",
       "        0, 1, 0, 0, 1, 1, 1, 0, 0, 1, 1, 1, 0, 0, 1, 1, 0, 1, 1, 0, 0, 0,\n",
       "        1, 1, 0, 1, 0, 0, 0, 0, 0, 0, 1, 0, 1, 1, 0, 0, 0, 0, 0, 1, 1, 1,\n",
       "        1, 0, 1, 0, 0, 0, 0, 0, 0, 0, 1, 0, 1, 0, 0, 0, 1, 1, 1, 0, 1, 1,\n",
       "        1, 0, 0, 0, 1, 0, 0, 0, 0, 1, 0, 0, 0, 0, 1, 0, 0, 1, 0, 1, 0, 1,\n",
       "        0, 1, 0, 0, 1, 1, 0, 0, 1, 1, 1, 1, 0, 1, 1, 1, 1, 1, 0, 0, 1, 1,\n",
       "        1, 0, 1, 0, 0, 0, 0, 0, 1, 1, 1, 0, 1, 0, 0, 0, 0, 1, 1, 1, 1, 0,\n",
       "        0, 1, 0, 0, 0, 0, 0, 1, 0, 0, 1, 1, 0, 0, 0, 1, 1, 1, 1, 0, 0, 0,\n",
       "        0, 1, 0, 0, 1, 0, 1, 1, 1, 0, 1, 0, 0, 1, 0, 1, 0, 0, 1, 0, 1, 1,\n",
       "        1, 0, 1, 0, 0, 1, 1, 0, 1, 1, 0, 1, 1, 1, 0, 0, 1, 1, 0, 0, 0, 1,\n",
       "        1, 1, 0, 0, 1, 0, 0, 0, 1, 1, 0, 0, 0, 0, 1, 1, 1, 1, 1, 1, 1, 0,\n",
       "        1, 0, 0, 0, 1, 0, 0, 1, 0, 1, 1, 0, 0, 0, 0, 1, 1, 0, 0, 0, 0, 0,\n",
       "        0, 0, 0, 1, 1, 0, 1, 0, 0, 1, 0, 1, 0, 1, 0, 1, 1, 0, 1, 1, 1, 0,\n",
       "        0, 1, 0, 0, 0, 0, 1, 1, 1, 0, 0, 0, 0, 1, 0, 1, 1, 0, 1, 0, 1, 1,\n",
       "        0, 1, 1, 1, 0, 1, 1, 1, 0, 1]))"
      ]
     },
     "execution_count": 3,
     "metadata": {},
     "output_type": "execute_result"
    }
   ],
   "source": [
    "x_train, y_train"
   ]
  },
  {
   "cell_type": "markdown",
   "metadata": {},
   "source": [
    "#### Загрузка в .pkl файл"
   ]
  },
  {
   "cell_type": "code",
   "execution_count": 13,
   "metadata": {},
   "outputs": [
    {
     "name": "stdout",
     "output_type": "stream",
     "text": [
      "[LightGBM] [Warning] Accuracy may be bad since you didn't explicitly set num_leaves OR 2^max_depth > num_leaves. (num_leaves=31).\n"
     ]
    }
   ],
   "source": [
    "model = Model(random_state = 42)\n",
    "\n",
    "model.load([\"data/x_train.txt\", \"data/y_train.txt\"])\n",
    "model.train_models()\n",
    "model.fit()\n",
    "\n",
    "with open(\"model.pkl\", \"wb\") as file:\n",
    "    pickle.dump(model, file)"
   ]
  },
  {
   "cell_type": "markdown",
   "metadata": {},
   "source": [
    "### Random Forest Classifier"
   ]
  },
  {
   "cell_type": "code",
   "execution_count": 14,
   "metadata": {},
   "outputs": [],
   "source": [
    "from sklearn.ensemble import RandomForestClassifier\n",
    "from sklearn.model_selection import train_test_split\n",
    "from sklearn.metrics import roc_auc_score\n",
    "\n",
    "import pickle, json\n",
    "import numpy as np\n",
    "\n",
    "x_train = []\n",
    "y_train = []\n",
    "\n",
    "with open(\"data/x_train.txt\", \"r\") as file:\n",
    "    x_train = np.array(json.loads(''.join(list(map(lambda x: x.strip(), file.readlines())))))\n",
    "\n",
    "with open(\"data/y_train.txt\", \"r\") as file:\n",
    "    y_train = np.array(json.loads(''.join(list(map(lambda x: x.strip(), file.readlines())))))    "
   ]
  },
  {
   "cell_type": "code",
   "execution_count": 15,
   "metadata": {},
   "outputs": [],
   "source": [
    "XTrain, XTest, YTrain, YTest = train_test_split(x_train, y_train, test_size = 0.33, random_state = 42)"
   ]
  },
  {
   "cell_type": "markdown",
   "metadata": {},
   "source": [
    "##### Базовый результат"
   ]
  },
  {
   "cell_type": "code",
   "execution_count": 16,
   "metadata": {},
   "outputs": [
    {
     "data": {
      "text/plain": [
       "(1.0, 0.9705007163586937)"
      ]
     },
     "execution_count": 16,
     "metadata": {},
     "output_type": "execute_result"
    }
   ],
   "source": [
    "model_init_rfc = RandomForestClassifier(n_estimators = 100, max_depth = 10, random_state = 42)\n",
    "model_init_rfc.fit(XTrain, YTrain)\n",
    "\n",
    "roc_auc_score(YTrain, model_init_rfc.predict_proba(XTrain).T[1]), roc_auc_score(YTest, model_init_rfc.predict_proba(XTest).T[1])"
   ]
  },
  {
   "cell_type": "markdown",
   "metadata": {},
   "source": [
    "##### Нахождение фичей и удаление \"ненужных\" колонок"
   ]
  },
  {
   "cell_type": "code",
   "execution_count": 17,
   "metadata": {},
   "outputs": [
    {
     "data": {
      "text/plain": [
       "array([ 2,  5, 15, 19, 21, 22])"
      ]
     },
     "execution_count": 17,
     "metadata": {},
     "output_type": "execute_result"
    }
   ],
   "source": [
    "import pandas as pd\n",
    "\n",
    "features_rfc = pd.Series(model_init_rfc.feature_importances_)\n",
    "\n",
    "best_features_rfc = np.array(features_rfc[features_rfc > 0.02].index)\n",
    "best_features_rfc"
   ]
  },
  {
   "cell_type": "code",
   "execution_count": 18,
   "metadata": {},
   "outputs": [
    {
     "data": {
      "text/plain": [
       "(1.0, 0.9790970206825612)"
      ]
     },
     "execution_count": 18,
     "metadata": {},
     "output_type": "execute_result"
    }
   ],
   "source": [
    "XTrain_best_rfc = XTrain[:, best_features_rfc]\n",
    "XTest_best_rfc = XTest[:, best_features_rfc]\n",
    "\n",
    "model_best_rfc = RandomForestClassifier(n_estimators = 100, max_depth = 10, random_state = 42)\n",
    "model_best_rfc.fit(XTrain_best_rfc, YTrain)\n",
    "\n",
    "roc_auc_score(YTrain, model_best_rfc.predict_proba(XTrain_best_rfc).T[1]), roc_auc_score(YTest, model_best_rfc.predict_proba(XTest_best_rfc).T[1])"
   ]
  },
  {
   "cell_type": "markdown",
   "metadata": {},
   "source": [
    "#### Grid search"
   ]
  },
  {
   "cell_type": "code",
   "execution_count": 19,
   "metadata": {},
   "outputs": [],
   "source": [
    "import matplotlib.pyplot as plt"
   ]
  },
  {
   "cell_type": "markdown",
   "metadata": {},
   "source": [
    "##### Параметр n_estimators"
   ]
  },
  {
   "cell_type": "code",
   "execution_count": 20,
   "metadata": {},
   "outputs": [
    {
     "name": "stdout",
     "output_type": "stream",
     "text": [
      "i: 10; score: (0.9998171993151662, 0.9703905073289005)\n",
      "i: 20; score: (0.9998840776144957, 0.9753682818412255)\n",
      "i: 50; score: (0.9999910828934228, 0.9783806619889056)\n",
      "i: 75; score: (1.0, 0.9774622534072958)\n",
      "i: 100; score: (1.0, 0.9790970206825612)\n",
      "i: 150; score: (1.0, 0.9799052202343779)\n",
      "i: 200; score: (1.0, 0.9796664340031594)\n",
      "max of n_estimators_result: 0.9799052202343779; i: 150\n"
     ]
    },
    {
     "data": {
      "text/plain": [
       "[<matplotlib.lines.Line2D at 0x7f036c28e6d0>]"
      ]
     },
     "execution_count": 20,
     "metadata": {},
     "output_type": "execute_result"
    },
    {
     "data": {
      "image/png": "[encoded data removed]",
      "text/plain": [
       "<Figure size 432x288 with 1 Axes>"
      ]
     },
     "metadata": {
      "needs_background": "light"
     },
     "output_type": "display_data"
    }
   ],
   "source": [
    "n_estimators_range = [10, 20, 50, 75, 100, 150, 200]\n",
    "n_estimators_result = []\n",
    "\n",
    "for n_estimators_param in n_estimators_range:\n",
    "    model_best_rfc = RandomForestClassifier(n_estimators = n_estimators_param, max_depth = 10, random_state = 42)\n",
    "    model_best_rfc.fit(XTrain_best_rfc, YTrain)\n",
    "\n",
    "    score = roc_auc_score(YTrain, model_best_rfc.predict_proba(XTrain_best_rfc).T[1]), roc_auc_score(YTest, model_best_rfc.predict_proba(XTest_best_rfc).T[1])\n",
    "    \n",
    "    n_estimators_result.append(score[1])\n",
    "    \n",
    "    print(\"i: {0}; score: {1}\".format(n_estimators_param, score))\n",
    "\n",
    "print(\"max of n_estimators_result: {0}; i: {1}\".format(max(n_estimators_result), n_estimators_range[n_estimators_result.index(max(n_estimators_result))]))\n",
    "    \n",
    "plt.plot(n_estimators_range, n_estimators_result)"
   ]
  },
  {
   "cell_type": "markdown",
   "metadata": {},
   "source": [
    "##### Параметр max_depth"
   ]
  },
  {
   "cell_type": "code",
   "execution_count": 21,
   "metadata": {},
   "outputs": [
    {
     "name": "stdout",
     "output_type": "stream",
     "text": [
      "i: 5; score: (0.9913147381937509, 0.9775908306087212)\n",
      "i: 7; score: (0.9984930089884434, 0.9788031299364461)\n",
      "i: 9; score: (0.9999643315736909, 0.9803460563535507)\n",
      "i: 11; score: (1.0, 0.9781786121009515)\n",
      "i: 13; score: (1.0, 0.9776275669519855)\n",
      "i: 15; score: (1.0, 0.9784541346754343)\n",
      "max of max_depth_result: 0.9803460563535507; i: 9\n"
     ]
    },
    {
     "data": {
      "text/plain": [
       "[<matplotlib.lines.Line2D at 0x7f036c20e4f0>]"
      ]
     },
     "execution_count": 21,
     "metadata": {},
     "output_type": "execute_result"
    },
    {
     "data": {
      "image/png": "[encoded data removed]",
      "text/plain": [
       "<Figure size 432x288 with 1 Axes>"
      ]
     },
     "metadata": {
      "needs_background": "light"
     },
     "output_type": "display_data"
    }
   ],
   "source": [
    "max_depth_range = np.arange(5, 17, 2)\n",
    "max_depth_result = []\n",
    "\n",
    "for max_depth_param in max_depth_range:\n",
    "    model_best_rfc = RandomForestClassifier(n_estimators = 100, max_depth = max_depth_param, random_state = 42)\n",
    "    model_best_rfc.fit(XTrain_best_rfc, YTrain)\n",
    "\n",
    "    score = roc_auc_score(YTrain, model_best_rfc.predict_proba(XTrain_best_rfc).T[1]), roc_auc_score(YTest, model_best_rfc.predict_proba(XTest_best_rfc).T[1])\n",
    "    \n",
    "    max_depth_result.append(score[1])\n",
    "    \n",
    "    print(\"i: {0}; score: {1}\".format(max_depth_param, score))\n",
    "\n",
    "print(\"max of max_depth_result: {0}; i: {1}\".format(max(max_depth_result), max_depth_range[max_depth_result.index(max(max_depth_result))]))\n",
    "    \n",
    "plt.plot(max_depth_range, max_depth_result)"
   ]
  },
  {
   "cell_type": "markdown",
   "metadata": {},
   "source": [
    "##### Gridsearch двух параметров"
   ]
  },
  {
   "cell_type": "code",
   "execution_count": 22,
   "metadata": {},
   "outputs": [
    {
     "name": "stdout",
     "output_type": "stream",
     "text": [
      "----n_estimators_param: 10----\n",
      "max_depth_param: 5; score: (0.9874759238122415, 0.9681495903897726)\n",
      "max_depth_param: 7; score: (0.9975210443715223, 0.9713823885970391)\n",
      "max_depth_param: 9; score: (0.9992732558139535, 0.9738988281106498)\n",
      "max_depth_param: 11; score: (0.999892994721073, 0.9699496712097277)\n",
      "max_depth_param: 13; score: (0.9998840776144957, 0.9731273649020976)\n",
      "max_depth_param: 15; score: (0.9998885361677843, 0.9738804599390176)\n",
      "----n_estimators_param: 20----\n",
      "max_depth_param: 5; score: (0.9897943715223285, 0.9770765218030195)\n",
      "max_depth_param: 7; score: (0.998064987872735, 0.9768377355718012)\n",
      "max_depth_param: 9; score: (0.9996522328434869, 0.9771683626611807)\n",
      "max_depth_param: 11; score: (1.0, 0.9725212152382352)\n",
      "max_depth_param: 13; score: (1.0, 0.9759376951618235)\n",
      "max_depth_param: 15; score: (1.0, 0.976341794937732)\n",
      "----n_estimators_param: 50----\n",
      "max_depth_param: 5; score: (0.9908064631188472, 0.9792072297123544)\n",
      "max_depth_param: 7; score: (0.9984840918818662, 0.9795011204584695)\n",
      "max_depth_param: 9; score: (0.9999019118276501, 0.9797399066896881)\n",
      "max_depth_param: 11; score: (1.0, 0.9772602035193416)\n",
      "max_depth_param: 13; score: (1.0, 0.9765071084824217)\n",
      "max_depth_param: 15; score: (1.0, 0.9776826714668821)\n",
      "----n_estimators_param: 75----\n",
      "max_depth_param: 5; score: (0.9916446711371094, 0.9781418757576871)\n",
      "max_depth_param: 7; score: (0.9984216721358253, 0.9790602843392968)\n",
      "max_depth_param: 9; score: (0.9999464973605365, 0.9793541750854119)\n",
      "max_depth_param: 11; score: (1.0, 0.9761948495646743)\n",
      "max_depth_param: 13; score: (1.0, 0.9764336357958929)\n",
      "max_depth_param: 15; score: (1.0, 0.9772969398626061)\n",
      "----n_estimators_param: 100----\n",
      "max_depth_param: 5; score: (0.9913147381937509, 0.9775908306087212)\n",
      "max_depth_param: 7; score: (0.9984930089884434, 0.9788031299364461)\n",
      "max_depth_param: 9; score: (0.9999643315736909, 0.9803460563535507)\n",
      "max_depth_param: 11; score: (1.0, 0.9781786121009515)\n",
      "max_depth_param: 13; score: (1.0, 0.9776275669519855)\n",
      "max_depth_param: 15; score: (1.0, 0.9784541346754343)\n",
      "----n_estimators_param: 150----\n",
      "max_depth_param: 5; score: (0.9913771579397916, 0.9786194482201241)\n",
      "max_depth_param: 7; score: (0.9984662576687117, 0.9798684838911135)\n",
      "max_depth_param: 9; score: (1.0, 0.9797582748613204)\n",
      "max_depth_param: 11; score: (1.0, 0.9794643841152052)\n",
      "max_depth_param: 13; score: (1.0, 0.9783622938172735)\n",
      "max_depth_param: 15; score: (0.9999999999999999, 0.9789500753095037)\n",
      "----n_estimators_param: 200----\n",
      "max_depth_param: 5; score: (0.9917962619489229, 0.9775908306087212)\n",
      "max_depth_param: 7; score: (0.9985643458410615, 0.9797215385180558)\n",
      "max_depth_param: 9; score: (1.0, 0.9795011204584695)\n",
      "max_depth_param: 11; score: (1.0, 0.9791153888541935)\n",
      "max_depth_param: 13; score: (1.0, 0.9783071893023769)\n",
      "max_depth_param: 15; score: (1.0, 0.9786929209066529)\n"
     ]
    }
   ],
   "source": [
    "import pandas as pd\n",
    "\n",
    "common_result = []\n",
    "\n",
    "for n_estimators_param in n_estimators_range:\n",
    "    print(\"----n_estimators_param: {0}----\".format(n_estimators_param))\n",
    "    for max_depth_param in max_depth_range:\n",
    "        model_best_rfc = RandomForestClassifier(n_estimators = n_estimators_param, max_depth = max_depth_param, random_state = 42)\n",
    "        model_best_rfc.fit(XTrain_best_rfc, YTrain)\n",
    "\n",
    "        score = roc_auc_score(YTrain, model_best_rfc.predict_proba(XTrain_best_rfc).T[1]), roc_auc_score(YTest, model_best_rfc.predict_proba(XTest_best_rfc).T[1])\n",
    "\n",
    "        common_result.append([score[1], (n_estimators_param, max_depth_param)])\n",
    "\n",
    "        print(\"max_depth_param: {0}; score: {1}\".format(max_depth_param, score))"
   ]
  },
  {
   "cell_type": "markdown",
   "metadata": {},
   "source": [
    "##### Результат"
   ]
  },
  {
   "cell_type": "code",
   "execution_count": 23,
   "metadata": {},
   "outputs": [
    {
     "name": "stdout",
     "output_type": "stream",
     "text": [
      "Max score: 0.9803460563535507; Params: n_estimators: 100, max_depth: 9\n"
     ]
    },
    {
     "name": "stderr",
     "output_type": "stream",
     "text": [
      "<ipython-input-23-2724742e8150>:3: VisibleDeprecationWarning: Creating an ndarray from ragged nested sequences (which is a list-or-tuple of lists-or-tuples-or ndarrays with different lengths or shapes) is deprecated. If you meant to do this, you must specify 'dtype=object' when creating the ndarray\n",
      "  common_result_np = np.array(common_result)\n"
     ]
    },
    {
     "data": {
      "text/plain": [
       "[<matplotlib.lines.Line2D at 0x7f036c208280>]"
      ]
     },
     "execution_count": 23,
     "metadata": {},
     "output_type": "execute_result"
    },
    {
     "data": {
      "image/png": "[encoded data removed]",
      "text/plain": [
       "<Figure size 432x288 with 1 Axes>"
      ]
     },
     "metadata": {
      "needs_background": "light"
     },
     "output_type": "display_data"
    }
   ],
   "source": [
    "max_score = max(list(map(lambda x: x[0], common_result)))\n",
    "\n",
    "common_result_np = np.array(common_result)\n",
    "\n",
    "common_result_pd = pd.Series(list(common_result_np.T[1 :][0].T), index = common_result_np.T[0])\n",
    "\n",
    "print(\"Max score: {0}; Params: n_estimators: {1}, max_depth: {2}\".format(max_score, common_result_pd[max_score][0], common_result_pd[max_score][1]))\n",
    "\n",
    "plt.plot(range(0, len(n_estimators_range) * len(max_depth_range)), list(map(lambda x: x[0], common_result)))"
   ]
  },
  {
   "cell_type": "markdown",
   "metadata": {},
   "source": [
    "Оптимальные параметры: n_estimators = 100, max_depth = 9 <br />\n",
    "score(на тестовой выборке) ~= 0.98"
   ]
  },
  {
   "cell_type": "markdown",
   "metadata": {},
   "source": [
    "### XGBClassifier"
   ]
  },
  {
   "cell_type": "code",
   "execution_count": 24,
   "metadata": {},
   "outputs": [
    {
     "data": {
      "text/plain": [
       "(1.0, 0.9675985452408067)"
      ]
     },
     "execution_count": 24,
     "metadata": {},
     "output_type": "execute_result"
    }
   ],
   "source": [
    "from xgboost import XGBClassifier\n",
    "\n",
    "model_init_xgb = XGBClassifier(n_estimators = 100, max_depth = 10, random_state = 42)\n",
    "model_init_xgb.fit(XTrain, YTrain)\n",
    "\n",
    "roc_auc_score(YTrain, model_init_xgb.predict_proba(XTrain).T[1]), roc_auc_score(YTest, model_init_xgb.predict_proba(XTest).T[1])"
   ]
  },
  {
   "cell_type": "code",
   "execution_count": 25,
   "metadata": {},
   "outputs": [
    {
     "data": {
      "text/plain": [
       "array([ 0,  2,  5,  7, 11, 15, 16, 19, 21, 22, 25, 26])"
      ]
     },
     "execution_count": 25,
     "metadata": {},
     "output_type": "execute_result"
    }
   ],
   "source": [
    "features_xgb = pd.Series(model_init_xgb.feature_importances_)\n",
    "\n",
    "best_features_xgb = np.array(features_xgb[features_xgb > 0.02].index)\n",
    "best_features_xgb"
   ]
  },
  {
   "cell_type": "code",
   "execution_count": 26,
   "metadata": {},
   "outputs": [
    {
     "data": {
      "text/plain": [
       "(1.0, 0.9683700084493589)"
      ]
     },
     "execution_count": 26,
     "metadata": {},
     "output_type": "execute_result"
    }
   ],
   "source": [
    "XTrain_best_xgb = XTrain[:, best_features_xgb]\n",
    "XTest_best_xgb = XTest[:, best_features_xgb]\n",
    "\n",
    "model_best_xgb = XGBClassifier(n_estimators = 100, max_depth = 10, random_state = 42)\n",
    "model_best_xgb.fit(XTrain_best_xgb, YTrain)\n",
    "\n",
    "roc_auc_score(YTrain, model_best_xgb.predict_proba(XTrain_best_xgb).T[1]), roc_auc_score(YTest, model_best_xgb.predict_proba(XTest_best_xgb).T[1])"
   ]
  },
  {
   "cell_type": "code",
   "execution_count": 27,
   "metadata": {},
   "outputs": [
    {
     "name": "stdout",
     "output_type": "stream",
     "text": [
      "i: 200; score: (1.0, 0.9696925168068771)\n",
      "i: 500; score: (1.0, 0.9699496712097279)\n",
      "i: 1000; score: (1.0, 0.9702435619558429)\n",
      "i: 1200; score: (1.0, 0.9702068256125785)\n",
      "max of n_estimators_result: 0.9702435619558429; i: 1000\n"
     ]
    },
    {
     "data": {
      "text/plain": [
       "[<matplotlib.lines.Line2D at 0x7f036c1583a0>]"
      ]
     },
     "execution_count": 27,
     "metadata": {},
     "output_type": "execute_result"
    },
    {
     "data": {
      "image/png": "[encoded data removed]",
      "text/plain": [
       "<Figure size 432x288 with 1 Axes>"
      ]
     },
     "metadata": {
      "needs_background": "light"
     },
     "output_type": "display_data"
    }
   ],
   "source": [
    "n_estimators_range = [200, 500, 1000, 1200]\n",
    "n_estimators_result = []\n",
    "\n",
    "for n_estimators_param in n_estimators_range:\n",
    "    model_best_xgb = XGBClassifier(n_estimators = n_estimators_param, max_depth = 10, random_state = 42)\n",
    "    model_best_xgb.fit(XTrain_best_xgb, YTrain)\n",
    "\n",
    "    score = roc_auc_score(YTrain, model_best_xgb.predict_proba(XTrain_best_xgb).T[1]), roc_auc_score(YTest, model_best_xgb.predict_proba(XTest_best_xgb).T[1])\n",
    "    \n",
    "    n_estimators_result.append(score[1])\n",
    "    \n",
    "    print(\"i: {0}; score: {1}\".format(n_estimators_param, score))\n",
    "\n",
    "print(\"max of n_estimators_result: {0}; i: {1}\".format(max(n_estimators_result), n_estimators_range[n_estimators_result.index(max(n_estimators_result))]))\n",
    "    \n",
    "plt.plot(n_estimators_range, n_estimators_result)"
   ]
  },
  {
   "cell_type": "code",
   "execution_count": 115,
   "metadata": {},
   "outputs": [
    {
     "name": "stdout",
     "output_type": "stream",
     "text": [
      "i: 5; score: (1.0, 0.9699129348664633)\n",
      "i: 7; score: (1.0, 0.970537452701958)\n",
      "i: 9; score: (1.0, 0.9703905073289005)\n",
      "i: 11; score: (1.0, 0.9702435619558429)\n",
      "i: 13; score: (1.0, 0.9702435619558429)\n",
      "i: 15; score: (1.0, 0.9702435619558429)\n",
      "i: 17; score: (1.0, 0.9702435619558429)\n",
      "i: 19; score: (1.0, 0.9702435619558429)\n",
      "i: 21; score: (1.0, 0.9702435619558429)\n",
      "i: 23; score: (1.0, 0.9702435619558429)\n",
      "max of max_depth_result: 0.970537452701958; i: 7\n"
     ]
    },
    {
     "data": {
      "text/plain": [
       "[<matplotlib.lines.Line2D at 0x7f036c1816d0>]"
      ]
     },
     "execution_count": 115,
     "metadata": {},
     "output_type": "execute_result"
    },
    {
     "data": {
      "image/png": "[encoded data removed]",
      "text/plain": [
       "<Figure size 432x288 with 1 Axes>"
      ]
     },
     "metadata": {
      "needs_background": "light"
     },
     "output_type": "display_data"
    }
   ],
   "source": [
    "max_depth_range = np.arange(5, 25, 2)\n",
    "max_depth_result = []\n",
    "\n",
    "for max_depth_param in max_depth_range:\n",
    "    model_best_xgb = XGBClassifier(n_estimators = 1000, max_depth = max_depth_param, random_state = 42)\n",
    "    model_best_xgb.fit(XTrain_best_xgb, YTrain)\n",
    "\n",
    "    score = roc_auc_score(YTrain, model_best_xgb.predict_proba(XTrain_best_xgb).T[1]), roc_auc_score(YTest, model_best_xgb.predict_proba(XTest_best_xgb).T[1])\n",
    "    \n",
    "    max_depth_result.append(score[1])\n",
    "    \n",
    "    print(\"i: {0}; score: {1}\".format(max_depth_param, score))\n",
    "\n",
    "print(\"max of max_depth_result: {0}; i: {1}\".format(max(max_depth_result), max_depth_range[max_depth_result.index(max(max_depth_result))]))\n",
    "    \n",
    "plt.plot(max_depth_range, max_depth_result)"
   ]
  },
  {
   "cell_type": "code",
   "execution_count": 116,
   "metadata": {},
   "outputs": [
    {
     "name": "stdout",
     "output_type": "stream",
     "text": [
      "----n_estimators_param: 50----\n",
      "max_depth_param: 5; score: (1.0, 0.9689577899415894)\n",
      "max_depth_param: 7; score: (1.0, 0.9669372910620476)\n",
      "max_depth_param: 9; score: (1.0, 0.9675985452408068)\n",
      "max_depth_param: 11; score: (1.0, 0.9672311818081629)\n",
      "max_depth_param: 13; score: (1.0, 0.9672311818081629)\n",
      "max_depth_param: 15; score: (1.0, 0.9672311818081629)\n",
      "max_depth_param: 17; score: (1.0, 0.9672311818081629)\n",
      "max_depth_param: 19; score: (1.0, 0.9672311818081629)\n",
      "max_depth_param: 21; score: (1.0, 0.9672311818081629)\n",
      "max_depth_param: 23; score: (1.0, 0.9672311818081629)\n",
      "----n_estimators_param: 60----\n",
      "max_depth_param: 5; score: (1.0, 0.9685904265089453)\n",
      "max_depth_param: 7; score: (1.0, 0.9668638183755189)\n",
      "max_depth_param: 9; score: (1.0, 0.9669005547187833)\n",
      "max_depth_param: 11; score: (1.0, 0.9677822269571287)\n",
      "max_depth_param: 13; score: (1.0, 0.9677822269571287)\n",
      "max_depth_param: 15; score: (1.0, 0.9677822269571287)\n",
      "max_depth_param: 17; score: (1.0, 0.9677822269571287)\n",
      "max_depth_param: 19; score: (1.0, 0.9677822269571287)\n",
      "max_depth_param: 21; score: (1.0, 0.9677822269571287)\n",
      "max_depth_param: 23; score: (1.0, 0.9677822269571287)\n",
      "----n_estimators_param: 70----\n",
      "max_depth_param: 5; score: (1.0, 0.969031262628118)\n",
      "max_depth_param: 7; score: (1.0, 0.9668270820322546)\n",
      "max_depth_param: 9; score: (1.0, 0.9666066639726681)\n",
      "max_depth_param: 11; score: (1.0, 0.9678924359869219)\n",
      "max_depth_param: 13; score: (1.0, 0.9678924359869219)\n",
      "max_depth_param: 15; score: (1.0, 0.9678924359869219)\n",
      "max_depth_param: 17; score: (1.0, 0.9678924359869219)\n",
      "max_depth_param: 19; score: (1.0, 0.9678924359869219)\n",
      "max_depth_param: 21; score: (1.0, 0.9678924359869219)\n",
      "max_depth_param: 23; score: (1.0, 0.9678924359869219)\n",
      "----n_estimators_param: 80----\n",
      "max_depth_param: 5; score: (1.0, 0.9698027258366702)\n",
      "max_depth_param: 7; score: (1.0, 0.9675985452408067)\n",
      "max_depth_param: 9; score: (1.0, 0.9668638183755188)\n",
      "max_depth_param: 11; score: (1.0, 0.9675618088975423)\n",
      "max_depth_param: 13; score: (1.0, 0.9675618088975423)\n",
      "max_depth_param: 15; score: (1.0, 0.9675618088975423)\n",
      "max_depth_param: 17; score: (1.0, 0.9675618088975423)\n",
      "max_depth_param: 19; score: (1.0, 0.9675618088975423)\n",
      "max_depth_param: 21; score: (1.0, 0.9675618088975423)\n",
      "max_depth_param: 23; score: (1.0, 0.9675618088975423)\n",
      "----n_estimators_param: 90----\n",
      "max_depth_param: 5; score: (1.0, 0.9695088350905551)\n",
      "max_depth_param: 7; score: (1.0, 0.9672311818081628)\n",
      "max_depth_param: 9; score: (1.0, 0.9663495095698174)\n",
      "max_depth_param: 11; score: (1.0, 0.9677822269571287)\n",
      "max_depth_param: 13; score: (1.0, 0.9677822269571287)\n",
      "max_depth_param: 15; score: (1.0, 0.9677822269571287)\n",
      "max_depth_param: 17; score: (1.0, 0.9677822269571287)\n",
      "max_depth_param: 19; score: (1.0, 0.9677822269571287)\n",
      "max_depth_param: 21; score: (1.0, 0.9677822269571287)\n",
      "max_depth_param: 23; score: (1.0, 0.9677822269571287)\n",
      "----n_estimators_param: 100----\n",
      "max_depth_param: 5; score: (1.0, 0.9692884170309688)\n",
      "max_depth_param: 7; score: (1.0, 0.9679659086734507)\n",
      "max_depth_param: 9; score: (1.0, 0.966974027405312)\n",
      "max_depth_param: 11; score: (1.0, 0.9683700084493589)\n",
      "max_depth_param: 13; score: (1.0, 0.9683700084493589)\n",
      "max_depth_param: 15; score: (1.0, 0.9683700084493589)\n",
      "max_depth_param: 17; score: (1.0, 0.9683700084493589)\n",
      "max_depth_param: 19; score: (1.0, 0.9683700084493589)\n",
      "max_depth_param: 21; score: (1.0, 0.9683700084493589)\n",
      "max_depth_param: 23; score: (1.0, 0.9683700084493589)\n"
     ]
    }
   ],
   "source": [
    "import pandas as pd\n",
    "\n",
    "common_result = []\n",
    "\n",
    "for n_estimators_param in n_estimators_range:\n",
    "    print(\"----n_estimators_param: {0}----\".format(n_estimators_param))\n",
    "    for max_depth_param in max_depth_range:\n",
    "        model_best_xgb = XGBClassifier(n_estimators = n_estimators_param, max_depth = max_depth_param, random_state = 42)\n",
    "        model_best_xgb.fit(XTrain_best_xgb, YTrain)\n",
    "\n",
    "        score = roc_auc_score(YTrain, model_best_xgb.predict_proba(XTrain_best_xgb).T[1]), roc_auc_score(YTest, model_best_xgb.predict_proba(XTest_best_xgb).T[1])\n",
    "\n",
    "        common_result.append([score[1], (n_estimators_param, max_depth_param)])\n",
    "\n",
    "        print(\"max_depth_param: {0}; score: {1}\".format(max_depth_param, score))"
   ]
  },
  {
   "cell_type": "code",
   "execution_count": 118,
   "metadata": {},
   "outputs": [
    {
     "name": "stdout",
     "output_type": "stream",
     "text": [
      "Max score: 0.9698027258366702; Params: n_estimators: 80, max_depth: 5\n"
     ]
    },
    {
     "name": "stderr",
     "output_type": "stream",
     "text": [
      "<ipython-input-118-2724742e8150>:3: VisibleDeprecationWarning: Creating an ndarray from ragged nested sequences (which is a list-or-tuple of lists-or-tuples-or ndarrays with different lengths or shapes) is deprecated. If you meant to do this, you must specify 'dtype=object' when creating the ndarray\n",
      "  common_result_np = np.array(common_result)\n"
     ]
    },
    {
     "data": {
      "text/plain": [
       "[<matplotlib.lines.Line2D at 0x7f034f8a2eb0>]"
      ]
     },
     "execution_count": 118,
     "metadata": {},
     "output_type": "execute_result"
    },
    {
     "data": {
      "image/png": "[encoded data removed]",
      "text/plain": [
       "<Figure size 432x288 with 1 Axes>"
      ]
     },
     "metadata": {
      "needs_background": "light"
     },
     "output_type": "display_data"
    }
   ],
   "source": [
    "max_score = max(list(map(lambda x: x[0], common_result)))\n",
    "\n",
    "common_result_np = np.array(common_result)\n",
    "\n",
    "common_result_pd = pd.Series(list(common_result_np.T[1 :][0].T), index = common_result_np.T[0])\n",
    "\n",
    "print(\"Max score: {0}; Params: n_estimators: {1}, max_depth: {2}\".format(max_score, common_result_pd[max_score][0], common_result_pd[max_score][1]))\n",
    "\n",
    "plt.plot(range(0, len(n_estimators_range) * len(max_depth_range)), list(map(lambda x: x[0], common_result)))"
   ]
  },
  {
   "cell_type": "markdown",
   "metadata": {},
   "source": [
    "### Gradient Boosting Classifier"
   ]
  },
  {
   "cell_type": "code",
   "execution_count": 32,
   "metadata": {},
   "outputs": [
    {
     "data": {
      "text/plain": [
       "(1.0, 0.9155431468351641)"
      ]
     },
     "execution_count": 32,
     "metadata": {},
     "output_type": "execute_result"
    }
   ],
   "source": [
    "from sklearn.ensemble import GradientBoostingClassifier\n",
    "\n",
    "model_init_gbc = GradientBoostingClassifier(n_estimators = 100, max_depth = 10, random_state = 42)\n",
    "model_init_gbc.fit(XTrain, YTrain)\n",
    "\n",
    "roc_auc_score(YTrain, model_init_gbc.predict_proba(XTrain).T[1]), roc_auc_score(YTest, model_init_gbc.predict_proba(XTest).T[1])"
   ]
  },
  {
   "cell_type": "code",
   "execution_count": 34,
   "metadata": {},
   "outputs": [
    {
     "data": {
      "text/plain": [
       "array([ 2,  5,  7, 15, 19, 21, 26])"
      ]
     },
     "execution_count": 34,
     "metadata": {},
     "output_type": "execute_result"
    }
   ],
   "source": [
    "features_gbc = pd.Series(model_init_gbc.feature_importances_)\n",
    "\n",
    "best_features_gbc = np.array(features_gbc[features_gbc > 0.02].index)\n",
    "best_features_gbc"
   ]
  },
  {
   "cell_type": "code",
   "execution_count": 36,
   "metadata": {},
   "outputs": [
    {
     "data": {
      "text/plain": [
       "(1.0, 0.9326439146247383)"
      ]
     },
     "execution_count": 36,
     "metadata": {},
     "output_type": "execute_result"
    }
   ],
   "source": [
    "XTrain_best_gbc = XTrain[:, best_features_gbc]\n",
    "XTest_best_gbc = XTest[:, best_features_gbc]\n",
    "\n",
    "model_best_gbc = GradientBoostingClassifier(n_estimators = 100, max_depth = 10, random_state = 42)\n",
    "model_best_gbc.fit(XTrain_best_gbc, YTrain)\n",
    "\n",
    "roc_auc_score(YTrain, model_best_gbc.predict_proba(XTrain_best_gbc).T[1]), roc_auc_score(YTest, model_best_gbc.predict_proba(XTest_best_gbc).T[1])"
   ]
  },
  {
   "cell_type": "code",
   "execution_count": 51,
   "metadata": {},
   "outputs": [
    {
     "name": "stdout",
     "output_type": "stream",
     "text": [
      "i: 500; score: (1.0, 0.9404871239116858)\n",
      "i: 1000; score: (1.0, 0.9403769148818926)\n",
      "i: 1500; score: (1.0, 0.9404503875684214)\n",
      "i: 2000; score: (1.0, 0.9404503875684214)\n",
      "max of n_estimators_result: 0.9404871239116858; i: 500\n"
     ]
    },
    {
     "data": {
      "text/plain": [
       "[<matplotlib.lines.Line2D at 0x7f034f2501f0>]"
      ]
     },
     "execution_count": 51,
     "metadata": {},
     "output_type": "execute_result"
    },
    {
     "data": {
      "image/png": "[encoded data removed]",
      "text/plain": [
       "<Figure size 432x288 with 1 Axes>"
      ]
     },
     "metadata": {
      "needs_background": "light"
     },
     "output_type": "display_data"
    }
   ],
   "source": [
    "n_estimators_range = [500, 1000, 1500, 2000]\n",
    "n_estimators_result = []\n",
    "\n",
    "for n_estimators_param in n_estimators_range:\n",
    "    model_best_gbc = GradientBoostingClassifier(n_estimators = n_estimators_param, max_depth = 10, random_state = 42)\n",
    "    model_best_gbc.fit(XTrain_best_gbc, YTrain)\n",
    "\n",
    "    score = roc_auc_score(YTrain, model_best_gbc.predict_proba(XTrain_best_gbc).T[1]), roc_auc_score(YTest, model_best_gbc.predict_proba(XTest_best_gbc).T[1])\n",
    "    \n",
    "    n_estimators_result.append(score[1])\n",
    "    \n",
    "    print(\"i: {0}; score: {1}\".format(n_estimators_param, score))\n",
    "\n",
    "print(\"max of n_estimators_result: {0}; i: {1}\".format(max(n_estimators_result), n_estimators_range[n_estimators_result.index(max(n_estimators_result))]))\n",
    "    \n",
    "plt.plot(n_estimators_range, n_estimators_result)"
   ]
  },
  {
   "cell_type": "code",
   "execution_count": 55,
   "metadata": {},
   "outputs": [
    {
     "name": "stdout",
     "output_type": "stream",
     "text": [
      "i: 1; score: (0.9818403124554145, 0.975974431505088)\n",
      "i: 3; score: (1.0, 0.9813746739649535)\n",
      "i: 5; score: (1.0, 0.9796113294882628)\n",
      "i: 7; score: (1.0, 0.9767826310569045)\n",
      "i: 9; score: (1.0, 0.9685169538224165)\n",
      "i: 11; score: (1.0, 0.9246904963079974)\n",
      "i: 13; score: (1.0, 0.913008339149921)\n",
      "i: 15; score: (1.0, 0.9090775504206312)\n",
      "i: 17; score: (1.0, 0.9129348664633922)\n",
      "i: 19; score: (1.0, 0.9128981301201278)\n",
      "i: 21; score: (1.0, 0.9129348664633922)\n",
      "i: 23; score: (1.0, 0.91291649829176)\n",
      "max of max_depth_result: 0.9813746739649535; i: 3\n"
     ]
    },
    {
     "data": {
      "text/plain": [
       "[<matplotlib.lines.Line2D at 0x7f034f0d8cd0>]"
      ]
     },
     "execution_count": 55,
     "metadata": {},
     "output_type": "execute_result"
    },
    {
     "data": {
      "image/png": "[encoded data removed]",
      "text/plain": [
       "<Figure size 432x288 with 1 Axes>"
      ]
     },
     "metadata": {
      "needs_background": "light"
     },
     "output_type": "display_data"
    }
   ],
   "source": [
    "max_depth_range = np.arange(1, 25, 2)\n",
    "max_depth_result = []\n",
    "\n",
    "for max_depth_param in max_depth_range:\n",
    "    model_best_gbc = GradientBoostingClassifier(n_estimators = 500, max_depth = max_depth_param, random_state = 42)\n",
    "    model_best_gbc.fit(XTrain_best_gbc, YTrain)\n",
    "\n",
    "    score = roc_auc_score(YTrain, model_best_gbc.predict_proba(XTrain_best_gbc).T[1]), roc_auc_score(YTest, model_best_gbc.predict_proba(XTest_best_gbc).T[1])\n",
    "    \n",
    "    max_depth_result.append(score[1])\n",
    "    \n",
    "    print(\"i: {0}; score: {1}\".format(max_depth_param, score))\n",
    "\n",
    "print(\"max of max_depth_result: {0}; i: {1}\".format(max(max_depth_result), max_depth_range[max_depth_result.index(max(max_depth_result))]))\n",
    "    \n",
    "plt.plot(max_depth_range, max_depth_result)"
   ]
  },
  {
   "cell_type": "code",
   "execution_count": 57,
   "metadata": {},
   "outputs": [
    {
     "name": "stdout",
     "output_type": "stream",
     "text": [
      "----n_estimators_param: 500----\n",
      "max_depth_param: 1; score: (0.9818403124554145, 0.975974431505088)\n",
      "max_depth_param: 3; score: (1.0, 0.9813746739649535)\n",
      "max_depth_param: 5; score: (1.0, 0.9796113294882628)\n",
      "max_depth_param: 7; score: (1.0, 0.9767826310569045)\n",
      "max_depth_param: 9; score: (1.0, 0.9685169538224165)\n",
      "max_depth_param: 11; score: (1.0, 0.9246904963079974)\n",
      "max_depth_param: 13; score: (1.0, 0.913008339149921)\n",
      "max_depth_param: 15; score: (1.0, 0.9090775504206312)\n",
      "max_depth_param: 17; score: (1.0, 0.9129348664633922)\n",
      "max_depth_param: 19; score: (1.0, 0.9128981301201278)\n",
      "max_depth_param: 21; score: (1.0, 0.9129348664633922)\n",
      "max_depth_param: 23; score: (1.0, 0.91291649829176)\n",
      "----n_estimators_param: 1000----\n",
      "max_depth_param: 1; score: (0.9901198459123984, 0.9774989897505602)\n",
      "max_depth_param: 3; score: (1.0, 0.9828808640387936)\n",
      "max_depth_param: 5; score: (1.0, 0.9799786929209067)\n",
      "max_depth_param: 7; score: (1.0, 0.9770030491164908)\n",
      "max_depth_param: 9; score: (1.0, 0.9691782080011756)\n",
      "max_depth_param: 11; score: (1.0, 0.924837441681055)\n",
      "max_depth_param: 13; score: (1.0, 0.9129348664633923)\n",
      "max_depth_param: 15; score: (1.0, 0.908599977958194)\n",
      "max_depth_param: 17; score: (1.0, 0.9123287167995298)\n",
      "max_depth_param: 19; score: (1.0, 0.9122368759413688)\n",
      "max_depth_param: 21; score: (1.0, 0.9123470849711619)\n",
      "max_depth_param: 23; score: (1.0, 0.9122368759413688)\n",
      "----n_estimators_param: 1500----\n",
      "max_depth_param: 1; score: (0.9940077043800828, 0.9774071488923992)\n",
      "max_depth_param: 3; score: (1.0, 0.9826971823224716)\n",
      "max_depth_param: 5; score: (1.0, 0.9793174387421476)\n",
      "max_depth_param: 7; score: (1.0, 0.9732926784467874)\n",
      "max_depth_param: 9; score: (1.0, 0.9650637375555637)\n",
      "max_depth_param: 11; score: (1.0, 0.9249843870541126)\n",
      "max_depth_param: 13; score: (1.0, 0.9129348664633923)\n",
      "max_depth_param: 15; score: (1.0, 0.9087469233312516)\n",
      "max_depth_param: 17; score: (1.0, 0.9123103486278976)\n",
      "max_depth_param: 19; score: (1.0, 0.9123470849711619)\n",
      "max_depth_param: 21; score: (1.0, 0.9124205576576907)\n",
      "max_depth_param: 23; score: (1.0, 0.9123103486278976)\n",
      "----n_estimators_param: 2000----\n",
      "max_depth_param: 1; score: (0.9959337994007704, 0.9767458947136402)\n",
      "max_depth_param: 3; score: (1.0, 0.9818155100841262)\n",
      "max_depth_param: 5; score: (1.0, 0.9789500753095037)\n",
      "max_depth_param: 7; score: (1.0, 0.9731457330737299)\n",
      "max_depth_param: 9; score: (1.0, 0.9637044928547812)\n",
      "max_depth_param: 11; score: (1.0, 0.9250945960839058)\n",
      "max_depth_param: 13; score: (1.0, 0.9130450754931854)\n",
      "max_depth_param: 15; score: (1.0, 0.9087469233312516)\n",
      "max_depth_param: 17; score: (1.0, 0.9123838213144264)\n",
      "max_depth_param: 19; score: (1.0, 0.9123470849711619)\n",
      "max_depth_param: 21; score: (1.0, 0.9123470849711619)\n",
      "max_depth_param: 23; score: (1.0, 0.9123838213144264)\n"
     ]
    }
   ],
   "source": [
    "import pandas as pd\n",
    "\n",
    "common_result = []\n",
    "\n",
    "for n_estimators_param in n_estimators_range:\n",
    "    print(\"----n_estimators_param: {0}----\".format(n_estimators_param))\n",
    "    for max_depth_param in max_depth_range:\n",
    "        model_best_gbc = GradientBoostingClassifier(n_estimators = n_estimators_param, max_depth = max_depth_param, random_state = 42)\n",
    "        model_best_gbc.fit(XTrain_best_gbc, YTrain)\n",
    "\n",
    "        score = roc_auc_score(YTrain, model_best_gbc.predict_proba(XTrain_best_gbc).T[1]), roc_auc_score(YTest, model_best_gbc.predict_proba(XTest_best_gbc).T[1])\n",
    "\n",
    "        common_result.append([score[1], (n_estimators_param, max_depth_param)])\n",
    "\n",
    "        print(\"max_depth_param: {0}; score: {1}\".format(max_depth_param, score))"
   ]
  },
  {
   "cell_type": "code",
   "execution_count": 59,
   "metadata": {},
   "outputs": [
    {
     "name": "stdout",
     "output_type": "stream",
     "text": [
      "Max score: 0.9828808640387936; Params: n_estimators: 1000, max_depth: 3\n"
     ]
    },
    {
     "name": "stderr",
     "output_type": "stream",
     "text": [
      "<ipython-input-59-2724742e8150>:3: VisibleDeprecationWarning: Creating an ndarray from ragged nested sequences (which is a list-or-tuple of lists-or-tuples-or ndarrays with different lengths or shapes) is deprecated. If you meant to do this, you must specify 'dtype=object' when creating the ndarray\n",
      "  common_result_np = np.array(common_result)\n"
     ]
    },
    {
     "data": {
      "text/plain": [
       "[<matplotlib.lines.Line2D at 0x7f034e7ed520>]"
      ]
     },
     "execution_count": 59,
     "metadata": {},
     "output_type": "execute_result"
    },
    {
     "data": {
      "image/png": "[encoded data removed]",
      "text/plain": [
       "<Figure size 432x288 with 1 Axes>"
      ]
     },
     "metadata": {
      "needs_background": "light"
     },
     "output_type": "display_data"
    }
   ],
   "source": [
    "max_score = max(list(map(lambda x: x[0], common_result)))\n",
    "\n",
    "common_result_np = np.array(common_result)\n",
    "\n",
    "common_result_pd = pd.Series(list(common_result_np.T[1 :][0].T), index = common_result_np.T[0])\n",
    "\n",
    "print(\"Max score: {0}; Params: n_estimators: {1}, max_depth: {2}\".format(max_score, common_result_pd[max_score][0], common_result_pd[max_score][1]))\n",
    "\n",
    "plt.plot(range(0, len(n_estimators_range) * len(max_depth_range)), list(map(lambda x: x[0], common_result)))"
   ]
  },
  {
   "cell_type": "markdown",
   "metadata": {},
   "source": [
    "### Cat Boosting Classifier"
   ]
  },
  {
   "cell_type": "code",
   "execution_count": 61,
   "metadata": {},
   "outputs": [
    {
     "data": {
      "text/plain": [
       "(1.0, 0.9792072297123544)"
      ]
     },
     "execution_count": 61,
     "metadata": {},
     "output_type": "execute_result"
    }
   ],
   "source": [
    "from catboost import CatBoostClassifier\n",
    "\n",
    "model_init_cbc = CatBoostClassifier(silent = True, random_state = 42)\n",
    "model_init_cbc.fit(XTrain, YTrain)\n",
    "\n",
    "roc_auc_score(YTrain, model_init_cbc.predict_proba(XTrain).T[1]), roc_auc_score(YTest, model_init_cbc.predict_proba(XTest).T[1])"
   ]
  },
  {
   "cell_type": "code",
   "execution_count": 63,
   "metadata": {},
   "outputs": [
    {
     "data": {
      "text/plain": [
       "array([ 0,  1,  2,  3,  4,  5,  6,  7,  8,  9, 10, 11, 12, 13, 14, 15, 16,\n",
       "       17, 18, 19, 20, 21, 22, 23, 24, 25, 26, 27, 28, 29])"
      ]
     },
     "execution_count": 63,
     "metadata": {},
     "output_type": "execute_result"
    }
   ],
   "source": [
    "features_cbc = pd.Series(model_init_cbc.feature_importances_)\n",
    "\n",
    "best_features_cbc = np.array(features_cbc[features_cbc > 0.02].index)\n",
    "best_features_cbc"
   ]
  },
  {
   "cell_type": "code",
   "execution_count": 64,
   "metadata": {},
   "outputs": [
    {
     "data": {
      "text/plain": [
       "(1.0, 0.9792072297123544)"
      ]
     },
     "execution_count": 64,
     "metadata": {},
     "output_type": "execute_result"
    }
   ],
   "source": [
    "XTrain_best_cbc = XTrain[:, best_features_cbc]\n",
    "XTest_best_cbc = XTest[:, best_features_cbc]\n",
    "\n",
    "model_best_cbc = CatBoostClassifier(silent = True, random_state = 42)\n",
    "model_best_cbc.fit(XTrain_best_cbc, YTrain)\n",
    "\n",
    "roc_auc_score(YTrain, model_best_cbc.predict_proba(XTrain_best_cbc).T[1]), roc_auc_score(YTest, model_best_cbc.predict_proba(XTest_best_cbc).T[1])"
   ]
  },
  {
   "cell_type": "code",
   "execution_count": 83,
   "metadata": {},
   "outputs": [
    {
     "name": "stdout",
     "output_type": "stream",
     "text": [
      "i: 50; score: (1.0, 0.9744315050879836)\n",
      "i: 60; score: (1.0, 0.9756805407589728)\n",
      "i: 70; score: (1.0, 0.9806766834429301)\n",
      "i: 80; score: (1.0, 0.9804562653833437)\n",
      "i: 90; score: (1.0, 0.9767826310569045)\n",
      "i: 100; score: (1.0, 0.9767458947136402)\n",
      "max of n_estimators_result: 0.9806766834429301; i: 70\n"
     ]
    },
    {
     "data": {
      "text/plain": [
       "[<matplotlib.lines.Line2D at 0x7f034fed7dc0>]"
      ]
     },
     "execution_count": 83,
     "metadata": {},
     "output_type": "execute_result"
    },
    {
     "data": {
      "image/png": "[encoded data removed]",
      "text/plain": [
       "<Figure size 432x288 with 1 Axes>"
      ]
     },
     "metadata": {
      "needs_background": "light"
     },
     "output_type": "display_data"
    }
   ],
   "source": [
    "n_estimators_range = [50, 60, 70, 80, 90, 100]\n",
    "n_estimators_result = []\n",
    "\n",
    "for n_estimators_param in n_estimators_range:\n",
    "    model_best_cbc = CatBoostClassifier(n_estimators = n_estimators_param, max_depth = 10, random_state = 42, silent = True)\n",
    "    model_best_cbc.fit(XTrain_best_cbc, YTrain)\n",
    "\n",
    "    score = roc_auc_score(YTrain, model_best_cbc.predict_proba(XTrain_best_cbc).T[1]), roc_auc_score(YTest, model_best_cbc.predict_proba(XTest_best_cbc).T[1])\n",
    "    \n",
    "    n_estimators_result.append(score[1])\n",
    "    \n",
    "    print(\"i: {0}; score: {1}\".format(n_estimators_param, score))\n",
    "\n",
    "print(\"max of n_estimators_result: {0}; i: {1}\".format(max(n_estimators_result), n_estimators_range[n_estimators_result.index(max(n_estimators_result))]))\n",
    "    \n",
    "plt.plot(n_estimators_range, n_estimators_result)"
   ]
  },
  {
   "cell_type": "code",
   "execution_count": 84,
   "metadata": {},
   "outputs": [
    {
     "name": "stdout",
     "output_type": "stream",
     "text": [
      "i: 1; score: (0.925243437009559, 0.9434627677161016)\n",
      "i: 3; score: (0.9914752461121416, 0.9782153484442158)\n",
      "i: 5; score: (0.9993847196461692, 0.9795011204584696)\n",
      "i: 7; score: (1.0, 0.9730722603872011)\n",
      "i: 9; score: (1.0, 0.9760111678483524)\n",
      "max of max_depth_result: 0.9795011204584696; i: 5\n"
     ]
    },
    {
     "data": {
      "text/plain": [
       "[<matplotlib.lines.Line2D at 0x7f034feb2310>]"
      ]
     },
     "execution_count": 84,
     "metadata": {},
     "output_type": "execute_result"
    },
    {
     "data": {
      "image/png": "[encoded data removed]",
      "text/plain": [
       "<Figure size 432x288 with 1 Axes>"
      ]
     },
     "metadata": {
      "needs_background": "light"
     },
     "output_type": "display_data"
    }
   ],
   "source": [
    "max_depth_range = np.arange(1, 11, 2)\n",
    "max_depth_result = []\n",
    "\n",
    "for max_depth_param in max_depth_range:\n",
    "    model_best_cbc = CatBoostClassifier(n_estimators = 70, max_depth = max_depth_param, random_state = 42, silent = True)\n",
    "    model_best_cbc.fit(XTrain_best_cbc, YTrain)\n",
    "\n",
    "    score = roc_auc_score(YTrain, model_best_cbc.predict_proba(XTrain_best_cbc).T[1]), roc_auc_score(YTest, model_best_cbc.predict_proba(XTest_best_cbc).T[1])\n",
    "    \n",
    "    max_depth_result.append(score[1])\n",
    "    \n",
    "    print(\"i: {0}; score: {1}\".format(max_depth_param, score))\n",
    "\n",
    "print(\"max of max_depth_result: {0}; i: {1}\".format(max(max_depth_result), max_depth_range[max_depth_result.index(max(max_depth_result))]))\n",
    "    \n",
    "plt.plot(max_depth_range, max_depth_result)"
   ]
  },
  {
   "cell_type": "code",
   "execution_count": 86,
   "metadata": {},
   "outputs": [
    {
     "name": "stdout",
     "output_type": "stream",
     "text": [
      "----n_estimators_param: 50----\n",
      "max_depth_param: 1; score: (0.9231612926237696, 0.9422137320451122)\n",
      "max_depth_param: 3; score: (0.9925542160079897, 0.9787663935931817)\n",
      "max_depth_param: 5; score: (0.9991172064488515, 0.9788398662797105)\n",
      "max_depth_param: 7; score: (1.0, 0.9758274861320304)\n",
      "max_depth_param: 9; score: (1.0, 0.9750192865802138)\n",
      "----n_estimators_param: 60----\n",
      "max_depth_param: 1; score: (0.9245345270366673, 0.9474119246170236)\n",
      "max_depth_param: 3; score: (0.9909848052503925, 0.9741743506851329)\n",
      "max_depth_param: 5; score: (0.9991172064488515, 0.9806032107564014)\n",
      "max_depth_param: 7; score: (1.0, 0.9756070680724442)\n",
      "max_depth_param: 9; score: (1.0, 0.973806987252489)\n",
      "----n_estimators_param: 70----\n",
      "max_depth_param: 1; score: (0.925243437009559, 0.9434627677161016)\n",
      "max_depth_param: 3; score: (0.9914752461121416, 0.9782153484442158)\n",
      "max_depth_param: 5; score: (0.9993847196461692, 0.9795011204584696)\n",
      "max_depth_param: 7; score: (1.0, 0.9730722603872011)\n",
      "max_depth_param: 9; score: (1.0, 0.9760111678483524)\n",
      "----n_estimators_param: 80----\n",
      "max_depth_param: 1; score: (0.9237765729776003, 0.9484956467433231)\n",
      "max_depth_param: 3; score: (0.9930357397631616, 0.9775173579221925)\n",
      "max_depth_param: 5; score: (0.9994738907119418, 0.9803827926968149)\n",
      "max_depth_param: 7; score: (1.0, 0.9786194482201241)\n",
      "max_depth_param: 9; score: (1.0, 0.9761213768781456)\n",
      "----n_estimators_param: 90----\n",
      "max_depth_param: 1; score: (0.9218148095306035, 0.9457771573417582)\n",
      "max_depth_param: 3; score: (0.9918943501212727, 0.9782520847874803)\n",
      "max_depth_param: 5; score: (0.9994471393922101, 0.978692920906653)\n",
      "max_depth_param: 7; score: (1.0, 0.9769663127732265)\n",
      "max_depth_param: 9; score: (1.0, 0.9752029682965357)\n",
      "----n_estimators_param: 100----\n",
      "max_depth_param: 1; score: (0.9241020473676701, 0.9489915873773924)\n",
      "max_depth_param: 3; score: (0.9937669425024969, 0.97615811322141)\n",
      "max_depth_param: 5; score: (0.9995006420316737, 0.9757540134455017)\n",
      "max_depth_param: 7; score: (1.0, 0.9778847213548364)\n",
      "max_depth_param: 9; score: (1.0, 0.9766356856838472)\n"
     ]
    }
   ],
   "source": [
    "import pandas as pd\n",
    "\n",
    "common_result = []\n",
    "\n",
    "for n_estimators_param in n_estimators_range:\n",
    "    print(\"----n_estimators_param: {0}----\".format(n_estimators_param))\n",
    "    for max_depth_param in max_depth_range:\n",
    "        model_best_cbc = CatBoostClassifier(n_estimators = n_estimators_param, max_depth = max_depth_param, random_state = 42, silent = True)\n",
    "        model_best_cbc.fit(XTrain_best_cbc, YTrain)\n",
    "\n",
    "        score = roc_auc_score(YTrain, model_best_cbc.predict_proba(XTrain_best_cbc).T[1]), roc_auc_score(YTest, model_best_cbc.predict_proba(XTest_best_cbc).T[1])\n",
    "\n",
    "        common_result.append([score[1], (n_estimators_param, max_depth_param)])\n",
    "\n",
    "        print(\"max_depth_param: {0}; score: {1}\".format(max_depth_param, score))"
   ]
  },
  {
   "cell_type": "code",
   "execution_count": 87,
   "metadata": {},
   "outputs": [
    {
     "name": "stdout",
     "output_type": "stream",
     "text": [
      "Max score: 0.9806032107564014; Params: n_estimators: 60, max_depth: 5\n"
     ]
    },
    {
     "name": "stderr",
     "output_type": "stream",
     "text": [
      "<ipython-input-87-2724742e8150>:3: VisibleDeprecationWarning: Creating an ndarray from ragged nested sequences (which is a list-or-tuple of lists-or-tuples-or ndarrays with different lengths or shapes) is deprecated. If you meant to do this, you must specify 'dtype=object' when creating the ndarray\n",
      "  common_result_np = np.array(common_result)\n"
     ]
    },
    {
     "data": {
      "text/plain": [
       "[<matplotlib.lines.Line2D at 0x7f034fe11760>]"
      ]
     },
     "execution_count": 87,
     "metadata": {},
     "output_type": "execute_result"
    },
    {
     "data": {
      "image/png": "[encoded data removed]",
      "text/plain": [
       "<Figure size 432x288 with 1 Axes>"
      ]
     },
     "metadata": {
      "needs_background": "light"
     },
     "output_type": "display_data"
    }
   ],
   "source": [
    "max_score = max(list(map(lambda x: x[0], common_result)))\n",
    "\n",
    "common_result_np = np.array(common_result)\n",
    "\n",
    "common_result_pd = pd.Series(list(common_result_np.T[1 :][0].T), index = common_result_np.T[0])\n",
    "\n",
    "print(\"Max score: {0}; Params: n_estimators: {1}, max_depth: {2}\".format(max_score, common_result_pd[max_score][0], common_result_pd[max_score][1]))\n",
    "\n",
    "plt.plot(range(0, len(n_estimators_range) * len(max_depth_range)), list(map(lambda x: x[0], common_result)))"
   ]
  },
  {
   "cell_type": "markdown",
   "metadata": {},
   "source": [
    "### Light GBM Classifier"
   ]
  },
  {
   "cell_type": "code",
   "execution_count": 95,
   "metadata": {},
   "outputs": [
    {
     "data": {
      "text/plain": [
       "(1.0, 0.969398626060762)"
      ]
     },
     "execution_count": 95,
     "metadata": {},
     "output_type": "execute_result"
    }
   ],
   "source": [
    "from lightgbm import LGBMClassifier\n",
    "\n",
    "model_init_lgbm = LGBMClassifier(random_state = 42)\n",
    "model_init_lgbm.fit(XTrain, YTrain)\n",
    "\n",
    "roc_auc_score(YTrain, model_init_lgbm.predict_proba(XTrain).T[1]), roc_auc_score(YTest, model_init_lgbm.predict_proba(XTest).T[1])"
   ]
  },
  {
   "cell_type": "code",
   "execution_count": 96,
   "metadata": {},
   "outputs": [
    {
     "data": {
      "text/plain": [
       "array([ 0,  1,  2,  3,  4,  5,  6,  7,  8,  9, 10, 11, 12, 13, 14, 15, 16,\n",
       "       17, 18, 19, 20, 21, 22, 23, 24, 25, 26, 27, 28, 29])"
      ]
     },
     "execution_count": 96,
     "metadata": {},
     "output_type": "execute_result"
    }
   ],
   "source": [
    "features_lgbm = pd.Series(model_init_lgbm.feature_importances_)\n",
    "\n",
    "best_features_lgbm = np.array(features_lgbm[features_lgbm > 0.02].index)\n",
    "best_features_lgbm"
   ]
  },
  {
   "cell_type": "code",
   "execution_count": 97,
   "metadata": {},
   "outputs": [
    {
     "data": {
      "text/plain": [
       "(1.0, 0.969398626060762)"
      ]
     },
     "execution_count": 97,
     "metadata": {},
     "output_type": "execute_result"
    }
   ],
   "source": [
    "XTrain_best_lgbm = XTrain[:, best_features_lgbm]\n",
    "XTest_best_lgbm = XTest[:, best_features_lgbm]\n",
    "\n",
    "model_best_lgbm = LGBMClassifier(random_state = 42)\n",
    "model_best_lgbm.fit(XTrain_best_lgbm, YTrain)\n",
    "\n",
    "roc_auc_score(YTrain, model_best_lgbm.predict_proba(XTrain_best_lgbm).T[1]), roc_auc_score(YTest, model_best_lgbm.predict_proba(XTest_best_lgbm).T[1])"
   ]
  },
  {
   "cell_type": "code",
   "execution_count": 103,
   "metadata": {},
   "outputs": [
    {
     "name": "stdout",
     "output_type": "stream",
     "text": [
      "[LightGBM] [Warning] Accuracy may be bad since you didn't explicitly set num_leaves OR 2^max_depth > num_leaves. (num_leaves=31).\n",
      "i: 50; score: (1.0, 0.9707578707615444)\n",
      "[LightGBM] [Warning] Accuracy may be bad since you didn't explicitly set num_leaves OR 2^max_depth > num_leaves. (num_leaves=31).\n",
      "i: 60; score: (1.0, 0.9706476617317511)\n",
      "[LightGBM] [Warning] Accuracy may be bad since you didn't explicitly set num_leaves OR 2^max_depth > num_leaves. (num_leaves=31).\n",
      "i: 70; score: (1.0, 0.972594687924764)\n",
      "[LightGBM] [Warning] Accuracy may be bad since you didn't explicitly set num_leaves OR 2^max_depth > num_leaves. (num_leaves=31).\n",
      "i: 80; score: (1.0, 0.970537452701958)\n",
      "[LightGBM] [Warning] Accuracy may be bad since you didn't explicitly set num_leaves OR 2^max_depth > num_leaves. (num_leaves=31).\n",
      "i: 90; score: (1.0, 0.9710884978509239)\n",
      "[LightGBM] [Warning] Accuracy may be bad since you didn't explicitly set num_leaves OR 2^max_depth > num_leaves. (num_leaves=31).\n",
      "i: 100; score: (1.0, 0.9700231438962565)\n",
      "max of n_estimators_result: 0.972594687924764; i: 70\n"
     ]
    },
    {
     "data": {
      "text/plain": [
       "[<matplotlib.lines.Line2D at 0x7f034fc0b6a0>]"
      ]
     },
     "execution_count": 103,
     "metadata": {},
     "output_type": "execute_result"
    },
    {
     "data": {
      "image/png": "[encoded data removed]",
      "text/plain": [
       "<Figure size 432x288 with 1 Axes>"
      ]
     },
     "metadata": {
      "needs_background": "light"
     },
     "output_type": "display_data"
    }
   ],
   "source": [
    "n_estimators_range = [50, 60, 70, 80, 90, 100]\n",
    "n_estimators_result = []\n",
    "\n",
    "for n_estimators_param in n_estimators_range:\n",
    "    model_best_lgbm = LGBMClassifier(n_estimators = n_estimators_param, max_depth = 10, random_state = 42)\n",
    "    model_best_lgbm.fit(XTrain_best_lgbm, YTrain)\n",
    "\n",
    "    score = roc_auc_score(YTrain, model_best_lgbm.predict_proba(XTrain_best_lgbm).T[1]), roc_auc_score(YTest, model_best_lgbm.predict_proba(XTest_best_lgbm).T[1])\n",
    "    \n",
    "    n_estimators_result.append(score[1])\n",
    "    \n",
    "    print(\"i: {0}; score: {1}\".format(n_estimators_param, score))\n",
    "\n",
    "print(\"max of n_estimators_result: {0}; i: {1}\".format(max(n_estimators_result), n_estimators_range[n_estimators_result.index(max(n_estimators_result))]))\n",
    "    \n",
    "plt.plot(n_estimators_range, n_estimators_result)"
   ]
  },
  {
   "cell_type": "code",
   "execution_count": 109,
   "metadata": {},
   "outputs": [
    {
     "name": "stdout",
     "output_type": "stream",
     "text": [
      "i: 3; score: (0.9985197603081752, 0.9670842364351053)\n",
      "i: 4; score: (0.9999643315736909, 0.9705007163586936)\n",
      "[LightGBM] [Warning] Accuracy may be bad since you didn't explicitly set num_leaves OR 2^max_depth > num_leaves. (num_leaves=31).\n",
      "i: 5; score: (1.0, 0.9694353624040263)\n",
      "[LightGBM] [Warning] Accuracy may be bad since you didn't explicitly set num_leaves OR 2^max_depth > num_leaves. (num_leaves=31).\n",
      "i: 6; score: (1.0, 0.9688108445685316)\n",
      "[LightGBM] [Warning] Accuracy may be bad since you didn't explicitly set num_leaves OR 2^max_depth > num_leaves. (num_leaves=31).\n",
      "i: 7; score: (1.0, 0.967157709121634)\n",
      "[LightGBM] [Warning] Accuracy may be bad since you didn't explicitly set num_leaves OR 2^max_depth > num_leaves. (num_leaves=31).\n",
      "i: 8; score: (1.0, 0.9681128540465082)\n",
      "[LightGBM] [Warning] Accuracy may be bad since you didn't explicitly set num_leaves OR 2^max_depth > num_leaves. (num_leaves=31).\n",
      "i: 9; score: (1.0, 0.9706476617317513)\n",
      "[LightGBM] [Warning] Accuracy may be bad since you didn't explicitly set num_leaves OR 2^max_depth > num_leaves. (num_leaves=31).\n",
      "i: 10; score: (1.0, 0.972594687924764)\n",
      "[LightGBM] [Warning] Accuracy may be bad since you didn't explicitly set num_leaves OR 2^max_depth > num_leaves. (num_leaves=31).\n",
      "i: 11; score: (1.0, 0.9690679989713824)\n",
      "[LightGBM] [Warning] Accuracy may be bad since you didn't explicitly set num_leaves OR 2^max_depth > num_leaves. (num_leaves=31).\n",
      "i: 12; score: (1.0, 0.96921494434444)\n",
      "[LightGBM] [Warning] Accuracy may be bad since you didn't explicitly set num_leaves OR 2^max_depth > num_leaves. (num_leaves=31).\n",
      "i: 13; score: (1.0, 0.96921494434444)\n",
      "[LightGBM] [Warning] Accuracy may be bad since you didn't explicitly set num_leaves OR 2^max_depth > num_leaves. (num_leaves=31).\n",
      "i: 14; score: (1.0, 0.96921494434444)\n",
      "max of max_depth_result: 0.972594687924764; i: 10\n"
     ]
    },
    {
     "data": {
      "text/plain": [
       "[<matplotlib.lines.Line2D at 0x7f034fa0b8e0>]"
      ]
     },
     "execution_count": 109,
     "metadata": {},
     "output_type": "execute_result"
    },
    {
     "data": {
      "image/png": "[encoded data removed]",
      "text/plain": [
       "<Figure size 432x288 with 1 Axes>"
      ]
     },
     "metadata": {
      "needs_background": "light"
     },
     "output_type": "display_data"
    }
   ],
   "source": [
    "max_depth_range = np.arange(3, 15, 1)\n",
    "max_depth_result = []\n",
    "\n",
    "for max_depth_param in max_depth_range:\n",
    "    model_best_lgbm = LGBMClassifier(n_estimators = 70, max_depth = max_depth_param, random_state = 42, silent = True)\n",
    "    model_best_lgbm.fit(XTrain_best_lgbm, YTrain)\n",
    "\n",
    "    score = roc_auc_score(YTrain, model_best_lgbm.predict_proba(XTrain_best_lgbm).T[1]), roc_auc_score(YTest, model_best_lgbm.predict_proba(XTest_best_lgbm).T[1])\n",
    "    \n",
    "    max_depth_result.append(score[1])\n",
    "    \n",
    "    print(\"i: {0}; score: {1}\".format(max_depth_param, score))\n",
    "\n",
    "print(\"max of max_depth_result: {0}; i: {1}\".format(max(max_depth_result), max_depth_range[max_depth_result.index(max(max_depth_result))]))\n",
    "    \n",
    "plt.plot(max_depth_range, max_depth_result)"
   ]
  },
  {
   "cell_type": "code",
   "execution_count": 110,
   "metadata": {},
   "outputs": [
    {
     "name": "stdout",
     "output_type": "stream",
     "text": [
      "----n_estimators_param: 50----\n",
      "max_depth_param: 3; score: (0.9963083178770152, 0.9678189633003931)\n",
      "max_depth_param: 4; score: (0.9992955485803967, 0.9714558612835679)\n",
      "[LightGBM] [Warning] Accuracy may be bad since you didn't explicitly set num_leaves OR 2^max_depth > num_leaves. (num_leaves=31).\n",
      "max_depth_param: 5; score: (0.9999197460408047, 0.9698027258366702)\n",
      "[LightGBM] [Warning] Accuracy may be bad since you didn't explicitly set num_leaves OR 2^max_depth > num_leaves. (num_leaves=31).\n",
      "max_depth_param: 6; score: (1.0, 0.9666434003159325)\n",
      "[LightGBM] [Warning] Accuracy may be bad since you didn't explicitly set num_leaves OR 2^max_depth > num_leaves. (num_leaves=31).\n",
      "max_depth_param: 7; score: (1.0, 0.9660188824804379)\n",
      "[LightGBM] [Warning] Accuracy may be bad since you didn't explicitly set num_leaves OR 2^max_depth > num_leaves. (num_leaves=31).\n",
      "max_depth_param: 8; score: (1.0, 0.9701333529260497)\n",
      "[LightGBM] [Warning] Accuracy may be bad since you didn't explicitly set num_leaves OR 2^max_depth > num_leaves. (num_leaves=31).\n",
      "max_depth_param: 9; score: (1.0, 0.9710517615076595)\n",
      "[LightGBM] [Warning] Accuracy may be bad since you didn't explicitly set num_leaves OR 2^max_depth > num_leaves. (num_leaves=31).\n",
      "max_depth_param: 10; score: (1.0, 0.9707578707615444)\n",
      "[LightGBM] [Warning] Accuracy may be bad since you didn't explicitly set num_leaves OR 2^max_depth > num_leaves. (num_leaves=31).\n",
      "max_depth_param: 11; score: (1.0, 0.9716028066566254)\n",
      "[LightGBM] [Warning] Accuracy may be bad since you didn't explicitly set num_leaves OR 2^max_depth > num_leaves. (num_leaves=31).\n",
      "max_depth_param: 12; score: (1.0, 0.9716395429998897)\n",
      "[LightGBM] [Warning] Accuracy may be bad since you didn't explicitly set num_leaves OR 2^max_depth > num_leaves. (num_leaves=31).\n",
      "max_depth_param: 13; score: (1.0, 0.9716395429998897)\n",
      "[LightGBM] [Warning] Accuracy may be bad since you didn't explicitly set num_leaves OR 2^max_depth > num_leaves. (num_leaves=31).\n",
      "max_depth_param: 14; score: (1.0, 0.9716395429998897)\n",
      "----n_estimators_param: 60----\n",
      "max_depth_param: 3; score: (0.9977974746754172, 0.9680393813599795)\n",
      "max_depth_param: 4; score: (0.999794906548723, 0.9711987068807171)\n",
      "[LightGBM] [Warning] Accuracy may be bad since you didn't explicitly set num_leaves OR 2^max_depth > num_leaves. (num_leaves=31).\n",
      "max_depth_param: 5; score: (1.0, 0.969876198523199)\n",
      "[LightGBM] [Warning] Accuracy may be bad since you didn't explicitly set num_leaves OR 2^max_depth > num_leaves. (num_leaves=31).\n",
      "max_depth_param: 6; score: (1.0, 0.9674515998677492)\n",
      "[LightGBM] [Warning] Accuracy may be bad since you didn't explicitly set num_leaves OR 2^max_depth > num_leaves. (num_leaves=31).\n",
      "max_depth_param: 7; score: (1.0, 0.9670842364351051)\n",
      "[LightGBM] [Warning] Accuracy may be bad since you didn't explicitly set num_leaves OR 2^max_depth > num_leaves. (num_leaves=31).\n",
      "max_depth_param: 8; score: (1.0, 0.9704272436721649)\n",
      "[LightGBM] [Warning] Accuracy may be bad since you didn't explicitly set num_leaves OR 2^max_depth > num_leaves. (num_leaves=31).\n",
      "max_depth_param: 9; score: (1.0, 0.9706109253884868)\n",
      "[LightGBM] [Warning] Accuracy may be bad since you didn't explicitly set num_leaves OR 2^max_depth > num_leaves. (num_leaves=31).\n",
      "max_depth_param: 10; score: (1.0, 0.9706476617317511)\n",
      "[LightGBM] [Warning] Accuracy may be bad since you didn't explicitly set num_leaves OR 2^max_depth > num_leaves. (num_leaves=31).\n",
      "max_depth_param: 11; score: (1.0, 0.9705374527019581)\n",
      "[LightGBM] [Warning] Accuracy may be bad since you didn't explicitly set num_leaves OR 2^max_depth > num_leaves. (num_leaves=31).\n",
      "max_depth_param: 12; score: (1.0, 0.9712721795672459)\n",
      "[LightGBM] [Warning] Accuracy may be bad since you didn't explicitly set num_leaves OR 2^max_depth > num_leaves. (num_leaves=31).\n",
      "max_depth_param: 13; score: (1.0, 0.9712721795672459)\n",
      "[LightGBM] [Warning] Accuracy may be bad since you didn't explicitly set num_leaves OR 2^max_depth > num_leaves. (num_leaves=31).\n",
      "max_depth_param: 14; score: (1.0, 0.9712721795672459)\n",
      "----n_estimators_param: 70----\n",
      "max_depth_param: 3; score: (0.9985197603081752, 0.9670842364351053)\n",
      "max_depth_param: 4; score: (0.9999643315736909, 0.9705007163586936)\n",
      "[LightGBM] [Warning] Accuracy may be bad since you didn't explicitly set num_leaves OR 2^max_depth > num_leaves. (num_leaves=31).\n",
      "max_depth_param: 5; score: (1.0, 0.9694353624040263)\n",
      "[LightGBM] [Warning] Accuracy may be bad since you didn't explicitly set num_leaves OR 2^max_depth > num_leaves. (num_leaves=31).\n",
      "max_depth_param: 6; score: (1.0, 0.9688108445685316)\n",
      "[LightGBM] [Warning] Accuracy may be bad since you didn't explicitly set num_leaves OR 2^max_depth > num_leaves. (num_leaves=31).\n",
      "max_depth_param: 7; score: (1.0, 0.967157709121634)\n",
      "[LightGBM] [Warning] Accuracy may be bad since you didn't explicitly set num_leaves OR 2^max_depth > num_leaves. (num_leaves=31).\n",
      "max_depth_param: 8; score: (1.0, 0.9681128540465082)\n",
      "[LightGBM] [Warning] Accuracy may be bad since you didn't explicitly set num_leaves OR 2^max_depth > num_leaves. (num_leaves=31).\n",
      "max_depth_param: 9; score: (1.0, 0.9706476617317513)\n",
      "[LightGBM] [Warning] Accuracy may be bad since you didn't explicitly set num_leaves OR 2^max_depth > num_leaves. (num_leaves=31).\n",
      "max_depth_param: 10; score: (1.0, 0.972594687924764)\n",
      "[LightGBM] [Warning] Accuracy may be bad since you didn't explicitly set num_leaves OR 2^max_depth > num_leaves. (num_leaves=31).\n",
      "max_depth_param: 11; score: (1.0, 0.9690679989713824)\n",
      "[LightGBM] [Warning] Accuracy may be bad since you didn't explicitly set num_leaves OR 2^max_depth > num_leaves. (num_leaves=31).\n",
      "max_depth_param: 12; score: (1.0, 0.96921494434444)\n",
      "[LightGBM] [Warning] Accuracy may be bad since you didn't explicitly set num_leaves OR 2^max_depth > num_leaves. (num_leaves=31).\n",
      "max_depth_param: 13; score: (1.0, 0.96921494434444)\n",
      "[LightGBM] [Warning] Accuracy may be bad since you didn't explicitly set num_leaves OR 2^max_depth > num_leaves. (num_leaves=31).\n",
      "max_depth_param: 14; score: (1.0, 0.96921494434444)\n",
      "----n_estimators_param: 80----\n",
      "max_depth_param: 3; score: (0.9991082893422742, 0.9682965357628301)\n",
      "max_depth_param: 4; score: (1.0, 0.9698027258366702)\n",
      "[LightGBM] [Warning] Accuracy may be bad since you didn't explicitly set num_leaves OR 2^max_depth > num_leaves. (num_leaves=31).\n",
      "max_depth_param: 5; score: (1.0, 0.9705007163586937)\n",
      "[LightGBM] [Warning] Accuracy may be bad since you didn't explicitly set num_leaves OR 2^max_depth > num_leaves. (num_leaves=31).\n",
      "max_depth_param: 6; score: (1.0, 0.9689945262848536)\n",
      "[LightGBM] [Warning] Accuracy may be bad since you didn't explicitly set num_leaves OR 2^max_depth > num_leaves. (num_leaves=31).\n",
      "max_depth_param: 7; score: (1.0, 0.9697659894934059)\n",
      "[LightGBM] [Warning] Accuracy may be bad since you didn't explicitly set num_leaves OR 2^max_depth > num_leaves. (num_leaves=31).\n",
      "max_depth_param: 8; score: (1.0, 0.9682230630763015)\n",
      "[LightGBM] [Warning] Accuracy may be bad since you didn't explicitly set num_leaves OR 2^max_depth > num_leaves. (num_leaves=31).\n",
      "max_depth_param: 9; score: (1.0, 0.9702435619558429)\n",
      "[LightGBM] [Warning] Accuracy may be bad since you didn't explicitly set num_leaves OR 2^max_depth > num_leaves. (num_leaves=31).\n",
      "max_depth_param: 10; score: (1.0, 0.970537452701958)\n",
      "[LightGBM] [Warning] Accuracy may be bad since you didn't explicitly set num_leaves OR 2^max_depth > num_leaves. (num_leaves=31).\n",
      "max_depth_param: 11; score: (1.0, 0.9694720987472907)\n",
      "[LightGBM] [Warning] Accuracy may be bad since you didn't explicitly set num_leaves OR 2^max_depth > num_leaves. (num_leaves=31).\n",
      "max_depth_param: 12; score: (1.0, 0.9699496712097277)\n",
      "[LightGBM] [Warning] Accuracy may be bad since you didn't explicitly set num_leaves OR 2^max_depth > num_leaves. (num_leaves=31).\n",
      "max_depth_param: 13; score: (1.0, 0.9710884978509239)\n",
      "[LightGBM] [Warning] Accuracy may be bad since you didn't explicitly set num_leaves OR 2^max_depth > num_leaves. (num_leaves=31).\n",
      "max_depth_param: 14; score: (1.0, 0.9709415524778664)\n",
      "----n_estimators_param: 90----\n",
      "max_depth_param: 3; score: (0.9995808959908689, 0.968186326733037)\n",
      "max_depth_param: 4; score: (1.0, 0.9687373718820028)\n",
      "[LightGBM] [Warning] Accuracy may be bad since you didn't explicitly set num_leaves OR 2^max_depth > num_leaves. (num_leaves=31).\n"
     ]
    },
    {
     "name": "stdout",
     "output_type": "stream",
     "text": [
      "max_depth_param: 5; score: (1.0, 0.9721905881488556)\n",
      "[LightGBM] [Warning] Accuracy may be bad since you didn't explicitly set num_leaves OR 2^max_depth > num_leaves. (num_leaves=31).\n",
      "max_depth_param: 6; score: (1.0, 0.9701333529260497)\n",
      "[LightGBM] [Warning] Accuracy may be bad since you didn't explicitly set num_leaves OR 2^max_depth > num_leaves. (num_leaves=31).\n",
      "max_depth_param: 7; score: (1.0, 0.9697292531501414)\n",
      "[LightGBM] [Warning] Accuracy may be bad since you didn't explicitly set num_leaves OR 2^max_depth > num_leaves. (num_leaves=31).\n",
      "max_depth_param: 8; score: (1.0, 0.9676352815840711)\n",
      "[LightGBM] [Warning] Accuracy may be bad since you didn't explicitly set num_leaves OR 2^max_depth > num_leaves. (num_leaves=31).\n",
      "max_depth_param: 9; score: (1.0, 0.9702802982991072)\n",
      "[LightGBM] [Warning] Accuracy may be bad since you didn't explicitly set num_leaves OR 2^max_depth > num_leaves. (num_leaves=31).\n",
      "max_depth_param: 10; score: (1.0, 0.9710884978509239)\n",
      "[LightGBM] [Warning] Accuracy may be bad since you didn't explicitly set num_leaves OR 2^max_depth > num_leaves. (num_leaves=31).\n",
      "max_depth_param: 11; score: (1.0, 0.9685904265089454)\n",
      "[LightGBM] [Warning] Accuracy may be bad since you didn't explicitly set num_leaves OR 2^max_depth > num_leaves. (num_leaves=31).\n",
      "max_depth_param: 12; score: (1.0, 0.9685904265089453)\n",
      "[LightGBM] [Warning] Accuracy may be bad since you didn't explicitly set num_leaves OR 2^max_depth > num_leaves. (num_leaves=31).\n",
      "max_depth_param: 13; score: (1.0, 0.97222732449212)\n",
      "[LightGBM] [Warning] Accuracy may be bad since you didn't explicitly set num_leaves OR 2^max_depth > num_leaves. (num_leaves=31).\n",
      "max_depth_param: 14; score: (1.0, 0.9685536901656809)\n",
      "----n_estimators_param: 100----\n",
      "max_depth_param: 3; score: (0.9998840776144956, 0.9679291723301863)\n",
      "max_depth_param: 4; score: (1.0, 0.9700231438962567)\n",
      "[LightGBM] [Warning] Accuracy may be bad since you didn't explicitly set num_leaves OR 2^max_depth > num_leaves. (num_leaves=31).\n",
      "max_depth_param: 5; score: (1.0, 0.9711987068807171)\n",
      "[LightGBM] [Warning] Accuracy may be bad since you didn't explicitly set num_leaves OR 2^max_depth > num_leaves. (num_leaves=31).\n",
      "max_depth_param: 6; score: (1.0, 0.9699496712097277)\n",
      "[LightGBM] [Warning] Accuracy may be bad since you didn't explicitly set num_leaves OR 2^max_depth > num_leaves. (num_leaves=31).\n",
      "max_depth_param: 7; score: (1.0, 0.9699129348664635)\n",
      "[LightGBM] [Warning] Accuracy may be bad since you didn't explicitly set num_leaves OR 2^max_depth > num_leaves. (num_leaves=31).\n",
      "max_depth_param: 8; score: (1.0, 0.9692516806877043)\n",
      "[LightGBM] [Warning] Accuracy may be bad since you didn't explicitly set num_leaves OR 2^max_depth > num_leaves. (num_leaves=31).\n",
      "max_depth_param: 9; score: (1.0, 0.9699864075529923)\n",
      "[LightGBM] [Warning] Accuracy may be bad since you didn't explicitly set num_leaves OR 2^max_depth > num_leaves. (num_leaves=31).\n",
      "max_depth_param: 10; score: (1.0, 0.9700231438962565)\n",
      "[LightGBM] [Warning] Accuracy may be bad since you didn't explicitly set num_leaves OR 2^max_depth > num_leaves. (num_leaves=31).\n",
      "max_depth_param: 11; score: (1.0, 0.9693986260607619)\n",
      "[LightGBM] [Warning] Accuracy may be bad since you didn't explicitly set num_leaves OR 2^max_depth > num_leaves. (num_leaves=31).\n",
      "max_depth_param: 12; score: (1.0, 0.9710884978509241)\n",
      "[LightGBM] [Warning] Accuracy may be bad since you didn't explicitly set num_leaves OR 2^max_depth > num_leaves. (num_leaves=31).\n",
      "max_depth_param: 13; score: (1.0, 0.972411006208442)\n",
      "[LightGBM] [Warning] Accuracy may be bad since you didn't explicitly set num_leaves OR 2^max_depth > num_leaves. (num_leaves=31).\n",
      "max_depth_param: 14; score: (1.0, 0.969398626060762)\n"
     ]
    }
   ],
   "source": [
    "import pandas as pd\n",
    "\n",
    "common_result = []\n",
    "\n",
    "for n_estimators_param in n_estimators_range:\n",
    "    print(\"----n_estimators_param: {0}----\".format(n_estimators_param))\n",
    "    for max_depth_param in max_depth_range:\n",
    "        model_best_lgbm = LGBMClassifier(n_estimators = n_estimators_param, max_depth = max_depth_param, random_state = 42, silent = True)\n",
    "        model_best_lgbm.fit(XTrain_best_lgbm, YTrain)\n",
    "\n",
    "        score = roc_auc_score(YTrain, model_best_lgbm.predict_proba(XTrain_best_lgbm).T[1]), roc_auc_score(YTest, model_best_lgbm.predict_proba(XTest_best_lgbm).T[1])\n",
    "\n",
    "        common_result.append([score[1], (n_estimators_param, max_depth_param)])\n",
    "\n",
    "        print(\"max_depth_param: {0}; score: {1}\".format(max_depth_param, score))"
   ]
  },
  {
   "cell_type": "code",
   "execution_count": 114,
   "metadata": {},
   "outputs": [
    {
     "name": "stdout",
     "output_type": "stream",
     "text": [
      "Max score: 0.972594687924764; Params: n_estimators: 70, max_depth: 10\n"
     ]
    },
    {
     "name": "stderr",
     "output_type": "stream",
     "text": [
      "<ipython-input-114-2724742e8150>:3: VisibleDeprecationWarning: Creating an ndarray from ragged nested sequences (which is a list-or-tuple of lists-or-tuples-or ndarrays with different lengths or shapes) is deprecated. If you meant to do this, you must specify 'dtype=object' when creating the ndarray\n",
      "  common_result_np = np.array(common_result)\n"
     ]
    },
    {
     "data": {
      "text/plain": [
       "[<matplotlib.lines.Line2D at 0x7f034fc8a0d0>]"
      ]
     },
     "execution_count": 114,
     "metadata": {},
     "output_type": "execute_result"
    },
    {
     "data": {
      "image/png": "[encoded data removed]",
      "text/plain": [
       "<Figure size 432x288 with 1 Axes>"
      ]
     },
     "metadata": {
      "needs_background": "light"
     },
     "output_type": "display_data"
    }
   ],
   "source": [
    "max_score = max(list(map(lambda x: x[0], common_result)))\n",
    "\n",
    "common_result_np = np.array(common_result)\n",
    "\n",
    "common_result_pd = pd.Series(list(common_result_np.T[1 :][0].T), index = common_result_np.T[0])\n",
    "\n",
    "print(\"Max score: {0}; Params: n_estimators: {1}, max_depth: {2}\".format(max_score, common_result_pd[max_score][0], common_result_pd[max_score][1]))\n",
    "\n",
    "plt.plot(range(0, len(n_estimators_range) * len(max_depth_range)), list(map(lambda x: x[0], common_result)))"
   ]
  },
  {
   "cell_type": "markdown",
   "metadata": {},
   "source": [
    "### Композиционная модель"
   ]
  },
  {
   "cell_type": "code",
   "execution_count": 182,
   "metadata": {},
   "outputs": [],
   "source": [
    "import numpy as np\n",
    "\n",
    "import json, pickle\n",
    "\n",
    "from sklearn.ensemble import GradientBoostingClassifier\n",
    "from sklearn.ensemble import RandomForestClassifier\n",
    "\n",
    "from catboost import CatBoostClassifier\n",
    "from xgboost import XGBClassifier\n",
    "from lightgbm import LGBMClassifier\n",
    "\n",
    "from sklearn.linear_model import LogisticRegression\n",
    "\n",
    "from sklearn.metrics import roc_auc_score\n",
    "from sklearn.model_selection import train_test_split\n",
    "\n",
    "class Model:\n",
    "    def __init__(self, random_state):\n",
    "        self.random_state = random_state\n",
    "        self.hyperparams = [(100, 9), # RFC\n",
    "                            (1000, 3), # GBR\n",
    "                            (80, 5), # XGB\n",
    "                            (60, 5), # CBC\n",
    "                            (70, 10)] # LGBM\n",
    "        self.models_features = [\n",
    "            [2,  5, 15, 19, 21, 22],\n",
    "            [2,  5,  7, 15, 19, 21, 26],\n",
    "            [0,  2,  5,  7, 11, 15, 16, 19, 21, 22, 25, 26],\n",
    "            [0,  1,  2,  3,  4,  5,  6,  7,  8,  9, 10, 11, 12, 13, 14, 15, 16, 17, 18, 19, 20, 21, 22, 23, 24, 25, 26, 27, 28, 29],\n",
    "            [0,  1,  2,  3,  4,  5,  6,  7,  8,  9, 10, 11, 12, 13, 14, 15, 16, 17, 18, 19, 20, 21, 22, 23, 24, 25, 26, 27, 28, 29]]\n",
    "\n",
    "    def load(self, path_arr):\n",
    "        x_train = []\n",
    "        y_train = []\n",
    "\n",
    "        with open(path_arr[0], \"r\") as file:\n",
    "            x_train = np.array(json.loads(''.join(list(map(lambda x: x.strip(), file.readlines())))))\n",
    "\n",
    "        with open(path_arr[1], \"r\") as file:\n",
    "            y_train = np.array(json.loads(''.join(list(map(lambda x: x.strip(), file.readlines())))))\n",
    "\n",
    "        self.XTrain, self.XComposition, self.YTrain, self.YComposition = train_test_split(x_train, y_train, test_size = 0.5, random_state = 42)\n",
    "\n",
    "    def save(self):\n",
    "        return {\"models_vector\": self.models_vector, \"composition_model\": self.composition_model, \"models_features\": self.models_features}\n",
    "\n",
    "    def train_models(self):\n",
    "        self.model_RFC = RandomForestClassifier(n_estimators = self.hyperparams[0][0], max_depth = self.hyperparams[0][1], random_state = 42)\n",
    "        self.model_RFC.fit(self.XTrain[:, self.models_features[0]], self.YTrain)\n",
    "\n",
    "        print(\"RFR trained\")\n",
    "        print(\"Score: {0} \".format((roc_auc_score(self.YTrain, self.model_RFC.predict_proba(self.XTrain[:, self.models_features[0]]).T[1]), roc_auc_score(self.YComposition, self.model_RFC.predict_proba(self.XComposition[:, self.models_features[0]]).T[1]))))\n",
    "\n",
    "        self.model_GBC = GradientBoostingClassifier(n_estimators = self.hyperparams[1][0], max_depth = self.hyperparams[1][1], random_state = 42)\n",
    "        self.model_GBC.fit(self.XTrain[:, self.models_features[1]], self.YTrain)\n",
    "\n",
    "        print(\"GBC trained\")\n",
    "        print(\"Score: {0} \".format((roc_auc_score(self.YTrain, self.model_GBC.predict_proba(self.XTrain[:, self.models_features[1]]).T[1]), roc_auc_score(self.YComposition, self.model_GBC.predict_proba(self.XComposition[:, self.models_features[1]]).T[1]))))\n",
    "\n",
    "        self.model_XGB = XGBClassifier(n_estimators = self.hyperparams[2][0], max_depth = self.hyperparams[2][1], random_state = 42)\n",
    "        self.model_XGB.fit(self.XTrain[:, self.models_features[2]], self.YTrain)\n",
    "\n",
    "        print(\"XGB trained\")\n",
    "        print(\"Score: {0} \".format((roc_auc_score(self.YTrain, self.model_XGB.predict_proba(self.XTrain[:, self.models_features[2]]).T[1]), roc_auc_score(self.YComposition, self.model_XGB.predict_proba(self.XComposition[:, self.models_features[2]]).T[1]))))\n",
    "\n",
    "        self.model_CBC = CatBoostClassifier(n_estimators = self.hyperparams[3][0], max_depth = self.hyperparams[3][1], random_state = 42, silent = True)\n",
    "        self.model_CBC.fit(self.XTrain[:, self.models_features[3]], self.YTrain)\n",
    "\n",
    "        print(\"CBC trained\")\n",
    "        print(\"Score: {0} \".format((roc_auc_score(self.YTrain, self.model_CBC.predict_proba(self.XTrain[:, self.models_features[3]]).T[1]), roc_auc_score(self.YComposition, self.model_CBC.predict_proba(self.XComposition[:, self.models_features[3]]).T[1]))))\n",
    "\n",
    "        self.model_LGBM = LGBMClassifier(n_estimators = self.hyperparams[4][0], max_depth = self.hyperparams[4][1], random_state = 42)\n",
    "        self.model_LGBM.fit(self.XTrain[:, self.models_features[4]], self.YTrain)\n",
    "\n",
    "        print(\"LGBM trained\")\n",
    "        print(\"Score: {0} \".format((roc_auc_score(self.YTrain, self.model_LGBM.predict_proba(self.XTrain[:, self.models_features[4]]).T[1]), roc_auc_score(self.YComposition, self.model_LGBM.predict_proba(self.XComposition[:, self.models_features[4]]).T[1]))))\n",
    "\n",
    "        self.models_vector = np.array([self.model_RFC, self.model_GBC, self.model_XGB, self.model_CBC, self.model_LGBM], dtype = object)\n",
    "\n",
    "    def composition_predict(self, X):\n",
    "        return np.array([self.models_vector[modelIndex].predict(X[:, self.models_features[modelIndex]]) for modelIndex in range(len(self.models_vector))])\n",
    "\n",
    "    def composition_predict_proba(self, X):\n",
    "        return np.array([self.models_vector[modelIndex].predict_proba(X[:, self.models_features[modelIndex]]).T[1] for modelIndex in range(len(self.models_vector))])\n",
    "\n",
    "    def composition_models(self):\n",
    "        self.composition_arr = self.composition_predict_proba(self.XComposition).T\n",
    "\n",
    "        self.composition_model = LogisticRegression().fit(self.composition_arr, self.YComposition)\n",
    "\n",
    "    def fit(self):\n",
    "        self.train_models()\n",
    "        print(\"training completed\")\n",
    "        self.composition_models()\n",
    "        \n",
    "        print(\"Score: {0} \".format((roc_auc_score(self.YTrain, self.predict_proba(self.XTrain)), roc_auc_score(self.YComposition, self.predict_proba(self.XComposition)))))\n",
    "\n",
    "    def predict(self, X):\n",
    "        enter_composition = self.composition_predict(X).T\n",
    "\n",
    "        return self.composition_model.predict(enter_composition)\n",
    "\n",
    "    def predict_proba(self, X):\n",
    "        enter_composition = self.composition_predict_proba(X).T\n",
    "\n",
    "        return self.composition_model.predict_proba(enter_composition).T[1]"
   ]
  },
  {
   "cell_type": "code",
   "execution_count": 183,
   "metadata": {},
   "outputs": [
    {
     "name": "stdout",
     "output_type": "stream",
     "text": [
      "---datasets loaded---\n",
      "RFR trained\n",
      "Score: (1.0, 0.9667088546756596) \n",
      "GBC trained\n",
      "Score: (1.0, 0.9593553245005527) \n",
      "XGB trained\n",
      "Score: (1.0, 0.9614860859674138) \n",
      "CBC trained\n",
      "Score: (0.9995813204508857, 0.9606209647703423) \n",
      "[LightGBM] [Warning] Accuracy may be bad since you didn't explicitly set num_leaves OR 2^max_depth > num_leaves. (num_leaves=31).\n",
      "LGBM trained\n",
      "Score: (1.0, 0.9536999951937711) \n",
      "training completed\n",
      "Score: (1.0, 0.966100065685128) \n",
      "---models fitted---\n"
     ]
    }
   ],
   "source": [
    "model_comp = Model(random_state = 42)\n",
    "\n",
    "model_comp.load([\"data/x_train.txt\", \"data/y_train.txt\"])\n",
    "print(\"---datasets loaded---\")\n",
    "\n",
    "model_comp.fit()\n",
    "print(\"---models fitted---\")\n",
    "\n",
    "data = model_comp.save()\n",
    "\n",
    "with open(\"model.pkl\", \"wb\") as file:\n",
    "    pickle.dump(data, file)"
   ]
  }
 ],
 "metadata": {
  "kernelspec": {
   "display_name": "Python 3",
   "language": "python",
   "name": "python3"
  },
  "language_info": {
   "codemirror_mode": {
    "name": "ipython",
    "version": 3
   },
   "file_extension": ".py",
   "mimetype": "text/x-python",
   "name": "python",
   "nbconvert_exporter": "python",
   "pygments_lexer": "ipython3",
   "version": "3.8.3"
  }
 },
 "nbformat": 4,
 "nbformat_minor": 4
}
