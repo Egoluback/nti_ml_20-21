{
 "cells": [
  {
   "cell_type": "code",
   "execution_count": 33,
   "metadata": {},
   "outputs": [],
   "source": [
    "import numpy as np\n",
    "\n",
    "import json\n",
    "\n",
    "x_train = []\n",
    "y_train = []\n",
    "\n",
    "with open(\"data/x_train.txt\", \"r\") as file:\n",
    "    x_train = np.array(json.loads(''.join(list(map(lambda x: x.strip(), file.readlines())))))\n",
    "\n",
    "with open(\"data/y_train.txt\", \"r\") as file:\n",
    "    y_train = np.array(json.loads(''.join(list(map(lambda x: x.strip(), file.readlines())))))"
   ]
  },
  {
   "cell_type": "code",
   "execution_count": 73,
   "metadata": {},
   "outputs": [],
   "source": [
    "from sklearn.ensemble import GradientBoostingRegressor\n",
    "from sklearn.ensemble import RandomForestRegressor\n",
    "\n",
    "from xgboost import XGBRegressor\n",
    "\n",
    "from sklearn.metrics import r2_score\n",
    "from sklearn.model_selection import train_test_split\n",
    "\n",
    "XTrain, XTest, YTrain, YTest = train_test_split(x_train, y_train, test_size = 0.33, random_state = 42)"
   ]
  },
  {
   "cell_type": "code",
   "execution_count": 76,
   "metadata": {},
   "outputs": [
    {
     "data": {
      "text/plain": [
       "(0.9580195303698033, 0.7434262677923976)"
      ]
     },
     "execution_count": 76,
     "metadata": {},
     "output_type": "execute_result"
    }
   ],
   "source": [
    "model_RFR = RandomForestRegressor(n_estimators = 200, max_depth = 10, random_state = 42)\n",
    "model_RFR.fit(XTrain, YTrain)\n",
    "\n",
    "r2_score(YTrain, model_RFR.predict(XTrain)), r2_score(YTest, model_RFR.predict(XTest))"
   ]
  },
  {
   "cell_type": "code",
   "execution_count": 77,
   "metadata": {},
   "outputs": [
    {
     "data": {
      "text/plain": [
       "(0.9880274848174381, 0.6017346275537876)"
      ]
     },
     "execution_count": 77,
     "metadata": {},
     "output_type": "execute_result"
    }
   ],
   "source": [
    "model_GBR = GradientBoostingRegressor(n_estimators = 21, max_depth = 25, random_state = 42)\n",
    "model_GBR.fit(XTrain, YTrain)\n",
    "\n",
    "r2_score(YTrain, model_GBR.predict(XTrain)), r2_score(YTest, model_GBR.predict(XTest))"
   ]
  },
  {
   "cell_type": "code",
   "execution_count": 90,
   "metadata": {},
   "outputs": [
    {
     "data": {
      "text/plain": [
       "(0.9999993635708253, 0.6796256508390897)"
      ]
     },
     "execution_count": 90,
     "metadata": {},
     "output_type": "execute_result"
    }
   ],
   "source": [
    "model_XGB = XGBRegressor(n_estimators = 100, max_depth = 100, random_state = 42)\n",
    "model_XGB.fit(XTrain, YTrain)\n",
    "\n",
    "r2_score(YTrain, model_XGB.predict(XTrain)), r2_score(YTest, model_XGB.predict(XTest))"
   ]
  }
 ],
 "metadata": {
  "kernelspec": {
   "display_name": "Python 3",
   "language": "python",
   "name": "python3"
  },
  "language_info": {
   "codemirror_mode": {
    "name": "ipython",
    "version": 3
   },
   "file_extension": ".py",
   "mimetype": "text/x-python",
   "name": "python",
   "nbconvert_exporter": "python",
   "pygments_lexer": "ipython3",
   "version": "3.8.3"
  }
 },
 "nbformat": 4,
 "nbformat_minor": 4
}
